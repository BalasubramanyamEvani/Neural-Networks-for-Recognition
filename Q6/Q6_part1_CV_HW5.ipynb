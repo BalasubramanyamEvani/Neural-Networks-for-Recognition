{
  "nbformat": 4,
  "nbformat_minor": 0,
  "metadata": {
    "colab": {
      "provenance": []
    },
    "kernelspec": {
      "name": "python3",
      "display_name": "Python 3"
    },
    "language_info": {
      "name": "python"
    },
    "accelerator": "GPU",
    "gpuClass": "standard"
  },
  "cells": [
    {
      "cell_type": "code",
      "source": [
        "!nvidia-smi"
      ],
      "metadata": {
        "colab": {
          "base_uri": "https://localhost:8080/"
        },
        "id": "Njs3r8ebckoZ",
        "outputId": "28df7a38-8521-45c7-8be8-e36e9715399a"
      },
      "execution_count": 1,
      "outputs": [
        {
          "output_type": "stream",
          "name": "stdout",
          "text": [
            "Sun Apr 30 03:18:57 2023       \n",
            "+-----------------------------------------------------------------------------+\n",
            "| NVIDIA-SMI 525.85.12    Driver Version: 525.85.12    CUDA Version: 12.0     |\n",
            "|-------------------------------+----------------------+----------------------+\n",
            "| GPU  Name        Persistence-M| Bus-Id        Disp.A | Volatile Uncorr. ECC |\n",
            "| Fan  Temp  Perf  Pwr:Usage/Cap|         Memory-Usage | GPU-Util  Compute M. |\n",
            "|                               |                      |               MIG M. |\n",
            "|===============================+======================+======================|\n",
            "|   0  Tesla T4            Off  | 00000000:00:04.0 Off |                    0 |\n",
            "| N/A   46C    P8     9W /  70W |      0MiB / 15360MiB |      0%      Default |\n",
            "|                               |                      |                  N/A |\n",
            "+-------------------------------+----------------------+----------------------+\n",
            "                                                                               \n",
            "+-----------------------------------------------------------------------------+\n",
            "| Processes:                                                                  |\n",
            "|  GPU   GI   CI        PID   Type   Process name                  GPU Memory |\n",
            "|        ID   ID                                                   Usage      |\n",
            "|=============================================================================|\n",
            "|  No running processes found                                                 |\n",
            "+-----------------------------------------------------------------------------+\n"
          ]
        }
      ]
    },
    {
      "cell_type": "code",
      "source": [
        "!pip install torchsummaryX"
      ],
      "metadata": {
        "colab": {
          "base_uri": "https://localhost:8080/"
        },
        "id": "dS2QYkJ_ok7f",
        "outputId": "c3f6824c-72f3-48d0-fb83-4c3365c517d4"
      },
      "execution_count": 2,
      "outputs": [
        {
          "output_type": "stream",
          "name": "stdout",
          "text": [
            "Looking in indexes: https://pypi.org/simple, https://us-python.pkg.dev/colab-wheels/public/simple/\n",
            "Collecting torchsummaryX\n",
            "  Downloading torchsummaryX-1.3.0-py3-none-any.whl (3.6 kB)\n",
            "Requirement already satisfied: numpy in /usr/local/lib/python3.10/dist-packages (from torchsummaryX) (1.22.4)\n",
            "Requirement already satisfied: torch in /usr/local/lib/python3.10/dist-packages (from torchsummaryX) (2.0.0+cu118)\n",
            "Requirement already satisfied: pandas in /usr/local/lib/python3.10/dist-packages (from torchsummaryX) (1.5.3)\n",
            "Requirement already satisfied: python-dateutil>=2.8.1 in /usr/local/lib/python3.10/dist-packages (from pandas->torchsummaryX) (2.8.2)\n",
            "Requirement already satisfied: pytz>=2020.1 in /usr/local/lib/python3.10/dist-packages (from pandas->torchsummaryX) (2022.7.1)\n",
            "Requirement already satisfied: sympy in /usr/local/lib/python3.10/dist-packages (from torch->torchsummaryX) (1.11.1)\n",
            "Requirement already satisfied: triton==2.0.0 in /usr/local/lib/python3.10/dist-packages (from torch->torchsummaryX) (2.0.0)\n",
            "Requirement already satisfied: filelock in /usr/local/lib/python3.10/dist-packages (from torch->torchsummaryX) (3.12.0)\n",
            "Requirement already satisfied: jinja2 in /usr/local/lib/python3.10/dist-packages (from torch->torchsummaryX) (3.1.2)\n",
            "Requirement already satisfied: typing-extensions in /usr/local/lib/python3.10/dist-packages (from torch->torchsummaryX) (4.5.0)\n",
            "Requirement already satisfied: networkx in /usr/local/lib/python3.10/dist-packages (from torch->torchsummaryX) (3.1)\n",
            "Requirement already satisfied: cmake in /usr/local/lib/python3.10/dist-packages (from triton==2.0.0->torch->torchsummaryX) (3.25.2)\n",
            "Requirement already satisfied: lit in /usr/local/lib/python3.10/dist-packages (from triton==2.0.0->torch->torchsummaryX) (16.0.2)\n",
            "Requirement already satisfied: six>=1.5 in /usr/local/lib/python3.10/dist-packages (from python-dateutil>=2.8.1->pandas->torchsummaryX) (1.16.0)\n",
            "Requirement already satisfied: MarkupSafe>=2.0 in /usr/local/lib/python3.10/dist-packages (from jinja2->torch->torchsummaryX) (2.1.2)\n",
            "Requirement already satisfied: mpmath>=0.19 in /usr/local/lib/python3.10/dist-packages (from sympy->torch->torchsummaryX) (1.3.0)\n",
            "Installing collected packages: torchsummaryX\n",
            "Successfully installed torchsummaryX-1.3.0\n"
          ]
        }
      ]
    },
    {
      "cell_type": "code",
      "execution_count": 3,
      "metadata": {
        "id": "KIm-u5bFboN9"
      },
      "outputs": [],
      "source": [
        "import torch\n",
        "import os\n",
        "import gc\n",
        "from tqdm import tqdm\n",
        "import numpy as np\n",
        "import scipy\n",
        "from torchsummaryX import summary\n",
        "import torchvision\n",
        "import torchvision.transforms as transforms\n",
        "import matplotlib.pyplot as plt"
      ]
    },
    {
      "cell_type": "code",
      "source": [
        "device = \"cuda\" if torch.cuda.is_available() else \"cpu\"\n",
        "print(\"Device: \", device)"
      ],
      "metadata": {
        "colab": {
          "base_uri": "https://localhost:8080/"
        },
        "id": "J_HAZ8VhczBT",
        "outputId": "611cfe05-23a7-4973-f4c0-92ae61689597"
      },
      "execution_count": 4,
      "outputs": [
        {
          "output_type": "stream",
          "name": "stdout",
          "text": [
            "Device:  cuda\n"
          ]
        }
      ]
    },
    {
      "cell_type": "markdown",
      "source": [
        "# NIST36 Dataset"
      ],
      "metadata": {
        "id": "22Wqi_KwB3bj"
      }
    },
    {
      "cell_type": "code",
      "source": [
        "train_data_path = \"./nist36_train.mat\"\n",
        "val_data_path = \"./nist36_valid.mat\"\n",
        "test_data_path = \"./nist36_test.mat\""
      ],
      "metadata": {
        "id": "DSQkaiXucZxO"
      },
      "execution_count": 5,
      "outputs": []
    },
    {
      "cell_type": "code",
      "source": [
        "class NISTDataset(torch.utils.data.Dataset):\n",
        "    def __init__(self, data_path, type=\"train\"):\n",
        "        data = scipy.io.loadmat(data_path)\n",
        "        x_key, y_key = f\"{type}_data\", f\"{type}_labels\"\n",
        "        self.x, self.y = data[x_key], data[y_key]\n",
        "\n",
        "    def __len__(self):\n",
        "        return len(self.x)\n",
        "    \n",
        "    def __getitem__(self, idx):\n",
        "      return torch.from_numpy(self.x[idx]).to(torch.float32), torch.from_numpy(self.y[idx]).to(torch.float32)"
      ],
      "metadata": {
        "id": "FDE2dzVjc47i"
      },
      "execution_count": 6,
      "outputs": []
    },
    {
      "cell_type": "code",
      "source": [
        "max_iters = 50\n",
        "batch_size = 128\n",
        "learning_rate = 5e-3"
      ],
      "metadata": {
        "id": "qldV02UEerez"
      },
      "execution_count": 8,
      "outputs": []
    },
    {
      "cell_type": "code",
      "source": [
        "train_dataset = NISTDataset(train_data_path)\n",
        "train_loader = torch.utils.data.DataLoader(\n",
        "    train_dataset, \n",
        "    batch_size=batch_size, \n",
        "    shuffle=True,\n",
        "    drop_last=False, \n",
        "    num_workers=2\n",
        ")\n",
        "\n",
        "\n",
        "val_dataset = NISTDataset(val_data_path, type=\"valid\")\n",
        "val_loader = torch.utils.data.DataLoader(\n",
        "    val_dataset, \n",
        "    batch_size=batch_size, \n",
        "    shuffle=False,\n",
        "    drop_last=False, \n",
        "    num_workers=2\n",
        ")\n",
        "\n",
        "\n",
        "test_dataset = NISTDataset(test_data_path, type=\"test\")\n",
        "test_loader = torch.utils.data.DataLoader(\n",
        "    test_dataset, \n",
        "    batch_size=batch_size, \n",
        "    shuffle=False,\n",
        "    drop_last=False, \n",
        "    num_workers=2\n",
        ")"
      ],
      "metadata": {
        "id": "jS1j5WoLeGma"
      },
      "execution_count": 9,
      "outputs": []
    },
    {
      "cell_type": "code",
      "source": [
        "class MLPNet(torch.nn.Module):\n",
        "  def __init__(self, input_size=1024, output_size=36):\n",
        "     super(MLPNet, self).__init__()\n",
        "     self.model = torch.nn.Sequential(\n",
        "         torch.nn.Linear(in_features=input_size, out_features=256),\n",
        "         torch.nn.Sigmoid(),\n",
        "         torch.nn.Linear(in_features=256, out_features=output_size)\n",
        "     )\n",
        "  \n",
        "  def forward(self, x):\n",
        "    out = self.model(x)\n",
        "    return out\n"
      ],
      "metadata": {
        "id": "28R4TAkLevT5"
      },
      "execution_count": 11,
      "outputs": []
    },
    {
      "cell_type": "code",
      "source": [
        "mlpmodel = MLPNet().to(device)\n",
        "imgs, labels = next(iter(train_loader))\n",
        "summary(mlpmodel, imgs.to(device))"
      ],
      "metadata": {
        "colab": {
          "base_uri": "https://localhost:8080/",
          "height": 466
        },
        "id": "jhNY4y-agycw",
        "outputId": "495084ea-65be-4cd2-834f-71f8a562403f"
      },
      "execution_count": 12,
      "outputs": [
        {
          "output_type": "stream",
          "name": "stdout",
          "text": [
            "================================================================\n",
            "                  Kernel Shape Output Shape  Params Mult-Adds\n",
            "Layer                                                        \n",
            "0_model.Linear_0   [1024, 256]   [128, 256]  262.4k  262.144k\n",
            "1_model.Sigmoid_1            -   [128, 256]       -         -\n",
            "2_model.Linear_2     [256, 36]    [128, 36]  9.252k    9.216k\n",
            "----------------------------------------------------------------\n",
            "                        Totals\n",
            "Total params          271.652k\n",
            "Trainable params      271.652k\n",
            "Non-trainable params       0.0\n",
            "Mult-Adds              271.36k\n",
            "================================================================\n"
          ]
        },
        {
          "output_type": "stream",
          "name": "stderr",
          "text": [
            "/usr/local/lib/python3.10/dist-packages/torchsummaryX/torchsummaryX.py:101: FutureWarning: The default value of numeric_only in DataFrame.sum is deprecated. In a future version, it will default to False. In addition, specifying 'numeric_only=None' is deprecated. Select only valid columns or specify the value of numeric_only to silence this warning.\n",
            "  df_sum = df.sum()\n"
          ]
        },
        {
          "output_type": "execute_result",
          "data": {
            "text/plain": [
              "                  Kernel Shape Output Shape    Params  Mult-Adds\n",
              "Layer                                                           \n",
              "0_model.Linear_0   [1024, 256]   [128, 256]  262400.0   262144.0\n",
              "1_model.Sigmoid_1            -   [128, 256]       NaN        NaN\n",
              "2_model.Linear_2     [256, 36]    [128, 36]    9252.0     9216.0"
            ],
            "text/html": [
              "\n",
              "  <div id=\"df-409623f9-ea12-498d-beb4-317b52cbc2bf\">\n",
              "    <div class=\"colab-df-container\">\n",
              "      <div>\n",
              "<style scoped>\n",
              "    .dataframe tbody tr th:only-of-type {\n",
              "        vertical-align: middle;\n",
              "    }\n",
              "\n",
              "    .dataframe tbody tr th {\n",
              "        vertical-align: top;\n",
              "    }\n",
              "\n",
              "    .dataframe thead th {\n",
              "        text-align: right;\n",
              "    }\n",
              "</style>\n",
              "<table border=\"1\" class=\"dataframe\">\n",
              "  <thead>\n",
              "    <tr style=\"text-align: right;\">\n",
              "      <th></th>\n",
              "      <th>Kernel Shape</th>\n",
              "      <th>Output Shape</th>\n",
              "      <th>Params</th>\n",
              "      <th>Mult-Adds</th>\n",
              "    </tr>\n",
              "    <tr>\n",
              "      <th>Layer</th>\n",
              "      <th></th>\n",
              "      <th></th>\n",
              "      <th></th>\n",
              "      <th></th>\n",
              "    </tr>\n",
              "  </thead>\n",
              "  <tbody>\n",
              "    <tr>\n",
              "      <th>0_model.Linear_0</th>\n",
              "      <td>[1024, 256]</td>\n",
              "      <td>[128, 256]</td>\n",
              "      <td>262400.0</td>\n",
              "      <td>262144.0</td>\n",
              "    </tr>\n",
              "    <tr>\n",
              "      <th>1_model.Sigmoid_1</th>\n",
              "      <td>-</td>\n",
              "      <td>[128, 256]</td>\n",
              "      <td>NaN</td>\n",
              "      <td>NaN</td>\n",
              "    </tr>\n",
              "    <tr>\n",
              "      <th>2_model.Linear_2</th>\n",
              "      <td>[256, 36]</td>\n",
              "      <td>[128, 36]</td>\n",
              "      <td>9252.0</td>\n",
              "      <td>9216.0</td>\n",
              "    </tr>\n",
              "  </tbody>\n",
              "</table>\n",
              "</div>\n",
              "      <button class=\"colab-df-convert\" onclick=\"convertToInteractive('df-409623f9-ea12-498d-beb4-317b52cbc2bf')\"\n",
              "              title=\"Convert this dataframe to an interactive table.\"\n",
              "              style=\"display:none;\">\n",
              "        \n",
              "  <svg xmlns=\"http://www.w3.org/2000/svg\" height=\"24px\"viewBox=\"0 0 24 24\"\n",
              "       width=\"24px\">\n",
              "    <path d=\"M0 0h24v24H0V0z\" fill=\"none\"/>\n",
              "    <path d=\"M18.56 5.44l.94 2.06.94-2.06 2.06-.94-2.06-.94-.94-2.06-.94 2.06-2.06.94zm-11 1L8.5 8.5l.94-2.06 2.06-.94-2.06-.94L8.5 2.5l-.94 2.06-2.06.94zm10 10l.94 2.06.94-2.06 2.06-.94-2.06-.94-.94-2.06-.94 2.06-2.06.94z\"/><path d=\"M17.41 7.96l-1.37-1.37c-.4-.4-.92-.59-1.43-.59-.52 0-1.04.2-1.43.59L10.3 9.45l-7.72 7.72c-.78.78-.78 2.05 0 2.83L4 21.41c.39.39.9.59 1.41.59.51 0 1.02-.2 1.41-.59l7.78-7.78 2.81-2.81c.8-.78.8-2.07 0-2.86zM5.41 20L4 18.59l7.72-7.72 1.47 1.35L5.41 20z\"/>\n",
              "  </svg>\n",
              "      </button>\n",
              "      \n",
              "  <style>\n",
              "    .colab-df-container {\n",
              "      display:flex;\n",
              "      flex-wrap:wrap;\n",
              "      gap: 12px;\n",
              "    }\n",
              "\n",
              "    .colab-df-convert {\n",
              "      background-color: #E8F0FE;\n",
              "      border: none;\n",
              "      border-radius: 50%;\n",
              "      cursor: pointer;\n",
              "      display: none;\n",
              "      fill: #1967D2;\n",
              "      height: 32px;\n",
              "      padding: 0 0 0 0;\n",
              "      width: 32px;\n",
              "    }\n",
              "\n",
              "    .colab-df-convert:hover {\n",
              "      background-color: #E2EBFA;\n",
              "      box-shadow: 0px 1px 2px rgba(60, 64, 67, 0.3), 0px 1px 3px 1px rgba(60, 64, 67, 0.15);\n",
              "      fill: #174EA6;\n",
              "    }\n",
              "\n",
              "    [theme=dark] .colab-df-convert {\n",
              "      background-color: #3B4455;\n",
              "      fill: #D2E3FC;\n",
              "    }\n",
              "\n",
              "    [theme=dark] .colab-df-convert:hover {\n",
              "      background-color: #434B5C;\n",
              "      box-shadow: 0px 1px 3px 1px rgba(0, 0, 0, 0.15);\n",
              "      filter: drop-shadow(0px 1px 2px rgba(0, 0, 0, 0.3));\n",
              "      fill: #FFFFFF;\n",
              "    }\n",
              "  </style>\n",
              "\n",
              "      <script>\n",
              "        const buttonEl =\n",
              "          document.querySelector('#df-409623f9-ea12-498d-beb4-317b52cbc2bf button.colab-df-convert');\n",
              "        buttonEl.style.display =\n",
              "          google.colab.kernel.accessAllowed ? 'block' : 'none';\n",
              "\n",
              "        async function convertToInteractive(key) {\n",
              "          const element = document.querySelector('#df-409623f9-ea12-498d-beb4-317b52cbc2bf');\n",
              "          const dataTable =\n",
              "            await google.colab.kernel.invokeFunction('convertToInteractive',\n",
              "                                                     [key], {});\n",
              "          if (!dataTable) return;\n",
              "\n",
              "          const docLinkHtml = 'Like what you see? Visit the ' +\n",
              "            '<a target=\"_blank\" href=https://colab.research.google.com/notebooks/data_table.ipynb>data table notebook</a>'\n",
              "            + ' to learn more about interactive tables.';\n",
              "          element.innerHTML = '';\n",
              "          dataTable['output_type'] = 'display_data';\n",
              "          await google.colab.output.renderOutput(dataTable, element);\n",
              "          const docLink = document.createElement('div');\n",
              "          docLink.innerHTML = docLinkHtml;\n",
              "          element.appendChild(docLink);\n",
              "        }\n",
              "      </script>\n",
              "    </div>\n",
              "  </div>\n",
              "  "
            ]
          },
          "metadata": {},
          "execution_count": 12
        }
      ]
    },
    {
      "cell_type": "code",
      "source": [
        "torch.cuda.empty_cache()\n",
        "gc.collect()"
      ],
      "metadata": {
        "colab": {
          "base_uri": "https://localhost:8080/"
        },
        "id": "IDbDe5XvhMpp",
        "outputId": "a5a5d77b-3c37-4d96-8b48-8a19f02cb259"
      },
      "execution_count": 13,
      "outputs": [
        {
          "output_type": "execute_result",
          "data": {
            "text/plain": [
              "0"
            ]
          },
          "metadata": {},
          "execution_count": 13
        }
      ]
    },
    {
      "cell_type": "code",
      "source": [
        "criterion = torch.nn.CrossEntropyLoss()\n",
        "optimizer = torch.optim.SGD(mlpmodel.parameters(), lr=learning_rate, momentum=0.9)"
      ],
      "metadata": {
        "id": "gyhfizoSidMe"
      },
      "execution_count": 14,
      "outputs": []
    },
    {
      "cell_type": "code",
      "source": [
        "def train(model, optimizer, criterion, dataloader, conv=False):\n",
        "    model.train()\n",
        "    train_loss = 0.0\n",
        "    train_acc = 0.0\n",
        "    total_instances = 0\n",
        "    for iter, (xb, yb) in enumerate(dataloader):\n",
        "      if conv:\n",
        "        xb = torch.reshape(xb, (xb.shape[0], 32, 32)).permute(0, 2, 1).unsqueeze(dim=1)\n",
        "      xb = xb.to(device)\n",
        "      yb = yb.to(device)\n",
        "      true_labels = torch.nonzero(yb.detach(), as_tuple=True)[1]\n",
        "      \n",
        "      logits = model(xb)\n",
        "      loss = criterion(logits, true_labels)\n",
        "      \n",
        "      train_loss += loss.item()\n",
        "      train_acc += (torch.argmax(logits, dim=1) == true_labels).sum().item()\n",
        "      \n",
        "      optimizer.zero_grad()\n",
        "      \n",
        "      loss.backward()\n",
        "      optimizer.step()\n",
        "\n",
        "      total_instances += len(xb)\n",
        "\n",
        "    train_loss /= len(dataloader)\n",
        "    train_acc /= total_instances\n",
        "    return train_loss, train_acc\n",
        "\n",
        "\n",
        "def eval(model, criterion, dataloader, conv=False):\n",
        "    model.eval()\n",
        "    val_loss = 0.0\n",
        "    val_acc = 0.0\n",
        "    total_instances = 0\n",
        "    with torch.inference_mode():\n",
        "      for i, (xb, yb) in enumerate(dataloader):\n",
        "        if conv:\n",
        "          xb = torch.reshape(xb, (xb.shape[0], 32, 32)).permute(0, 2, 1).unsqueeze(dim=1)\n",
        "        xb = xb.to(device)\n",
        "        yb = yb.to(device)\n",
        "        true_labels = torch.nonzero(yb.detach(), as_tuple=True)[1]    \n",
        "        \n",
        "        logits = model(xb)\n",
        "        loss = criterion(logits, true_labels)\n",
        "        \n",
        "        val_loss += loss.item()\n",
        "        val_acc += (torch.argmax(logits, dim=1) == true_labels).sum().item()\n",
        "        total_instances += len(xb)\n",
        "\n",
        "    val_loss /= len(dataloader)\n",
        "    val_acc /= total_instances\n",
        "    return val_loss, val_acc"
      ],
      "metadata": {
        "id": "NPqr5mnWhPnj"
      },
      "execution_count": 15,
      "outputs": []
    },
    {
      "cell_type": "code",
      "source": [
        "torch.cuda.empty_cache()\n",
        "best_acc = 0.0\n",
        "\n",
        "train_losses = []\n",
        "train_accs = []\n",
        "\n",
        "val_losses = []\n",
        "val_accs = []\n",
        "\n",
        "checkpoint_path = \"./mlp_model_checkpoint.pth\"\n",
        "\n",
        "for epoch in tqdm(range(max_iters)):\n",
        "    train_loss, train_accuracy = train(mlpmodel, optimizer, criterion, train_loader)\n",
        "    val_loss, val_accuracy = eval(mlpmodel, criterion, val_loader)\n",
        "    \n",
        "    train_losses.append(train_loss)\n",
        "    train_accs.append(train_accuracy)\n",
        "\n",
        "    val_losses.append(val_loss)\n",
        "    val_accs.append(val_accuracy)\n",
        "\n",
        "    print(\"Epoch {}/{} | Train Loss: {:.4f} | Train Accuracy: {:.2f} | Validation Accuracy: {:.2f}\".format(epoch+1, max_iters, train_loss, train_accuracy, val_accuracy))\n",
        "    if val_accuracy > best_acc:\n",
        "      best_acc = val_accuracy\n",
        "      torch.save({\n",
        "          \"epoch\": epoch,\n",
        "          \"model_state_dict\": mlpmodel.state_dict(),\n",
        "          \"optimizer_state_dict\": optimizer.state_dict(),\n",
        "          \"loss\": train_loss,\n",
        "          \"val_acc\": val_accuracy}, checkpoint_path)\n"
      ],
      "metadata": {
        "colab": {
          "base_uri": "https://localhost:8080/"
        },
        "id": "oliPsmFTklmR",
        "outputId": "807cff26-efae-4ff7-8888-576df77e5c75"
      },
      "execution_count": 16,
      "outputs": [
        {
          "output_type": "stream",
          "name": "stderr",
          "text": [
            "  2%|▏         | 1/50 [00:00<00:46,  1.05it/s]"
          ]
        },
        {
          "output_type": "stream",
          "name": "stdout",
          "text": [
            "Epoch 1/50 | Train Loss: 3.5817 | Train Accuracy: 0.03 | Validation Accuracy: 0.03\n"
          ]
        },
        {
          "output_type": "stream",
          "name": "stderr",
          "text": [
            "\r  4%|▍         | 2/50 [00:01<00:45,  1.06it/s]"
          ]
        },
        {
          "output_type": "stream",
          "name": "stdout",
          "text": [
            "Epoch 2/50 | Train Loss: 3.5477 | Train Accuracy: 0.06 | Validation Accuracy: 0.15\n"
          ]
        },
        {
          "output_type": "stream",
          "name": "stderr",
          "text": [
            "\r  6%|▌         | 3/50 [00:02<00:44,  1.07it/s]"
          ]
        },
        {
          "output_type": "stream",
          "name": "stdout",
          "text": [
            "Epoch 3/50 | Train Loss: 3.5094 | Train Accuracy: 0.10 | Validation Accuracy: 0.12\n"
          ]
        },
        {
          "output_type": "stream",
          "name": "stderr",
          "text": [
            "\r  8%|▊         | 4/50 [00:03<00:42,  1.08it/s]"
          ]
        },
        {
          "output_type": "stream",
          "name": "stdout",
          "text": [
            "Epoch 4/50 | Train Loss: 3.4626 | Train Accuracy: 0.18 | Validation Accuracy: 0.20\n"
          ]
        },
        {
          "output_type": "stream",
          "name": "stderr",
          "text": [
            "\r 10%|█         | 5/50 [00:04<00:41,  1.08it/s]"
          ]
        },
        {
          "output_type": "stream",
          "name": "stdout",
          "text": [
            "Epoch 5/50 | Train Loss: 3.3980 | Train Accuracy: 0.24 | Validation Accuracy: 0.23\n"
          ]
        },
        {
          "output_type": "stream",
          "name": "stderr",
          "text": [
            "\r 12%|█▏        | 6/50 [00:05<00:40,  1.09it/s]"
          ]
        },
        {
          "output_type": "stream",
          "name": "stdout",
          "text": [
            "Epoch 6/50 | Train Loss: 3.3152 | Train Accuracy: 0.31 | Validation Accuracy: 0.33\n"
          ]
        },
        {
          "output_type": "stream",
          "name": "stderr",
          "text": [
            "\r 14%|█▍        | 7/50 [00:06<00:39,  1.09it/s]"
          ]
        },
        {
          "output_type": "stream",
          "name": "stdout",
          "text": [
            "Epoch 7/50 | Train Loss: 3.2111 | Train Accuracy: 0.33 | Validation Accuracy: 0.37\n"
          ]
        },
        {
          "output_type": "stream",
          "name": "stderr",
          "text": [
            "\r 16%|█▌        | 8/50 [00:07<00:38,  1.10it/s]"
          ]
        },
        {
          "output_type": "stream",
          "name": "stdout",
          "text": [
            "Epoch 8/50 | Train Loss: 3.0875 | Train Accuracy: 0.37 | Validation Accuracy: 0.40\n"
          ]
        },
        {
          "output_type": "stream",
          "name": "stderr",
          "text": [
            "\r 18%|█▊        | 9/50 [00:08<00:36,  1.11it/s]"
          ]
        },
        {
          "output_type": "stream",
          "name": "stdout",
          "text": [
            "Epoch 9/50 | Train Loss: 2.9522 | Train Accuracy: 0.41 | Validation Accuracy: 0.39\n"
          ]
        },
        {
          "output_type": "stream",
          "name": "stderr",
          "text": [
            "\r 20%|██        | 10/50 [00:09<00:40,  1.02s/it]"
          ]
        },
        {
          "output_type": "stream",
          "name": "stdout",
          "text": [
            "Epoch 10/50 | Train Loss: 2.8115 | Train Accuracy: 0.43 | Validation Accuracy: 0.43\n"
          ]
        },
        {
          "output_type": "stream",
          "name": "stderr",
          "text": [
            "\r 22%|██▏       | 11/50 [00:10<00:43,  1.12s/it]"
          ]
        },
        {
          "output_type": "stream",
          "name": "stdout",
          "text": [
            "Epoch 11/50 | Train Loss: 2.6726 | Train Accuracy: 0.44 | Validation Accuracy: 0.44\n"
          ]
        },
        {
          "output_type": "stream",
          "name": "stderr",
          "text": [
            "\r 24%|██▍       | 12/50 [00:11<00:40,  1.06s/it]"
          ]
        },
        {
          "output_type": "stream",
          "name": "stdout",
          "text": [
            "Epoch 12/50 | Train Loss: 2.5385 | Train Accuracy: 0.46 | Validation Accuracy: 0.46\n"
          ]
        },
        {
          "output_type": "stream",
          "name": "stderr",
          "text": [
            "\r 26%|██▌       | 13/50 [00:12<00:38,  1.03s/it]"
          ]
        },
        {
          "output_type": "stream",
          "name": "stdout",
          "text": [
            "Epoch 13/50 | Train Loss: 2.4117 | Train Accuracy: 0.49 | Validation Accuracy: 0.48\n"
          ]
        },
        {
          "output_type": "stream",
          "name": "stderr",
          "text": [
            "\r 28%|██▊       | 14/50 [00:13<00:35,  1.00it/s]"
          ]
        },
        {
          "output_type": "stream",
          "name": "stdout",
          "text": [
            "Epoch 14/50 | Train Loss: 2.2945 | Train Accuracy: 0.50 | Validation Accuracy: 0.48\n"
          ]
        },
        {
          "output_type": "stream",
          "name": "stderr",
          "text": [
            "\r 30%|███       | 15/50 [00:14<00:34,  1.02it/s]"
          ]
        },
        {
          "output_type": "stream",
          "name": "stdout",
          "text": [
            "Epoch 15/50 | Train Loss: 2.1877 | Train Accuracy: 0.52 | Validation Accuracy: 0.51\n"
          ]
        },
        {
          "output_type": "stream",
          "name": "stderr",
          "text": [
            "\r 32%|███▏      | 16/50 [00:15<00:32,  1.04it/s]"
          ]
        },
        {
          "output_type": "stream",
          "name": "stdout",
          "text": [
            "Epoch 16/50 | Train Loss: 2.0902 | Train Accuracy: 0.53 | Validation Accuracy: 0.53\n"
          ]
        },
        {
          "output_type": "stream",
          "name": "stderr",
          "text": [
            "\r 34%|███▍      | 17/50 [00:16<00:31,  1.06it/s]"
          ]
        },
        {
          "output_type": "stream",
          "name": "stdout",
          "text": [
            "Epoch 17/50 | Train Loss: 2.0022 | Train Accuracy: 0.54 | Validation Accuracy: 0.54\n"
          ]
        },
        {
          "output_type": "stream",
          "name": "stderr",
          "text": [
            "\r 36%|███▌      | 18/50 [00:17<00:29,  1.07it/s]"
          ]
        },
        {
          "output_type": "stream",
          "name": "stdout",
          "text": [
            "Epoch 18/50 | Train Loss: 1.9215 | Train Accuracy: 0.56 | Validation Accuracy: 0.56\n"
          ]
        },
        {
          "output_type": "stream",
          "name": "stderr",
          "text": [
            "\r 38%|███▊      | 19/50 [00:18<00:28,  1.08it/s]"
          ]
        },
        {
          "output_type": "stream",
          "name": "stdout",
          "text": [
            "Epoch 19/50 | Train Loss: 1.8488 | Train Accuracy: 0.57 | Validation Accuracy: 0.56\n"
          ]
        },
        {
          "output_type": "stream",
          "name": "stderr",
          "text": [
            "\r 40%|████      | 20/50 [00:19<00:27,  1.08it/s]"
          ]
        },
        {
          "output_type": "stream",
          "name": "stdout",
          "text": [
            "Epoch 20/50 | Train Loss: 1.7838 | Train Accuracy: 0.58 | Validation Accuracy: 0.56\n"
          ]
        },
        {
          "output_type": "stream",
          "name": "stderr",
          "text": [
            "\r 42%|████▏     | 21/50 [00:20<00:26,  1.08it/s]"
          ]
        },
        {
          "output_type": "stream",
          "name": "stdout",
          "text": [
            "Epoch 21/50 | Train Loss: 1.7256 | Train Accuracy: 0.59 | Validation Accuracy: 0.58\n"
          ]
        },
        {
          "output_type": "stream",
          "name": "stderr",
          "text": [
            "\r 44%|████▍     | 22/50 [00:21<00:26,  1.05it/s]"
          ]
        },
        {
          "output_type": "stream",
          "name": "stdout",
          "text": [
            "Epoch 22/50 | Train Loss: 1.6731 | Train Accuracy: 0.59 | Validation Accuracy: 0.58\n"
          ]
        },
        {
          "output_type": "stream",
          "name": "stderr",
          "text": [
            "\r 46%|████▌     | 23/50 [00:22<00:29,  1.08s/it]"
          ]
        },
        {
          "output_type": "stream",
          "name": "stdout",
          "text": [
            "Epoch 23/50 | Train Loss: 1.6234 | Train Accuracy: 0.60 | Validation Accuracy: 0.59\n"
          ]
        },
        {
          "output_type": "stream",
          "name": "stderr",
          "text": [
            "\r 48%|████▊     | 24/50 [00:23<00:28,  1.11s/it]"
          ]
        },
        {
          "output_type": "stream",
          "name": "stdout",
          "text": [
            "Epoch 24/50 | Train Loss: 1.5808 | Train Accuracy: 0.61 | Validation Accuracy: 0.60\n"
          ]
        },
        {
          "output_type": "stream",
          "name": "stderr",
          "text": [
            "\r 50%|█████     | 25/50 [00:24<00:26,  1.05s/it]"
          ]
        },
        {
          "output_type": "stream",
          "name": "stdout",
          "text": [
            "Epoch 25/50 | Train Loss: 1.5405 | Train Accuracy: 0.61 | Validation Accuracy: 0.59\n"
          ]
        },
        {
          "output_type": "stream",
          "name": "stderr",
          "text": [
            "\r 52%|█████▏    | 26/50 [00:25<00:24,  1.00s/it]"
          ]
        },
        {
          "output_type": "stream",
          "name": "stdout",
          "text": [
            "Epoch 26/50 | Train Loss: 1.5073 | Train Accuracy: 0.62 | Validation Accuracy: 0.61\n"
          ]
        },
        {
          "output_type": "stream",
          "name": "stderr",
          "text": [
            "\r 54%|█████▍    | 27/50 [00:26<00:22,  1.02it/s]"
          ]
        },
        {
          "output_type": "stream",
          "name": "stdout",
          "text": [
            "Epoch 27/50 | Train Loss: 1.4728 | Train Accuracy: 0.62 | Validation Accuracy: 0.60\n"
          ]
        },
        {
          "output_type": "stream",
          "name": "stderr",
          "text": [
            "\r 56%|█████▌    | 28/50 [00:27<00:20,  1.05it/s]"
          ]
        },
        {
          "output_type": "stream",
          "name": "stdout",
          "text": [
            "Epoch 28/50 | Train Loss: 1.4444 | Train Accuracy: 0.63 | Validation Accuracy: 0.62\n"
          ]
        },
        {
          "output_type": "stream",
          "name": "stderr",
          "text": [
            "\r 58%|█████▊    | 29/50 [00:28<00:19,  1.07it/s]"
          ]
        },
        {
          "output_type": "stream",
          "name": "stdout",
          "text": [
            "Epoch 29/50 | Train Loss: 1.4158 | Train Accuracy: 0.64 | Validation Accuracy: 0.61\n"
          ]
        },
        {
          "output_type": "stream",
          "name": "stderr",
          "text": [
            "\r 60%|██████    | 30/50 [00:29<00:18,  1.08it/s]"
          ]
        },
        {
          "output_type": "stream",
          "name": "stdout",
          "text": [
            "Epoch 30/50 | Train Loss: 1.3920 | Train Accuracy: 0.64 | Validation Accuracy: 0.62\n"
          ]
        },
        {
          "output_type": "stream",
          "name": "stderr",
          "text": [
            "\r 62%|██████▏   | 31/50 [00:30<00:17,  1.08it/s]"
          ]
        },
        {
          "output_type": "stream",
          "name": "stdout",
          "text": [
            "Epoch 31/50 | Train Loss: 1.3652 | Train Accuracy: 0.65 | Validation Accuracy: 0.63\n"
          ]
        },
        {
          "output_type": "stream",
          "name": "stderr",
          "text": [
            "\r 64%|██████▍   | 32/50 [00:30<00:16,  1.09it/s]"
          ]
        },
        {
          "output_type": "stream",
          "name": "stdout",
          "text": [
            "Epoch 32/50 | Train Loss: 1.3445 | Train Accuracy: 0.65 | Validation Accuracy: 0.63\n"
          ]
        },
        {
          "output_type": "stream",
          "name": "stderr",
          "text": [
            "\r 66%|██████▌   | 33/50 [00:31<00:15,  1.08it/s]"
          ]
        },
        {
          "output_type": "stream",
          "name": "stdout",
          "text": [
            "Epoch 33/50 | Train Loss: 1.3249 | Train Accuracy: 0.65 | Validation Accuracy: 0.63\n"
          ]
        },
        {
          "output_type": "stream",
          "name": "stderr",
          "text": [
            "\r 68%|██████▊   | 34/50 [00:32<00:14,  1.08it/s]"
          ]
        },
        {
          "output_type": "stream",
          "name": "stdout",
          "text": [
            "Epoch 34/50 | Train Loss: 1.3046 | Train Accuracy: 0.65 | Validation Accuracy: 0.63\n"
          ]
        },
        {
          "output_type": "stream",
          "name": "stderr",
          "text": [
            "\r 70%|███████   | 35/50 [00:33<00:15,  1.00s/it]"
          ]
        },
        {
          "output_type": "stream",
          "name": "stdout",
          "text": [
            "Epoch 35/50 | Train Loss: 1.2901 | Train Accuracy: 0.66 | Validation Accuracy: 0.64\n"
          ]
        },
        {
          "output_type": "stream",
          "name": "stderr",
          "text": [
            "\r 72%|███████▏  | 36/50 [00:35<00:16,  1.17s/it]"
          ]
        },
        {
          "output_type": "stream",
          "name": "stdout",
          "text": [
            "Epoch 36/50 | Train Loss: 1.2726 | Train Accuracy: 0.66 | Validation Accuracy: 0.65\n"
          ]
        },
        {
          "output_type": "stream",
          "name": "stderr",
          "text": [
            "\r 74%|███████▍  | 37/50 [00:37<00:16,  1.28s/it]"
          ]
        },
        {
          "output_type": "stream",
          "name": "stdout",
          "text": [
            "Epoch 37/50 | Train Loss: 1.2579 | Train Accuracy: 0.66 | Validation Accuracy: 0.65\n"
          ]
        },
        {
          "output_type": "stream",
          "name": "stderr",
          "text": [
            "\r 76%|███████▌  | 38/50 [00:38<00:15,  1.26s/it]"
          ]
        },
        {
          "output_type": "stream",
          "name": "stdout",
          "text": [
            "Epoch 38/50 | Train Loss: 1.2403 | Train Accuracy: 0.67 | Validation Accuracy: 0.64\n"
          ]
        },
        {
          "output_type": "stream",
          "name": "stderr",
          "text": [
            "\r 78%|███████▊  | 39/50 [00:39<00:12,  1.16s/it]"
          ]
        },
        {
          "output_type": "stream",
          "name": "stdout",
          "text": [
            "Epoch 39/50 | Train Loss: 1.2230 | Train Accuracy: 0.67 | Validation Accuracy: 0.65\n"
          ]
        },
        {
          "output_type": "stream",
          "name": "stderr",
          "text": [
            "\r 80%|████████  | 40/50 [00:40<00:10,  1.09s/it]"
          ]
        },
        {
          "output_type": "stream",
          "name": "stdout",
          "text": [
            "Epoch 40/50 | Train Loss: 1.2144 | Train Accuracy: 0.67 | Validation Accuracy: 0.65\n"
          ]
        },
        {
          "output_type": "stream",
          "name": "stderr",
          "text": [
            "\r 82%|████████▏ | 41/50 [00:41<00:09,  1.03s/it]"
          ]
        },
        {
          "output_type": "stream",
          "name": "stdout",
          "text": [
            "Epoch 41/50 | Train Loss: 1.2024 | Train Accuracy: 0.68 | Validation Accuracy: 0.65\n"
          ]
        },
        {
          "output_type": "stream",
          "name": "stderr",
          "text": [
            "\r 84%|████████▍ | 42/50 [00:41<00:07,  1.01it/s]"
          ]
        },
        {
          "output_type": "stream",
          "name": "stdout",
          "text": [
            "Epoch 42/50 | Train Loss: 1.1913 | Train Accuracy: 0.68 | Validation Accuracy: 0.66\n"
          ]
        },
        {
          "output_type": "stream",
          "name": "stderr",
          "text": [
            "\r 86%|████████▌ | 43/50 [00:42<00:06,  1.03it/s]"
          ]
        },
        {
          "output_type": "stream",
          "name": "stdout",
          "text": [
            "Epoch 43/50 | Train Loss: 1.1764 | Train Accuracy: 0.68 | Validation Accuracy: 0.66\n"
          ]
        },
        {
          "output_type": "stream",
          "name": "stderr",
          "text": [
            "\r 88%|████████▊ | 44/50 [00:43<00:05,  1.04it/s]"
          ]
        },
        {
          "output_type": "stream",
          "name": "stdout",
          "text": [
            "Epoch 44/50 | Train Loss: 1.1684 | Train Accuracy: 0.68 | Validation Accuracy: 0.66\n"
          ]
        },
        {
          "output_type": "stream",
          "name": "stderr",
          "text": [
            "\r 90%|█████████ | 45/50 [00:44<00:04,  1.04it/s]"
          ]
        },
        {
          "output_type": "stream",
          "name": "stdout",
          "text": [
            "Epoch 45/50 | Train Loss: 1.1552 | Train Accuracy: 0.69 | Validation Accuracy: 0.66\n"
          ]
        },
        {
          "output_type": "stream",
          "name": "stderr",
          "text": [
            "\r 92%|█████████▏| 46/50 [00:45<00:03,  1.05it/s]"
          ]
        },
        {
          "output_type": "stream",
          "name": "stdout",
          "text": [
            "Epoch 46/50 | Train Loss: 1.1468 | Train Accuracy: 0.69 | Validation Accuracy: 0.67\n"
          ]
        },
        {
          "output_type": "stream",
          "name": "stderr",
          "text": [
            "\r 94%|█████████▍| 47/50 [00:46<00:02,  1.06it/s]"
          ]
        },
        {
          "output_type": "stream",
          "name": "stdout",
          "text": [
            "Epoch 47/50 | Train Loss: 1.1353 | Train Accuracy: 0.69 | Validation Accuracy: 0.67\n"
          ]
        },
        {
          "output_type": "stream",
          "name": "stderr",
          "text": [
            "\r 96%|█████████▌| 48/50 [00:47<00:02,  1.01s/it]"
          ]
        },
        {
          "output_type": "stream",
          "name": "stdout",
          "text": [
            "Epoch 48/50 | Train Loss: 1.1291 | Train Accuracy: 0.69 | Validation Accuracy: 0.67\n"
          ]
        },
        {
          "output_type": "stream",
          "name": "stderr",
          "text": [
            "\r 98%|█████████▊| 49/50 [00:49<00:01,  1.37s/it]"
          ]
        },
        {
          "output_type": "stream",
          "name": "stdout",
          "text": [
            "Epoch 49/50 | Train Loss: 1.1193 | Train Accuracy: 0.70 | Validation Accuracy: 0.68\n"
          ]
        },
        {
          "output_type": "stream",
          "name": "stderr",
          "text": [
            "100%|██████████| 50/50 [00:51<00:00,  1.04s/it]"
          ]
        },
        {
          "output_type": "stream",
          "name": "stdout",
          "text": [
            "Epoch 50/50 | Train Loss: 1.1107 | Train Accuracy: 0.70 | Validation Accuracy: 0.68\n"
          ]
        },
        {
          "output_type": "stream",
          "name": "stderr",
          "text": [
            "\n"
          ]
        }
      ]
    },
    {
      "cell_type": "code",
      "source": [
        "# plot loss curves\n",
        "plt.plot(range(len(train_losses)), train_losses, label=\"training\")\n",
        "plt.plot(range(len(val_losses)), val_losses, label=\"validation\")\n",
        "plt.xlabel(\"epoch\")\n",
        "plt.ylabel(\"average loss\")\n",
        "plt.xlim(0, len(train_losses) - 1)\n",
        "plt.ylim(0, None)\n",
        "plt.legend()\n",
        "plt.grid()\n",
        "plt.show()\n",
        "\n",
        "# plot accuracy curves\n",
        "plt.plot(range(len(train_accs)), train_accs, label=\"training\")\n",
        "plt.plot(range(len(val_accs)), val_accs, label=\"validation\")\n",
        "plt.xlabel(\"epoch\")\n",
        "plt.ylabel(\"accuracy\")\n",
        "plt.xlim(0, len(train_accs) - 1)\n",
        "plt.ylim(0, None)\n",
        "plt.legend()\n",
        "plt.grid()\n",
        "plt.show()"
      ],
      "metadata": {
        "id": "nSbmbFjnnBmY",
        "colab": {
          "base_uri": "https://localhost:8080/",
          "height": 881
        },
        "outputId": "0d9dfb52-864c-4f7e-8670-b3f1380a3055"
      },
      "execution_count": 17,
      "outputs": [
        {
          "output_type": "display_data",
          "data": {
            "text/plain": [
              "<Figure size 640x480 with 1 Axes>"
            ],
            "image/png": "[encoded data removed]"
          },
          "metadata": {}
        },
        {
          "output_type": "display_data",
          "data": {
            "text/plain": [
              "<Figure size 640x480 with 1 Axes>"
            ],
            "image/png": "[encoded data removed]"
          },
          "metadata": {}
        }
      ]
    },
    {
      "cell_type": "code",
      "source": [
        "model = MLPNet().to(device)\n",
        "model_state_dict_path = torch.load(checkpoint_path)\n",
        "model.load_state_dict(model_state_dict_path[\"model_state_dict\"])"
      ],
      "metadata": {
        "id": "j-F-EAfvmQF3",
        "colab": {
          "base_uri": "https://localhost:8080/"
        },
        "outputId": "e6891f3a-8aa5-4f7a-e0ac-47747da73089"
      },
      "execution_count": 18,
      "outputs": [
        {
          "output_type": "execute_result",
          "data": {
            "text/plain": [
              "<All keys matched successfully>"
            ]
          },
          "metadata": {},
          "execution_count": 18
        }
      ]
    },
    {
      "cell_type": "code",
      "source": [
        "_, test_accuracy = eval(model, criterion, test_loader)\n",
        "print(\"MLP Net NIST Test Accuracy: {:.2f}%\".format(test_accuracy))"
      ],
      "metadata": {
        "id": "tKg3oFldmC5N",
        "colab": {
          "base_uri": "https://localhost:8080/"
        },
        "outputId": "4a4b1a66-3bfe-452b-86a5-be871eb1a349"
      },
      "execution_count": 19,
      "outputs": [
        {
          "output_type": "stream",
          "name": "stdout",
          "text": [
            "MLP Net NIST Test Accuracy: 0.69%\n"
          ]
        }
      ]
    },
    {
      "cell_type": "code",
      "source": [
        "torch.cuda.empty_cache()\n",
        "gc.collect()"
      ],
      "metadata": {
        "colab": {
          "base_uri": "https://localhost:8080/"
        },
        "id": "BqbUsZbe6hhb",
        "outputId": "c72248bd-ebc4-4b96-86dd-dffd4aa5e525"
      },
      "execution_count": null,
      "outputs": [
        {
          "output_type": "execute_result",
          "data": {
            "text/plain": [
              "7062"
            ]
          },
          "metadata": {},
          "execution_count": 20
        }
      ]
    },
    {
      "cell_type": "code",
      "source": [
        "class ConvNet(torch.nn.Module):\n",
        "  def __init__(self, in_channels=1, output_size=36):\n",
        "     super(ConvNet, self).__init__()\n",
        "     self.backbone = torch.nn.Sequential(\n",
        "        torch.nn.Conv2d(in_channels=in_channels, out_channels=64, kernel_size=3, stride=2, padding=3),\n",
        "        torch.nn.BatchNorm2d(64),\n",
        "        torch.nn.GELU(),\n",
        "        torch.nn.Conv2d(in_channels=64, out_channels=128, kernel_size=5, stride=2, padding=3),\n",
        "        torch.nn.BatchNorm2d(128),\n",
        "        torch.nn.GELU()\n",
        "      )\n",
        "     self.head = torch.nn.Sequential(\n",
        "         torch.nn.Flatten(),\n",
        "         torch.nn.Linear(in_features=128*10*10, out_features=128),\n",
        "         torch.nn.BatchNorm1d(num_features=128),\n",
        "         torch.nn.GELU(),\n",
        "         torch.nn.Dropout(p=0.2),\n",
        "         torch.nn.Linear(in_features=128, out_features=output_size)\n",
        "     )\n",
        "  \n",
        "  def forward(self, x):\n",
        "    embedding = self.backbone(x)\n",
        "    out = self.head(embedding)\n",
        "    return out\n"
      ],
      "metadata": {
        "id": "gbdokFeP-1CG"
      },
      "execution_count": null,
      "outputs": []
    },
    {
      "cell_type": "code",
      "source": [
        "convmodel = ConvNet().to(device)\n",
        "imgs, labels = next(iter(train_loader))\n",
        "imgs = torch.reshape(imgs, (imgs.shape[0], 32, 32)).permute(0, 2, 1).unsqueeze(dim=1)\n",
        "summary(convmodel, imgs.to(device))"
      ],
      "metadata": {
        "colab": {
          "base_uri": "https://localhost:8080/",
          "height": 1000
        },
        "id": "TYSj5XxK-xYM",
        "outputId": "10a38785-4680-414d-f8b6-00ff2a38229f"
      },
      "execution_count": null,
      "outputs": [
        {
          "output_type": "stream",
          "name": "stdout",
          "text": [
            "====================================================================================\n",
            "                             Kernel Shape        Output Shape     Params  \\\n",
            "Layer                                                                      \n",
            "0_backbone.Conv2d_0         [1, 64, 3, 3]   [128, 64, 18, 18]      640.0   \n",
            "1_backbone.BatchNorm2d_1             [64]   [128, 64, 18, 18]      128.0   \n",
            "2_backbone.GELU_2                       -   [128, 64, 18, 18]          -   \n",
            "3_backbone.Conv2d_3       [64, 128, 5, 5]  [128, 128, 10, 10]   204.928k   \n",
            "4_backbone.BatchNorm2d_4            [128]  [128, 128, 10, 10]      256.0   \n",
            "5_backbone.GELU_5                       -  [128, 128, 10, 10]          -   \n",
            "6_head.Flatten_0                        -        [128, 12800]          -   \n",
            "7_head.Linear_1              [12800, 128]          [128, 128]  1.638528M   \n",
            "8_head.BatchNorm1d_2                [128]          [128, 128]      256.0   \n",
            "9_head.GELU_3                           -          [128, 128]          -   \n",
            "10_head.Dropout_4                       -          [128, 128]          -   \n",
            "11_head.Linear_5                [128, 36]           [128, 36]     4.644k   \n",
            "\n",
            "                         Mult-Adds  \n",
            "Layer                               \n",
            "0_backbone.Conv2d_0       186.624k  \n",
            "1_backbone.BatchNorm2d_1      64.0  \n",
            "2_backbone.GELU_2                -  \n",
            "3_backbone.Conv2d_3         20.48M  \n",
            "4_backbone.BatchNorm2d_4     128.0  \n",
            "5_backbone.GELU_5                -  \n",
            "6_head.Flatten_0                 -  \n",
            "7_head.Linear_1            1.6384M  \n",
            "8_head.BatchNorm1d_2         128.0  \n",
            "9_head.GELU_3                    -  \n",
            "10_head.Dropout_4                -  \n",
            "11_head.Linear_5            4.608k  \n",
            "------------------------------------------------------------------------------------\n",
            "                          Totals\n",
            "Total params            1.84938M\n",
            "Trainable params        1.84938M\n",
            "Non-trainable params         0.0\n",
            "Mult-Adds             22.309952M\n",
            "====================================================================================\n"
          ]
        },
        {
          "output_type": "stream",
          "name": "stderr",
          "text": [
            "/usr/local/lib/python3.10/dist-packages/torchsummaryX/torchsummaryX.py:101: FutureWarning: The default value of numeric_only in DataFrame.sum is deprecated. In a future version, it will default to False. In addition, specifying 'numeric_only=None' is deprecated. Select only valid columns or specify the value of numeric_only to silence this warning.\n",
            "  df_sum = df.sum()\n"
          ]
        },
        {
          "output_type": "execute_result",
          "data": {
            "text/plain": [
              "                             Kernel Shape        Output Shape     Params  \\\n",
              "Layer                                                                      \n",
              "0_backbone.Conv2d_0         [1, 64, 3, 3]   [128, 64, 18, 18]      640.0   \n",
              "1_backbone.BatchNorm2d_1             [64]   [128, 64, 18, 18]      128.0   \n",
              "2_backbone.GELU_2                       -   [128, 64, 18, 18]        NaN   \n",
              "3_backbone.Conv2d_3       [64, 128, 5, 5]  [128, 128, 10, 10]   204928.0   \n",
              "4_backbone.BatchNorm2d_4            [128]  [128, 128, 10, 10]      256.0   \n",
              "5_backbone.GELU_5                       -  [128, 128, 10, 10]        NaN   \n",
              "6_head.Flatten_0                        -        [128, 12800]        NaN   \n",
              "7_head.Linear_1              [12800, 128]          [128, 128]  1638528.0   \n",
              "8_head.BatchNorm1d_2                [128]          [128, 128]      256.0   \n",
              "9_head.GELU_3                           -          [128, 128]        NaN   \n",
              "10_head.Dropout_4                       -          [128, 128]        NaN   \n",
              "11_head.Linear_5                [128, 36]           [128, 36]     4644.0   \n",
              "\n",
              "                           Mult-Adds  \n",
              "Layer                                 \n",
              "0_backbone.Conv2d_0         186624.0  \n",
              "1_backbone.BatchNorm2d_1        64.0  \n",
              "2_backbone.GELU_2                NaN  \n",
              "3_backbone.Conv2d_3       20480000.0  \n",
              "4_backbone.BatchNorm2d_4       128.0  \n",
              "5_backbone.GELU_5                NaN  \n",
              "6_head.Flatten_0                 NaN  \n",
              "7_head.Linear_1            1638400.0  \n",
              "8_head.BatchNorm1d_2           128.0  \n",
              "9_head.GELU_3                    NaN  \n",
              "10_head.Dropout_4                NaN  \n",
              "11_head.Linear_5              4608.0  "
            ],
            "text/html": [
              "\n",
              "  <div id=\"df-0adc2cab-174a-45de-9483-4df988fa5e2e\">\n",
              "    <div class=\"colab-df-container\">\n",
              "      <div>\n",
              "<style scoped>\n",
              "    .dataframe tbody tr th:only-of-type {\n",
              "        vertical-align: middle;\n",
              "    }\n",
              "\n",
              "    .dataframe tbody tr th {\n",
              "        vertical-align: top;\n",
              "    }\n",
              "\n",
              "    .dataframe thead th {\n",
              "        text-align: right;\n",
              "    }\n",
              "</style>\n",
              "<table border=\"1\" class=\"dataframe\">\n",
              "  <thead>\n",
              "    <tr style=\"text-align: right;\">\n",
              "      <th></th>\n",
              "      <th>Kernel Shape</th>\n",
              "      <th>Output Shape</th>\n",
              "      <th>Params</th>\n",
              "      <th>Mult-Adds</th>\n",
              "    </tr>\n",
              "    <tr>\n",
              "      <th>Layer</th>\n",
              "      <th></th>\n",
              "      <th></th>\n",
              "      <th></th>\n",
              "      <th></th>\n",
              "    </tr>\n",
              "  </thead>\n",
              "  <tbody>\n",
              "    <tr>\n",
              "      <th>0_backbone.Conv2d_0</th>\n",
              "      <td>[1, 64, 3, 3]</td>\n",
              "      <td>[128, 64, 18, 18]</td>\n",
              "      <td>640.0</td>\n",
              "      <td>186624.0</td>\n",
              "    </tr>\n",
              "    <tr>\n",
              "      <th>1_backbone.BatchNorm2d_1</th>\n",
              "      <td>[64]</td>\n",
              "      <td>[128, 64, 18, 18]</td>\n",
              "      <td>128.0</td>\n",
              "      <td>64.0</td>\n",
              "    </tr>\n",
              "    <tr>\n",
              "      <th>2_backbone.GELU_2</th>\n",
              "      <td>-</td>\n",
              "      <td>[128, 64, 18, 18]</td>\n",
              "      <td>NaN</td>\n",
              "      <td>NaN</td>\n",
              "    </tr>\n",
              "    <tr>\n",
              "      <th>3_backbone.Conv2d_3</th>\n",
              "      <td>[64, 128, 5, 5]</td>\n",
              "      <td>[128, 128, 10, 10]</td>\n",
              "      <td>204928.0</td>\n",
              "      <td>20480000.0</td>\n",
              "    </tr>\n",
              "    <tr>\n",
              "      <th>4_backbone.BatchNorm2d_4</th>\n",
              "      <td>[128]</td>\n",
              "      <td>[128, 128, 10, 10]</td>\n",
              "      <td>256.0</td>\n",
              "      <td>128.0</td>\n",
              "    </tr>\n",
              "    <tr>\n",
              "      <th>5_backbone.GELU_5</th>\n",
              "      <td>-</td>\n",
              "      <td>[128, 128, 10, 10]</td>\n",
              "      <td>NaN</td>\n",
              "      <td>NaN</td>\n",
              "    </tr>\n",
              "    <tr>\n",
              "      <th>6_head.Flatten_0</th>\n",
              "      <td>-</td>\n",
              "      <td>[128, 12800]</td>\n",
              "      <td>NaN</td>\n",
              "      <td>NaN</td>\n",
              "    </tr>\n",
              "    <tr>\n",
              "      <th>7_head.Linear_1</th>\n",
              "      <td>[12800, 128]</td>\n",
              "      <td>[128, 128]</td>\n",
              "      <td>1638528.0</td>\n",
              "      <td>1638400.0</td>\n",
              "    </tr>\n",
              "    <tr>\n",
              "      <th>8_head.BatchNorm1d_2</th>\n",
              "      <td>[128]</td>\n",
              "      <td>[128, 128]</td>\n",
              "      <td>256.0</td>\n",
              "      <td>128.0</td>\n",
              "    </tr>\n",
              "    <tr>\n",
              "      <th>9_head.GELU_3</th>\n",
              "      <td>-</td>\n",
              "      <td>[128, 128]</td>\n",
              "      <td>NaN</td>\n",
              "      <td>NaN</td>\n",
              "    </tr>\n",
              "    <tr>\n",
              "      <th>10_head.Dropout_4</th>\n",
              "      <td>-</td>\n",
              "      <td>[128, 128]</td>\n",
              "      <td>NaN</td>\n",
              "      <td>NaN</td>\n",
              "    </tr>\n",
              "    <tr>\n",
              "      <th>11_head.Linear_5</th>\n",
              "      <td>[128, 36]</td>\n",
              "      <td>[128, 36]</td>\n",
              "      <td>4644.0</td>\n",
              "      <td>4608.0</td>\n",
              "    </tr>\n",
              "  </tbody>\n",
              "</table>\n",
              "</div>\n",
              "      <button class=\"colab-df-convert\" onclick=\"convertToInteractive('df-0adc2cab-174a-45de-9483-4df988fa5e2e')\"\n",
              "              title=\"Convert this dataframe to an interactive table.\"\n",
              "              style=\"display:none;\">\n",
              "        \n",
              "  <svg xmlns=\"http://www.w3.org/2000/svg\" height=\"24px\"viewBox=\"0 0 24 24\"\n",
              "       width=\"24px\">\n",
              "    <path d=\"M0 0h24v24H0V0z\" fill=\"none\"/>\n",
              "    <path d=\"M18.56 5.44l.94 2.06.94-2.06 2.06-.94-2.06-.94-.94-2.06-.94 2.06-2.06.94zm-11 1L8.5 8.5l.94-2.06 2.06-.94-2.06-.94L8.5 2.5l-.94 2.06-2.06.94zm10 10l.94 2.06.94-2.06 2.06-.94-2.06-.94-.94-2.06-.94 2.06-2.06.94z\"/><path d=\"M17.41 7.96l-1.37-1.37c-.4-.4-.92-.59-1.43-.59-.52 0-1.04.2-1.43.59L10.3 9.45l-7.72 7.72c-.78.78-.78 2.05 0 2.83L4 21.41c.39.39.9.59 1.41.59.51 0 1.02-.2 1.41-.59l7.78-7.78 2.81-2.81c.8-.78.8-2.07 0-2.86zM5.41 20L4 18.59l7.72-7.72 1.47 1.35L5.41 20z\"/>\n",
              "  </svg>\n",
              "      </button>\n",
              "      \n",
              "  <style>\n",
              "    .colab-df-container {\n",
              "      display:flex;\n",
              "      flex-wrap:wrap;\n",
              "      gap: 12px;\n",
              "    }\n",
              "\n",
              "    .colab-df-convert {\n",
              "      background-color: #E8F0FE;\n",
              "      border: none;\n",
              "      border-radius: 50%;\n",
              "      cursor: pointer;\n",
              "      display: none;\n",
              "      fill: #1967D2;\n",
              "      height: 32px;\n",
              "      padding: 0 0 0 0;\n",
              "      width: 32px;\n",
              "    }\n",
              "\n",
              "    .colab-df-convert:hover {\n",
              "      background-color: #E2EBFA;\n",
              "      box-shadow: 0px 1px 2px rgba(60, 64, 67, 0.3), 0px 1px 3px 1px rgba(60, 64, 67, 0.15);\n",
              "      fill: #174EA6;\n",
              "    }\n",
              "\n",
              "    [theme=dark] .colab-df-convert {\n",
              "      background-color: #3B4455;\n",
              "      fill: #D2E3FC;\n",
              "    }\n",
              "\n",
              "    [theme=dark] .colab-df-convert:hover {\n",
              "      background-color: #434B5C;\n",
              "      box-shadow: 0px 1px 3px 1px rgba(0, 0, 0, 0.15);\n",
              "      filter: drop-shadow(0px 1px 2px rgba(0, 0, 0, 0.3));\n",
              "      fill: #FFFFFF;\n",
              "    }\n",
              "  </style>\n",
              "\n",
              "      <script>\n",
              "        const buttonEl =\n",
              "          document.querySelector('#df-0adc2cab-174a-45de-9483-4df988fa5e2e button.colab-df-convert');\n",
              "        buttonEl.style.display =\n",
              "          google.colab.kernel.accessAllowed ? 'block' : 'none';\n",
              "\n",
              "        async function convertToInteractive(key) {\n",
              "          const element = document.querySelector('#df-0adc2cab-174a-45de-9483-4df988fa5e2e');\n",
              "          const dataTable =\n",
              "            await google.colab.kernel.invokeFunction('convertToInteractive',\n",
              "                                                     [key], {});\n",
              "          if (!dataTable) return;\n",
              "\n",
              "          const docLinkHtml = 'Like what you see? Visit the ' +\n",
              "            '<a target=\"_blank\" href=https://colab.research.google.com/notebooks/data_table.ipynb>data table notebook</a>'\n",
              "            + ' to learn more about interactive tables.';\n",
              "          element.innerHTML = '';\n",
              "          dataTable['output_type'] = 'display_data';\n",
              "          await google.colab.output.renderOutput(dataTable, element);\n",
              "          const docLink = document.createElement('div');\n",
              "          docLink.innerHTML = docLinkHtml;\n",
              "          element.appendChild(docLink);\n",
              "        }\n",
              "      </script>\n",
              "    </div>\n",
              "  </div>\n",
              "  "
            ]
          },
          "metadata": {},
          "execution_count": 42
        }
      ]
    },
    {
      "cell_type": "code",
      "source": [
        "criterion = torch.nn.CrossEntropyLoss()\n",
        "optimizer = torch.optim.AdamW(convmodel.parameters(), lr=learning_rate, weight_decay=0.01,)"
      ],
      "metadata": {
        "id": "0m_9mHAI6g-s"
      },
      "execution_count": null,
      "outputs": []
    },
    {
      "cell_type": "code",
      "source": [
        "torch.cuda.empty_cache()\n",
        "best_acc = 0.0\n",
        "\n",
        "train_losses = []\n",
        "train_accs = []\n",
        "\n",
        "val_losses = []\n",
        "val_accs = []\n",
        "\n",
        "checkpoint_path = \"./conv_model_checkpoint.pth\"\n",
        "\n",
        "for epoch in tqdm(range(max_iters)):\n",
        "    train_loss, train_accuracy = train(convmodel, optimizer, criterion, train_loader, conv=True)\n",
        "    val_loss, val_accuracy = eval(convmodel, criterion, val_loader, conv=True)\n",
        "    \n",
        "    train_losses.append(train_loss)\n",
        "    train_accs.append(train_accuracy)\n",
        "\n",
        "    val_losses.append(val_loss)\n",
        "    val_accs.append(val_accuracy)\n",
        "\n",
        "    print(\"Epoch {}/{} | Train Loss: {:.4f} | Train Accuracy: {:.2f} | Validation Accuracy: {:.2f}\".format(epoch+1, max_iters, train_loss, train_accuracy, val_accuracy))\n",
        "    if val_accuracy > best_acc:\n",
        "      best_acc = val_accuracy\n",
        "      torch.save({\n",
        "          \"epoch\": epoch,\n",
        "          \"model_state_dict\": convmodel.state_dict(),\n",
        "          \"optimizer_state_dict\": optimizer.state_dict(),\n",
        "          \"loss\": train_loss,\n",
        "          \"val_acc\": val_accuracy}, checkpoint_path)\n"
      ],
      "metadata": {
        "colab": {
          "base_uri": "https://localhost:8080/"
        },
        "id": "g-9_B8baxqVk",
        "outputId": "050b5ba7-0719-4f48-89fc-c71558f78c97"
      },
      "execution_count": null,
      "outputs": [
        {
          "output_type": "stream",
          "name": "stderr",
          "text": [
            "  2%|▏         | 1/50 [00:01<01:17,  1.57s/it]"
          ]
        },
        {
          "output_type": "stream",
          "name": "stdout",
          "text": [
            "Epoch 1/50 | Train Loss: 1.1308 | Train Accuracy: 0.71 | Validation Accuracy: 0.84\n"
          ]
        },
        {
          "output_type": "stream",
          "name": "stderr",
          "text": [
            "\r  4%|▍         | 2/50 [00:03<01:12,  1.51s/it]"
          ]
        },
        {
          "output_type": "stream",
          "name": "stdout",
          "text": [
            "Epoch 2/50 | Train Loss: 0.3421 | Train Accuracy: 0.90 | Validation Accuracy: 0.86\n"
          ]
        },
        {
          "output_type": "stream",
          "name": "stderr",
          "text": [
            "\r  6%|▌         | 3/50 [00:04<01:09,  1.48s/it]"
          ]
        },
        {
          "output_type": "stream",
          "name": "stdout",
          "text": [
            "Epoch 3/50 | Train Loss: 0.2067 | Train Accuracy: 0.94 | Validation Accuracy: 0.86\n"
          ]
        },
        {
          "output_type": "stream",
          "name": "stderr",
          "text": [
            "\r  8%|▊         | 4/50 [00:06<01:12,  1.58s/it]"
          ]
        },
        {
          "output_type": "stream",
          "name": "stdout",
          "text": [
            "Epoch 4/50 | Train Loss: 0.1379 | Train Accuracy: 0.96 | Validation Accuracy: 0.87\n"
          ]
        },
        {
          "output_type": "stream",
          "name": "stderr",
          "text": [
            "\r 10%|█         | 5/50 [00:08<01:18,  1.74s/it]"
          ]
        },
        {
          "output_type": "stream",
          "name": "stdout",
          "text": [
            "Epoch 5/50 | Train Loss: 0.0982 | Train Accuracy: 0.97 | Validation Accuracy: 0.88\n"
          ]
        },
        {
          "output_type": "stream",
          "name": "stderr",
          "text": [
            "\r 12%|█▏        | 6/50 [00:09<01:12,  1.65s/it]"
          ]
        },
        {
          "output_type": "stream",
          "name": "stdout",
          "text": [
            "Epoch 6/50 | Train Loss: 0.0741 | Train Accuracy: 0.98 | Validation Accuracy: 0.89\n"
          ]
        },
        {
          "output_type": "stream",
          "name": "stderr",
          "text": [
            "\r 14%|█▍        | 7/50 [00:11<01:08,  1.58s/it]"
          ]
        },
        {
          "output_type": "stream",
          "name": "stdout",
          "text": [
            "Epoch 7/50 | Train Loss: 0.0543 | Train Accuracy: 0.98 | Validation Accuracy: 0.90\n"
          ]
        },
        {
          "output_type": "stream",
          "name": "stderr",
          "text": [
            "\r 16%|█▌        | 8/50 [00:12<01:04,  1.52s/it]"
          ]
        },
        {
          "output_type": "stream",
          "name": "stdout",
          "text": [
            "Epoch 8/50 | Train Loss: 0.0414 | Train Accuracy: 0.99 | Validation Accuracy: 0.85\n"
          ]
        },
        {
          "output_type": "stream",
          "name": "stderr",
          "text": [
            "\r 18%|█▊        | 9/50 [00:14<01:01,  1.50s/it]"
          ]
        },
        {
          "output_type": "stream",
          "name": "stdout",
          "text": [
            "Epoch 9/50 | Train Loss: 0.0316 | Train Accuracy: 0.99 | Validation Accuracy: 0.88\n"
          ]
        },
        {
          "output_type": "stream",
          "name": "stderr",
          "text": [
            "\r 20%|██        | 10/50 [00:15<00:59,  1.48s/it]"
          ]
        },
        {
          "output_type": "stream",
          "name": "stdout",
          "text": [
            "Epoch 10/50 | Train Loss: 0.0382 | Train Accuracy: 0.99 | Validation Accuracy: 0.89\n"
          ]
        },
        {
          "output_type": "stream",
          "name": "stderr",
          "text": [
            "\r 22%|██▏       | 11/50 [00:16<00:56,  1.45s/it]"
          ]
        },
        {
          "output_type": "stream",
          "name": "stdout",
          "text": [
            "Epoch 11/50 | Train Loss: 0.0291 | Train Accuracy: 0.99 | Validation Accuracy: 0.90\n"
          ]
        },
        {
          "output_type": "stream",
          "name": "stderr",
          "text": [
            "\r 24%|██▍       | 12/50 [00:18<00:54,  1.43s/it]"
          ]
        },
        {
          "output_type": "stream",
          "name": "stdout",
          "text": [
            "Epoch 12/50 | Train Loss: 0.0247 | Train Accuracy: 0.99 | Validation Accuracy: 0.90\n"
          ]
        },
        {
          "output_type": "stream",
          "name": "stderr",
          "text": [
            "\r 26%|██▌       | 13/50 [00:20<00:59,  1.61s/it]"
          ]
        },
        {
          "output_type": "stream",
          "name": "stdout",
          "text": [
            "Epoch 13/50 | Train Loss: 0.0251 | Train Accuracy: 0.99 | Validation Accuracy: 0.90\n"
          ]
        },
        {
          "output_type": "stream",
          "name": "stderr",
          "text": [
            "\r 28%|██▊       | 14/50 [00:21<00:57,  1.60s/it]"
          ]
        },
        {
          "output_type": "stream",
          "name": "stdout",
          "text": [
            "Epoch 14/50 | Train Loss: 0.0210 | Train Accuracy: 0.99 | Validation Accuracy: 0.87\n"
          ]
        },
        {
          "output_type": "stream",
          "name": "stderr",
          "text": [
            "\r 30%|███       | 15/50 [00:23<00:53,  1.54s/it]"
          ]
        },
        {
          "output_type": "stream",
          "name": "stdout",
          "text": [
            "Epoch 15/50 | Train Loss: 0.0162 | Train Accuracy: 1.00 | Validation Accuracy: 0.88\n"
          ]
        },
        {
          "output_type": "stream",
          "name": "stderr",
          "text": [
            "\r 32%|███▏      | 16/50 [00:24<00:50,  1.49s/it]"
          ]
        },
        {
          "output_type": "stream",
          "name": "stdout",
          "text": [
            "Epoch 16/50 | Train Loss: 0.0158 | Train Accuracy: 1.00 | Validation Accuracy: 0.89\n"
          ]
        },
        {
          "output_type": "stream",
          "name": "stderr",
          "text": [
            "\r 34%|███▍      | 17/50 [00:25<00:48,  1.46s/it]"
          ]
        },
        {
          "output_type": "stream",
          "name": "stdout",
          "text": [
            "Epoch 17/50 | Train Loss: 0.0175 | Train Accuracy: 1.00 | Validation Accuracy: 0.85\n"
          ]
        },
        {
          "output_type": "stream",
          "name": "stderr",
          "text": [
            "\r 36%|███▌      | 18/50 [00:27<00:45,  1.44s/it]"
          ]
        },
        {
          "output_type": "stream",
          "name": "stdout",
          "text": [
            "Epoch 18/50 | Train Loss: 0.0265 | Train Accuracy: 0.99 | Validation Accuracy: 0.86\n"
          ]
        },
        {
          "output_type": "stream",
          "name": "stderr",
          "text": [
            "\r 38%|███▊      | 19/50 [00:28<00:44,  1.43s/it]"
          ]
        },
        {
          "output_type": "stream",
          "name": "stdout",
          "text": [
            "Epoch 19/50 | Train Loss: 0.0328 | Train Accuracy: 0.99 | Validation Accuracy: 0.77\n"
          ]
        },
        {
          "output_type": "stream",
          "name": "stderr",
          "text": [
            "\r 40%|████      | 20/50 [00:30<00:42,  1.42s/it]"
          ]
        },
        {
          "output_type": "stream",
          "name": "stdout",
          "text": [
            "Epoch 20/50 | Train Loss: 0.0301 | Train Accuracy: 0.99 | Validation Accuracy: 0.89\n"
          ]
        },
        {
          "output_type": "stream",
          "name": "stderr",
          "text": [
            "\r 42%|████▏     | 21/50 [00:31<00:43,  1.51s/it]"
          ]
        },
        {
          "output_type": "stream",
          "name": "stdout",
          "text": [
            "Epoch 21/50 | Train Loss: 0.0263 | Train Accuracy: 0.99 | Validation Accuracy: 0.90\n"
          ]
        },
        {
          "output_type": "stream",
          "name": "stderr",
          "text": [
            "\r 44%|████▍     | 22/50 [00:33<00:45,  1.63s/it]"
          ]
        },
        {
          "output_type": "stream",
          "name": "stdout",
          "text": [
            "Epoch 22/50 | Train Loss: 0.0188 | Train Accuracy: 0.99 | Validation Accuracy: 0.88\n"
          ]
        },
        {
          "output_type": "stream",
          "name": "stderr",
          "text": [
            "\r 46%|████▌     | 23/50 [00:35<00:42,  1.57s/it]"
          ]
        },
        {
          "output_type": "stream",
          "name": "stdout",
          "text": [
            "Epoch 23/50 | Train Loss: 0.0141 | Train Accuracy: 1.00 | Validation Accuracy: 0.87\n"
          ]
        },
        {
          "output_type": "stream",
          "name": "stderr",
          "text": [
            "\r 48%|████▊     | 24/50 [00:36<00:39,  1.52s/it]"
          ]
        },
        {
          "output_type": "stream",
          "name": "stdout",
          "text": [
            "Epoch 24/50 | Train Loss: 0.0127 | Train Accuracy: 1.00 | Validation Accuracy: 0.90\n"
          ]
        },
        {
          "output_type": "stream",
          "name": "stderr",
          "text": [
            "\r 50%|█████     | 25/50 [00:38<00:37,  1.49s/it]"
          ]
        },
        {
          "output_type": "stream",
          "name": "stdout",
          "text": [
            "Epoch 25/50 | Train Loss: 0.0118 | Train Accuracy: 1.00 | Validation Accuracy: 0.91\n"
          ]
        },
        {
          "output_type": "stream",
          "name": "stderr",
          "text": [
            "\r 52%|█████▏    | 26/50 [00:39<00:35,  1.46s/it]"
          ]
        },
        {
          "output_type": "stream",
          "name": "stdout",
          "text": [
            "Epoch 26/50 | Train Loss: 0.0081 | Train Accuracy: 1.00 | Validation Accuracy: 0.91\n"
          ]
        },
        {
          "output_type": "stream",
          "name": "stderr",
          "text": [
            "\r 54%|█████▍    | 27/50 [00:40<00:33,  1.45s/it]"
          ]
        },
        {
          "output_type": "stream",
          "name": "stdout",
          "text": [
            "Epoch 27/50 | Train Loss: 0.0041 | Train Accuracy: 1.00 | Validation Accuracy: 0.91\n"
          ]
        },
        {
          "output_type": "stream",
          "name": "stderr",
          "text": [
            "\r 56%|█████▌    | 28/50 [00:42<00:31,  1.43s/it]"
          ]
        },
        {
          "output_type": "stream",
          "name": "stdout",
          "text": [
            "Epoch 28/50 | Train Loss: 0.0035 | Train Accuracy: 1.00 | Validation Accuracy: 0.91\n"
          ]
        },
        {
          "output_type": "stream",
          "name": "stderr",
          "text": [
            "\r 58%|█████▊    | 29/50 [00:43<00:30,  1.43s/it]"
          ]
        },
        {
          "output_type": "stream",
          "name": "stdout",
          "text": [
            "Epoch 29/50 | Train Loss: 0.0047 | Train Accuracy: 1.00 | Validation Accuracy: 0.91\n"
          ]
        },
        {
          "output_type": "stream",
          "name": "stderr",
          "text": [
            "\r 60%|██████    | 30/50 [00:45<00:32,  1.62s/it]"
          ]
        },
        {
          "output_type": "stream",
          "name": "stdout",
          "text": [
            "Epoch 30/50 | Train Loss: 0.0059 | Train Accuracy: 1.00 | Validation Accuracy: 0.88\n"
          ]
        },
        {
          "output_type": "stream",
          "name": "stderr",
          "text": [
            "\r 62%|██████▏   | 31/50 [00:47<00:30,  1.61s/it]"
          ]
        },
        {
          "output_type": "stream",
          "name": "stdout",
          "text": [
            "Epoch 31/50 | Train Loss: 0.0090 | Train Accuracy: 1.00 | Validation Accuracy: 0.87\n"
          ]
        },
        {
          "output_type": "stream",
          "name": "stderr",
          "text": [
            "\r 64%|██████▍   | 32/50 [00:48<00:27,  1.55s/it]"
          ]
        },
        {
          "output_type": "stream",
          "name": "stdout",
          "text": [
            "Epoch 32/50 | Train Loss: 0.0213 | Train Accuracy: 0.99 | Validation Accuracy: 0.85\n"
          ]
        },
        {
          "output_type": "stream",
          "name": "stderr",
          "text": [
            "\r 66%|██████▌   | 33/50 [00:50<00:25,  1.51s/it]"
          ]
        },
        {
          "output_type": "stream",
          "name": "stdout",
          "text": [
            "Epoch 33/50 | Train Loss: 0.0229 | Train Accuracy: 0.99 | Validation Accuracy: 0.82\n"
          ]
        },
        {
          "output_type": "stream",
          "name": "stderr",
          "text": [
            "\r 68%|██████▊   | 34/50 [00:51<00:23,  1.48s/it]"
          ]
        },
        {
          "output_type": "stream",
          "name": "stdout",
          "text": [
            "Epoch 34/50 | Train Loss: 0.0251 | Train Accuracy: 0.99 | Validation Accuracy: 0.85\n"
          ]
        },
        {
          "output_type": "stream",
          "name": "stderr",
          "text": [
            "\r 70%|███████   | 35/50 [00:52<00:21,  1.45s/it]"
          ]
        },
        {
          "output_type": "stream",
          "name": "stdout",
          "text": [
            "Epoch 35/50 | Train Loss: 0.0200 | Train Accuracy: 0.99 | Validation Accuracy: 0.89\n"
          ]
        },
        {
          "output_type": "stream",
          "name": "stderr",
          "text": [
            "\r 72%|███████▏  | 36/50 [00:54<00:20,  1.44s/it]"
          ]
        },
        {
          "output_type": "stream",
          "name": "stdout",
          "text": [
            "Epoch 36/50 | Train Loss: 0.0198 | Train Accuracy: 0.99 | Validation Accuracy: 0.84\n"
          ]
        },
        {
          "output_type": "stream",
          "name": "stderr",
          "text": [
            "\r 74%|███████▍  | 37/50 [00:55<00:18,  1.43s/it]"
          ]
        },
        {
          "output_type": "stream",
          "name": "stdout",
          "text": [
            "Epoch 37/50 | Train Loss: 0.0189 | Train Accuracy: 0.99 | Validation Accuracy: 0.89\n"
          ]
        },
        {
          "output_type": "stream",
          "name": "stderr",
          "text": [
            "\r 76%|███████▌  | 38/50 [00:57<00:18,  1.55s/it]"
          ]
        },
        {
          "output_type": "stream",
          "name": "stdout",
          "text": [
            "Epoch 38/50 | Train Loss: 0.0202 | Train Accuracy: 0.99 | Validation Accuracy: 0.89\n"
          ]
        },
        {
          "output_type": "stream",
          "name": "stderr",
          "text": [
            "\r 78%|███████▊  | 39/50 [00:59<00:17,  1.63s/it]"
          ]
        },
        {
          "output_type": "stream",
          "name": "stdout",
          "text": [
            "Epoch 39/50 | Train Loss: 0.0132 | Train Accuracy: 1.00 | Validation Accuracy: 0.90\n"
          ]
        },
        {
          "output_type": "stream",
          "name": "stderr",
          "text": [
            "\r 80%|████████  | 40/50 [01:00<00:15,  1.56s/it]"
          ]
        },
        {
          "output_type": "stream",
          "name": "stdout",
          "text": [
            "Epoch 40/50 | Train Loss: 0.0061 | Train Accuracy: 1.00 | Validation Accuracy: 0.91\n"
          ]
        },
        {
          "output_type": "stream",
          "name": "stderr",
          "text": [
            "\r 82%|████████▏ | 41/50 [01:02<00:13,  1.50s/it]"
          ]
        },
        {
          "output_type": "stream",
          "name": "stdout",
          "text": [
            "Epoch 41/50 | Train Loss: 0.0034 | Train Accuracy: 1.00 | Validation Accuracy: 0.91\n"
          ]
        },
        {
          "output_type": "stream",
          "name": "stderr",
          "text": [
            "\r 84%|████████▍ | 42/50 [01:03<00:11,  1.46s/it]"
          ]
        },
        {
          "output_type": "stream",
          "name": "stdout",
          "text": [
            "Epoch 42/50 | Train Loss: 0.0059 | Train Accuracy: 1.00 | Validation Accuracy: 0.90\n"
          ]
        },
        {
          "output_type": "stream",
          "name": "stderr",
          "text": [
            "\r 86%|████████▌ | 43/50 [01:04<00:10,  1.44s/it]"
          ]
        },
        {
          "output_type": "stream",
          "name": "stdout",
          "text": [
            "Epoch 43/50 | Train Loss: 0.0073 | Train Accuracy: 1.00 | Validation Accuracy: 0.90\n"
          ]
        },
        {
          "output_type": "stream",
          "name": "stderr",
          "text": [
            "\r 88%|████████▊ | 44/50 [01:06<00:08,  1.42s/it]"
          ]
        },
        {
          "output_type": "stream",
          "name": "stdout",
          "text": [
            "Epoch 44/50 | Train Loss: 0.0094 | Train Accuracy: 1.00 | Validation Accuracy: 0.89\n"
          ]
        },
        {
          "output_type": "stream",
          "name": "stderr",
          "text": [
            "\r 90%|█████████ | 45/50 [01:07<00:07,  1.41s/it]"
          ]
        },
        {
          "output_type": "stream",
          "name": "stdout",
          "text": [
            "Epoch 45/50 | Train Loss: 0.0176 | Train Accuracy: 0.99 | Validation Accuracy: 0.90\n"
          ]
        },
        {
          "output_type": "stream",
          "name": "stderr",
          "text": [
            "\r 92%|█████████▏| 46/50 [01:09<00:05,  1.42s/it]"
          ]
        },
        {
          "output_type": "stream",
          "name": "stdout",
          "text": [
            "Epoch 46/50 | Train Loss: 0.0095 | Train Accuracy: 1.00 | Validation Accuracy: 0.89\n"
          ]
        },
        {
          "output_type": "stream",
          "name": "stderr",
          "text": [
            "\r 94%|█████████▍| 47/50 [01:11<00:04,  1.60s/it]"
          ]
        },
        {
          "output_type": "stream",
          "name": "stdout",
          "text": [
            "Epoch 47/50 | Train Loss: 0.0144 | Train Accuracy: 1.00 | Validation Accuracy: 0.86\n"
          ]
        },
        {
          "output_type": "stream",
          "name": "stderr",
          "text": [
            "\r 96%|█████████▌| 48/50 [01:12<00:03,  1.59s/it]"
          ]
        },
        {
          "output_type": "stream",
          "name": "stdout",
          "text": [
            "Epoch 48/50 | Train Loss: 0.0121 | Train Accuracy: 1.00 | Validation Accuracy: 0.88\n"
          ]
        },
        {
          "output_type": "stream",
          "name": "stderr",
          "text": [
            "\r 98%|█████████▊| 49/50 [01:14<00:01,  1.53s/it]"
          ]
        },
        {
          "output_type": "stream",
          "name": "stdout",
          "text": [
            "Epoch 49/50 | Train Loss: 0.0061 | Train Accuracy: 1.00 | Validation Accuracy: 0.90\n"
          ]
        },
        {
          "output_type": "stream",
          "name": "stderr",
          "text": [
            "100%|██████████| 50/50 [01:15<00:00,  1.51s/it]"
          ]
        },
        {
          "output_type": "stream",
          "name": "stdout",
          "text": [
            "Epoch 50/50 | Train Loss: 0.0038 | Train Accuracy: 1.00 | Validation Accuracy: 0.92\n"
          ]
        },
        {
          "output_type": "stream",
          "name": "stderr",
          "text": [
            "\n"
          ]
        }
      ]
    },
    {
      "cell_type": "code",
      "source": [
        "# plot loss curves\n",
        "plt.plot(range(len(train_losses)), train_losses, label=\"training\")\n",
        "plt.plot(range(len(val_losses)), val_losses, label=\"validation\")\n",
        "plt.xlabel(\"epoch\")\n",
        "plt.ylabel(\"average loss\")\n",
        "plt.xlim(0, len(train_losses) - 1)\n",
        "plt.ylim(0, None)\n",
        "plt.legend()\n",
        "plt.grid()\n",
        "plt.show()\n",
        "\n",
        "# plot accuracy curves\n",
        "plt.plot(range(len(train_accs)), train_accs, label=\"training\")\n",
        "plt.plot(range(len(val_accs)), val_accs, label=\"validation\")\n",
        "plt.xlabel(\"epoch\")\n",
        "plt.ylabel(\"accuracy\")\n",
        "plt.xlim(0, len(train_accs) - 1)\n",
        "plt.ylim(0, None)\n",
        "plt.legend()\n",
        "plt.grid()\n",
        "plt.show()"
      ],
      "metadata": {
        "id": "l4ApWjQd6lwT",
        "colab": {
          "base_uri": "https://localhost:8080/",
          "height": 882
        },
        "outputId": "4522636e-3702-4799-a508-7b1d488ba841"
      },
      "execution_count": null,
      "outputs": [
        {
          "output_type": "display_data",
          "data": {
            "text/plain": [
              "<Figure size 640x480 with 1 Axes>"
            ],
            "image/png": "[encoded data removed]"
          },
          "metadata": {}
        },
        {
          "output_type": "display_data",
          "data": {
            "text/plain": [
              "<Figure size 640x480 with 1 Axes>"
            ],
            "image/png": "[encoded data removed]"
          },
          "metadata": {}
        }
      ]
    },
    {
      "cell_type": "code",
      "source": [
        "model = ConvNet().to(device)\n",
        "model_state_dict_path = torch.load(checkpoint_path)\n",
        "model.load_state_dict(model_state_dict_path[\"model_state_dict\"])"
      ],
      "metadata": {
        "id": "49Ni1WqO6nyI",
        "colab": {
          "base_uri": "https://localhost:8080/"
        },
        "outputId": "294d80d6-40ea-43f4-e5bb-91a1917f7a7c"
      },
      "execution_count": null,
      "outputs": [
        {
          "output_type": "execute_result",
          "data": {
            "text/plain": [
              "<All keys matched successfully>"
            ]
          },
          "metadata": {},
          "execution_count": 46
        }
      ]
    },
    {
      "cell_type": "code",
      "source": [
        "_, test_accuracy = eval(model, criterion, test_loader, conv=True)\n",
        "print(\"Conv Net NIST Test Accuracy: {:.2f}%\".format(test_accuracy))"
      ],
      "metadata": {
        "id": "m4SXYbkx6rHy",
        "colab": {
          "base_uri": "https://localhost:8080/"
        },
        "outputId": "a194ab1d-5f75-4547-b0c9-ead205fed63c"
      },
      "execution_count": null,
      "outputs": [
        {
          "output_type": "stream",
          "name": "stdout",
          "text": [
            "Conv Net NIST Test Accuracy: 0.91%\n"
          ]
        }
      ]
    },
    {
      "cell_type": "markdown",
      "source": [
        "# CIFAR10 Dataset"
      ],
      "metadata": {
        "id": "JOvA2bl2B9qu"
      }
    },
    {
      "cell_type": "code",
      "source": [
        "transform = transforms.Compose(\n",
        "    [transforms.ToTensor(),\n",
        "     transforms.Normalize((0.5, 0.5, 0.5), (0.5, 0.5, 0.5))])\n",
        "\n",
        "cifar_trainset = torchvision.datasets.CIFAR10(root='./cifardata', train=True,\n",
        "                                        download=True, transform=transform)\n",
        "cifar_trainloader = torch.utils.data.DataLoader(cifar_trainset, batch_size=batch_size,\n",
        "                                          shuffle=True, num_workers=2)\n",
        "\n",
        "cifar_testset = torchvision.datasets.CIFAR10(root='./cifardata', train=False,\n",
        "                                       download=True, transform=transform)\n",
        "cifar_testloader = torch.utils.data.DataLoader(cifar_testset, batch_size=batch_size,\n",
        "                                         shuffle=False, num_workers=2)"
      ],
      "metadata": {
        "colab": {
          "base_uri": "https://localhost:8080/"
        },
        "id": "XkRX446M7gw_",
        "outputId": "f4d5ade8-6bba-4ca7-af0f-65a6eeab6736"
      },
      "execution_count": null,
      "outputs": [
        {
          "output_type": "stream",
          "name": "stdout",
          "text": [
            "Downloading https://www.cs.toronto.edu/~kriz/cifar-10-python.tar.gz to ./cifardata/cifar-10-python.tar.gz\n"
          ]
        },
        {
          "output_type": "stream",
          "name": "stderr",
          "text": [
            "100%|██████████| 170498071/170498071 [00:07<00:00, 22779702.53it/s]\n"
          ]
        },
        {
          "output_type": "stream",
          "name": "stdout",
          "text": [
            "Extracting ./cifardata/cifar-10-python.tar.gz to ./cifardata\n",
            "Files already downloaded and verified\n"
          ]
        }
      ]
    },
    {
      "cell_type": "code",
      "source": [
        "cifarmodel = ConvNet(in_channels=3, output_size=10).to(device)\n",
        "imgs, labels = next(iter(cifar_trainloader))\n",
        "summary(cifarmodel, imgs.to(device))"
      ],
      "metadata": {
        "colab": {
          "base_uri": "https://localhost:8080/",
          "height": 1000
        },
        "id": "AoPrJtsf7ohF",
        "outputId": "e102e470-89e2-4bcb-b99f-bf0b119de187"
      },
      "execution_count": null,
      "outputs": [
        {
          "output_type": "stream",
          "name": "stdout",
          "text": [
            "====================================================================================\n",
            "                             Kernel Shape        Output Shape     Params  \\\n",
            "Layer                                                                      \n",
            "0_backbone.Conv2d_0         [3, 64, 3, 3]   [128, 64, 18, 18]     1.792k   \n",
            "1_backbone.BatchNorm2d_1             [64]   [128, 64, 18, 18]      128.0   \n",
            "2_backbone.GELU_2                       -   [128, 64, 18, 18]          -   \n",
            "3_backbone.Conv2d_3       [64, 128, 5, 5]  [128, 128, 10, 10]   204.928k   \n",
            "4_backbone.BatchNorm2d_4            [128]  [128, 128, 10, 10]      256.0   \n",
            "5_backbone.GELU_5                       -  [128, 128, 10, 10]          -   \n",
            "6_head.Flatten_0                        -        [128, 12800]          -   \n",
            "7_head.Linear_1              [12800, 128]          [128, 128]  1.638528M   \n",
            "8_head.BatchNorm1d_2                [128]          [128, 128]      256.0   \n",
            "9_head.GELU_3                           -          [128, 128]          -   \n",
            "10_head.Dropout_4                       -          [128, 128]          -   \n",
            "11_head.Linear_5                [128, 10]           [128, 10]      1.29k   \n",
            "\n",
            "                         Mult-Adds  \n",
            "Layer                               \n",
            "0_backbone.Conv2d_0       559.872k  \n",
            "1_backbone.BatchNorm2d_1      64.0  \n",
            "2_backbone.GELU_2                -  \n",
            "3_backbone.Conv2d_3         20.48M  \n",
            "4_backbone.BatchNorm2d_4     128.0  \n",
            "5_backbone.GELU_5                -  \n",
            "6_head.Flatten_0                 -  \n",
            "7_head.Linear_1            1.6384M  \n",
            "8_head.BatchNorm1d_2         128.0  \n",
            "9_head.GELU_3                    -  \n",
            "10_head.Dropout_4                -  \n",
            "11_head.Linear_5             1.28k  \n",
            "------------------------------------------------------------------------------------\n",
            "                          Totals\n",
            "Total params           1.847178M\n",
            "Trainable params       1.847178M\n",
            "Non-trainable params         0.0\n",
            "Mult-Adds             22.679872M\n",
            "====================================================================================\n"
          ]
        },
        {
          "output_type": "stream",
          "name": "stderr",
          "text": [
            "/usr/local/lib/python3.10/dist-packages/torchsummaryX/torchsummaryX.py:101: FutureWarning: The default value of numeric_only in DataFrame.sum is deprecated. In a future version, it will default to False. In addition, specifying 'numeric_only=None' is deprecated. Select only valid columns or specify the value of numeric_only to silence this warning.\n",
            "  df_sum = df.sum()\n"
          ]
        },
        {
          "output_type": "execute_result",
          "data": {
            "text/plain": [
              "                             Kernel Shape        Output Shape     Params  \\\n",
              "Layer                                                                      \n",
              "0_backbone.Conv2d_0         [3, 64, 3, 3]   [128, 64, 18, 18]     1792.0   \n",
              "1_backbone.BatchNorm2d_1             [64]   [128, 64, 18, 18]      128.0   \n",
              "2_backbone.GELU_2                       -   [128, 64, 18, 18]        NaN   \n",
              "3_backbone.Conv2d_3       [64, 128, 5, 5]  [128, 128, 10, 10]   204928.0   \n",
              "4_backbone.BatchNorm2d_4            [128]  [128, 128, 10, 10]      256.0   \n",
              "5_backbone.GELU_5                       -  [128, 128, 10, 10]        NaN   \n",
              "6_head.Flatten_0                        -        [128, 12800]        NaN   \n",
              "7_head.Linear_1              [12800, 128]          [128, 128]  1638528.0   \n",
              "8_head.BatchNorm1d_2                [128]          [128, 128]      256.0   \n",
              "9_head.GELU_3                           -          [128, 128]        NaN   \n",
              "10_head.Dropout_4                       -          [128, 128]        NaN   \n",
              "11_head.Linear_5                [128, 10]           [128, 10]     1290.0   \n",
              "\n",
              "                           Mult-Adds  \n",
              "Layer                                 \n",
              "0_backbone.Conv2d_0         559872.0  \n",
              "1_backbone.BatchNorm2d_1        64.0  \n",
              "2_backbone.GELU_2                NaN  \n",
              "3_backbone.Conv2d_3       20480000.0  \n",
              "4_backbone.BatchNorm2d_4       128.0  \n",
              "5_backbone.GELU_5                NaN  \n",
              "6_head.Flatten_0                 NaN  \n",
              "7_head.Linear_1            1638400.0  \n",
              "8_head.BatchNorm1d_2           128.0  \n",
              "9_head.GELU_3                    NaN  \n",
              "10_head.Dropout_4                NaN  \n",
              "11_head.Linear_5              1280.0  "
            ],
            "text/html": [
              "\n",
              "  <div id=\"df-b40d2c17-d423-4ecf-9a36-66170fdcb44f\">\n",
              "    <div class=\"colab-df-container\">\n",
              "      <div>\n",
              "<style scoped>\n",
              "    .dataframe tbody tr th:only-of-type {\n",
              "        vertical-align: middle;\n",
              "    }\n",
              "\n",
              "    .dataframe tbody tr th {\n",
              "        vertical-align: top;\n",
              "    }\n",
              "\n",
              "    .dataframe thead th {\n",
              "        text-align: right;\n",
              "    }\n",
              "</style>\n",
              "<table border=\"1\" class=\"dataframe\">\n",
              "  <thead>\n",
              "    <tr style=\"text-align: right;\">\n",
              "      <th></th>\n",
              "      <th>Kernel Shape</th>\n",
              "      <th>Output Shape</th>\n",
              "      <th>Params</th>\n",
              "      <th>Mult-Adds</th>\n",
              "    </tr>\n",
              "    <tr>\n",
              "      <th>Layer</th>\n",
              "      <th></th>\n",
              "      <th></th>\n",
              "      <th></th>\n",
              "      <th></th>\n",
              "    </tr>\n",
              "  </thead>\n",
              "  <tbody>\n",
              "    <tr>\n",
              "      <th>0_backbone.Conv2d_0</th>\n",
              "      <td>[3, 64, 3, 3]</td>\n",
              "      <td>[128, 64, 18, 18]</td>\n",
              "      <td>1792.0</td>\n",
              "      <td>559872.0</td>\n",
              "    </tr>\n",
              "    <tr>\n",
              "      <th>1_backbone.BatchNorm2d_1</th>\n",
              "      <td>[64]</td>\n",
              "      <td>[128, 64, 18, 18]</td>\n",
              "      <td>128.0</td>\n",
              "      <td>64.0</td>\n",
              "    </tr>\n",
              "    <tr>\n",
              "      <th>2_backbone.GELU_2</th>\n",
              "      <td>-</td>\n",
              "      <td>[128, 64, 18, 18]</td>\n",
              "      <td>NaN</td>\n",
              "      <td>NaN</td>\n",
              "    </tr>\n",
              "    <tr>\n",
              "      <th>3_backbone.Conv2d_3</th>\n",
              "      <td>[64, 128, 5, 5]</td>\n",
              "      <td>[128, 128, 10, 10]</td>\n",
              "      <td>204928.0</td>\n",
              "      <td>20480000.0</td>\n",
              "    </tr>\n",
              "    <tr>\n",
              "      <th>4_backbone.BatchNorm2d_4</th>\n",
              "      <td>[128]</td>\n",
              "      <td>[128, 128, 10, 10]</td>\n",
              "      <td>256.0</td>\n",
              "      <td>128.0</td>\n",
              "    </tr>\n",
              "    <tr>\n",
              "      <th>5_backbone.GELU_5</th>\n",
              "      <td>-</td>\n",
              "      <td>[128, 128, 10, 10]</td>\n",
              "      <td>NaN</td>\n",
              "      <td>NaN</td>\n",
              "    </tr>\n",
              "    <tr>\n",
              "      <th>6_head.Flatten_0</th>\n",
              "      <td>-</td>\n",
              "      <td>[128, 12800]</td>\n",
              "      <td>NaN</td>\n",
              "      <td>NaN</td>\n",
              "    </tr>\n",
              "    <tr>\n",
              "      <th>7_head.Linear_1</th>\n",
              "      <td>[12800, 128]</td>\n",
              "      <td>[128, 128]</td>\n",
              "      <td>1638528.0</td>\n",
              "      <td>1638400.0</td>\n",
              "    </tr>\n",
              "    <tr>\n",
              "      <th>8_head.BatchNorm1d_2</th>\n",
              "      <td>[128]</td>\n",
              "      <td>[128, 128]</td>\n",
              "      <td>256.0</td>\n",
              "      <td>128.0</td>\n",
              "    </tr>\n",
              "    <tr>\n",
              "      <th>9_head.GELU_3</th>\n",
              "      <td>-</td>\n",
              "      <td>[128, 128]</td>\n",
              "      <td>NaN</td>\n",
              "      <td>NaN</td>\n",
              "    </tr>\n",
              "    <tr>\n",
              "      <th>10_head.Dropout_4</th>\n",
              "      <td>-</td>\n",
              "      <td>[128, 128]</td>\n",
              "      <td>NaN</td>\n",
              "      <td>NaN</td>\n",
              "    </tr>\n",
              "    <tr>\n",
              "      <th>11_head.Linear_5</th>\n",
              "      <td>[128, 10]</td>\n",
              "      <td>[128, 10]</td>\n",
              "      <td>1290.0</td>\n",
              "      <td>1280.0</td>\n",
              "    </tr>\n",
              "  </tbody>\n",
              "</table>\n",
              "</div>\n",
              "      <button class=\"colab-df-convert\" onclick=\"convertToInteractive('df-b40d2c17-d423-4ecf-9a36-66170fdcb44f')\"\n",
              "              title=\"Convert this dataframe to an interactive table.\"\n",
              "              style=\"display:none;\">\n",
              "        \n",
              "  <svg xmlns=\"http://www.w3.org/2000/svg\" height=\"24px\"viewBox=\"0 0 24 24\"\n",
              "       width=\"24px\">\n",
              "    <path d=\"M0 0h24v24H0V0z\" fill=\"none\"/>\n",
              "    <path d=\"M18.56 5.44l.94 2.06.94-2.06 2.06-.94-2.06-.94-.94-2.06-.94 2.06-2.06.94zm-11 1L8.5 8.5l.94-2.06 2.06-.94-2.06-.94L8.5 2.5l-.94 2.06-2.06.94zm10 10l.94 2.06.94-2.06 2.06-.94-2.06-.94-.94-2.06-.94 2.06-2.06.94z\"/><path d=\"M17.41 7.96l-1.37-1.37c-.4-.4-.92-.59-1.43-.59-.52 0-1.04.2-1.43.59L10.3 9.45l-7.72 7.72c-.78.78-.78 2.05 0 2.83L4 21.41c.39.39.9.59 1.41.59.51 0 1.02-.2 1.41-.59l7.78-7.78 2.81-2.81c.8-.78.8-2.07 0-2.86zM5.41 20L4 18.59l7.72-7.72 1.47 1.35L5.41 20z\"/>\n",
              "  </svg>\n",
              "      </button>\n",
              "      \n",
              "  <style>\n",
              "    .colab-df-container {\n",
              "      display:flex;\n",
              "      flex-wrap:wrap;\n",
              "      gap: 12px;\n",
              "    }\n",
              "\n",
              "    .colab-df-convert {\n",
              "      background-color: #E8F0FE;\n",
              "      border: none;\n",
              "      border-radius: 50%;\n",
              "      cursor: pointer;\n",
              "      display: none;\n",
              "      fill: #1967D2;\n",
              "      height: 32px;\n",
              "      padding: 0 0 0 0;\n",
              "      width: 32px;\n",
              "    }\n",
              "\n",
              "    .colab-df-convert:hover {\n",
              "      background-color: #E2EBFA;\n",
              "      box-shadow: 0px 1px 2px rgba(60, 64, 67, 0.3), 0px 1px 3px 1px rgba(60, 64, 67, 0.15);\n",
              "      fill: #174EA6;\n",
              "    }\n",
              "\n",
              "    [theme=dark] .colab-df-convert {\n",
              "      background-color: #3B4455;\n",
              "      fill: #D2E3FC;\n",
              "    }\n",
              "\n",
              "    [theme=dark] .colab-df-convert:hover {\n",
              "      background-color: #434B5C;\n",
              "      box-shadow: 0px 1px 3px 1px rgba(0, 0, 0, 0.15);\n",
              "      filter: drop-shadow(0px 1px 2px rgba(0, 0, 0, 0.3));\n",
              "      fill: #FFFFFF;\n",
              "    }\n",
              "  </style>\n",
              "\n",
              "      <script>\n",
              "        const buttonEl =\n",
              "          document.querySelector('#df-b40d2c17-d423-4ecf-9a36-66170fdcb44f button.colab-df-convert');\n",
              "        buttonEl.style.display =\n",
              "          google.colab.kernel.accessAllowed ? 'block' : 'none';\n",
              "\n",
              "        async function convertToInteractive(key) {\n",
              "          const element = document.querySelector('#df-b40d2c17-d423-4ecf-9a36-66170fdcb44f');\n",
              "          const dataTable =\n",
              "            await google.colab.kernel.invokeFunction('convertToInteractive',\n",
              "                                                     [key], {});\n",
              "          if (!dataTable) return;\n",
              "\n",
              "          const docLinkHtml = 'Like what you see? Visit the ' +\n",
              "            '<a target=\"_blank\" href=https://colab.research.google.com/notebooks/data_table.ipynb>data table notebook</a>'\n",
              "            + ' to learn more about interactive tables.';\n",
              "          element.innerHTML = '';\n",
              "          dataTable['output_type'] = 'display_data';\n",
              "          await google.colab.output.renderOutput(dataTable, element);\n",
              "          const docLink = document.createElement('div');\n",
              "          docLink.innerHTML = docLinkHtml;\n",
              "          element.appendChild(docLink);\n",
              "        }\n",
              "      </script>\n",
              "    </div>\n",
              "  </div>\n",
              "  "
            ]
          },
          "metadata": {},
          "execution_count": 68
        }
      ]
    },
    {
      "cell_type": "code",
      "source": [
        "criterion = torch.nn.CrossEntropyLoss()\n",
        "optimizer = torch.optim.AdamW(cifarmodel.parameters(), lr=learning_rate, weight_decay=0.01,)"
      ],
      "metadata": {
        "id": "nsJeUpBK7hwS"
      },
      "execution_count": null,
      "outputs": []
    },
    {
      "cell_type": "code",
      "source": [
        "def traincifar(model, optimizer, criterion, dataloader):\n",
        "    model.train()\n",
        "    train_loss = 0.0\n",
        "    train_acc = 0.0\n",
        "    total_instances = 0\n",
        "    for iter, (xb, yb) in enumerate(dataloader):\n",
        "      xb = xb.to(device)\n",
        "      yb = yb.to(device)\n",
        "      \n",
        "      logits = model(xb)\n",
        "      loss = criterion(logits, yb)\n",
        "      \n",
        "      train_loss += loss.item()\n",
        "      train_acc += (torch.argmax(logits, dim=1) == yb).sum().item()\n",
        "      \n",
        "      optimizer.zero_grad()\n",
        "      \n",
        "      loss.backward()\n",
        "      optimizer.step()\n",
        "\n",
        "      total_instances += len(xb)\n",
        "\n",
        "    train_loss /= len(dataloader)\n",
        "    train_acc /= total_instances\n",
        "    return train_loss, train_acc"
      ],
      "metadata": {
        "id": "8eVujKB0DDn4"
      },
      "execution_count": null,
      "outputs": []
    },
    {
      "cell_type": "code",
      "source": [
        "torch.cuda.empty_cache()\n",
        "best_acc = 0.0\n",
        "\n",
        "train_losses = []\n",
        "train_accs = []\n",
        "\n",
        "checkpoint_path = \"./cifar_model_checkpoint.pth\"\n",
        "max_iters = 10\n",
        "\n",
        "for epoch in tqdm(range(max_iters)):\n",
        "    train_loss, train_accuracy = traincifar(cifarmodel, optimizer, criterion, cifar_trainloader)\n",
        "\n",
        "    train_losses.append(train_loss)\n",
        "    train_accs.append(train_accuracy)\n",
        "\n",
        "    val_losses.append(val_loss)\n",
        "    val_accs.append(val_accuracy)\n",
        "\n",
        "    print(\"Epoch {}/{} | Train Loss: {:.4f} | Train Accuracy: {:.2f}\".format(epoch+1, max_iters, train_loss, train_accuracy))\n",
        "    if train_accuracy > best_acc:\n",
        "      best_acc = train_accuracy\n",
        "      torch.save({\n",
        "          \"epoch\": epoch,\n",
        "          \"model_state_dict\": cifarmodel.state_dict(),\n",
        "          \"optimizer_state_dict\": optimizer.state_dict(),\n",
        "          \"loss\": train_loss,\n",
        "          \"val_acc\": train_accuracy}, checkpoint_path)\n"
      ],
      "metadata": {
        "colab": {
          "base_uri": "https://localhost:8080/"
        },
        "id": "cN1E_ibw74rs",
        "outputId": "e7053ab6-e048-4248-84f2-b5612b6992ad"
      },
      "execution_count": null,
      "outputs": [
        {
          "output_type": "stream",
          "name": "stderr",
          "text": [
            " 10%|█         | 1/10 [00:16<02:27, 16.43s/it]"
          ]
        },
        {
          "output_type": "stream",
          "name": "stdout",
          "text": [
            "Epoch 1/10 | Train Loss: 1.2928 | Train Accuracy: 0.53\n"
          ]
        },
        {
          "output_type": "stream",
          "name": "stderr",
          "text": [
            "\r 20%|██        | 2/10 [00:31<02:06, 15.77s/it]"
          ]
        },
        {
          "output_type": "stream",
          "name": "stdout",
          "text": [
            "Epoch 2/10 | Train Loss: 0.9193 | Train Accuracy: 0.67\n"
          ]
        },
        {
          "output_type": "stream",
          "name": "stderr",
          "text": [
            "\r 30%|███       | 3/10 [00:48<01:52, 16.11s/it]"
          ]
        },
        {
          "output_type": "stream",
          "name": "stdout",
          "text": [
            "Epoch 3/10 | Train Loss: 0.7164 | Train Accuracy: 0.75\n"
          ]
        },
        {
          "output_type": "stream",
          "name": "stderr",
          "text": [
            "\r 40%|████      | 4/10 [01:03<01:33, 15.66s/it]"
          ]
        },
        {
          "output_type": "stream",
          "name": "stdout",
          "text": [
            "Epoch 4/10 | Train Loss: 0.5369 | Train Accuracy: 0.81\n"
          ]
        },
        {
          "output_type": "stream",
          "name": "stderr",
          "text": [
            "\r 50%|█████     | 5/10 [01:18<01:16, 15.39s/it]"
          ]
        },
        {
          "output_type": "stream",
          "name": "stdout",
          "text": [
            "Epoch 5/10 | Train Loss: 0.3841 | Train Accuracy: 0.87\n"
          ]
        },
        {
          "output_type": "stream",
          "name": "stderr",
          "text": [
            "\r 60%|██████    | 6/10 [01:34<01:02, 15.65s/it]"
          ]
        },
        {
          "output_type": "stream",
          "name": "stdout",
          "text": [
            "Epoch 6/10 | Train Loss: 0.2774 | Train Accuracy: 0.90\n"
          ]
        },
        {
          "output_type": "stream",
          "name": "stderr",
          "text": [
            "\r 70%|███████   | 7/10 [01:49<00:46, 15.42s/it]"
          ]
        },
        {
          "output_type": "stream",
          "name": "stdout",
          "text": [
            "Epoch 7/10 | Train Loss: 0.1949 | Train Accuracy: 0.93\n"
          ]
        },
        {
          "output_type": "stream",
          "name": "stderr",
          "text": [
            "\r 80%|████████  | 8/10 [02:04<00:30, 15.29s/it]"
          ]
        },
        {
          "output_type": "stream",
          "name": "stdout",
          "text": [
            "Epoch 8/10 | Train Loss: 0.1564 | Train Accuracy: 0.95\n"
          ]
        },
        {
          "output_type": "stream",
          "name": "stderr",
          "text": [
            "\r 90%|█████████ | 9/10 [02:19<00:15, 15.25s/it]"
          ]
        },
        {
          "output_type": "stream",
          "name": "stdout",
          "text": [
            "Epoch 9/10 | Train Loss: 0.1265 | Train Accuracy: 0.96\n"
          ]
        },
        {
          "output_type": "stream",
          "name": "stderr",
          "text": [
            "100%|██████████| 10/10 [02:34<00:00, 15.46s/it]"
          ]
        },
        {
          "output_type": "stream",
          "name": "stdout",
          "text": [
            "Epoch 10/10 | Train Loss: 0.1202 | Train Accuracy: 0.96\n"
          ]
        },
        {
          "output_type": "stream",
          "name": "stderr",
          "text": [
            "\n"
          ]
        }
      ]
    },
    {
      "cell_type": "code",
      "source": [
        "# plot loss curves\n",
        "plt.plot(range(len(train_losses)), train_losses, label=\"training\")\n",
        "plt.xlabel(\"epoch\")\n",
        "plt.ylabel(\"average loss\")\n",
        "plt.xlim(0, len(train_losses) - 1)\n",
        "plt.ylim(0, None)\n",
        "plt.legend()\n",
        "plt.grid()\n",
        "plt.show()\n",
        "\n",
        "# plot accuracy curves\n",
        "plt.plot(range(len(train_accs)), train_accs, label=\"training\")\n",
        "plt.xlabel(\"epoch\")\n",
        "plt.ylabel(\"accuracy\")\n",
        "plt.xlim(0, len(train_accs) - 1)\n",
        "plt.ylim(0, None)\n",
        "plt.legend()\n",
        "plt.grid()\n",
        "plt.show()"
      ],
      "metadata": {
        "colab": {
          "base_uri": "https://localhost:8080/",
          "height": 881
        },
        "id": "Qa_IxCEy8VLh",
        "outputId": "a3e7cd0b-29fb-4400-e470-dae5bb412b1b"
      },
      "execution_count": null,
      "outputs": [
        {
          "output_type": "display_data",
          "data": {
            "text/plain": [
              "<Figure size 640x480 with 1 Axes>"
            ],
            "image/png": "[encoded data removed]"
          },
          "metadata": {}
        },
        {
          "output_type": "display_data",
          "data": {
            "text/plain": [
              "<Figure size 640x480 with 1 Axes>"
            ],
            "image/png": "[encoded data removed]"
          },
          "metadata": {}
        }
      ]
    },
    {
      "cell_type": "code",
      "source": [
        "model = ConvNet(in_channels=3, output_size=10).to(device)\n",
        "model_state_dict_path = torch.load(checkpoint_path)\n",
        "model.load_state_dict(model_state_dict_path[\"model_state_dict\"])"
      ],
      "metadata": {
        "colab": {
          "base_uri": "https://localhost:8080/"
        },
        "id": "hiPJwdGo8chJ",
        "outputId": "b61a726d-b589-4c89-f663-56b1de2f18e2"
      },
      "execution_count": null,
      "outputs": [
        {
          "output_type": "execute_result",
          "data": {
            "text/plain": [
              "<All keys matched successfully>"
            ]
          },
          "metadata": {},
          "execution_count": 74
        }
      ]
    },
    {
      "cell_type": "code",
      "source": [
        "def eval(model, criterion, dataloader):\n",
        "    model.eval()\n",
        "    val_loss = 0.0\n",
        "    val_acc = 0.0\n",
        "    total_instances = 0\n",
        "    with torch.inference_mode():\n",
        "      for i, (xb, yb) in enumerate(dataloader):\n",
        "        xb = xb.to(device)\n",
        "        yb = yb.to(device)\n",
        "        \n",
        "        logits = model(xb)\n",
        "        loss = criterion(logits, yb)\n",
        "        \n",
        "        val_loss += loss.item()\n",
        "        val_acc += (torch.argmax(logits, dim=1) == yb).sum().item()\n",
        "        total_instances += len(xb)\n",
        "\n",
        "    val_loss /= len(dataloader)\n",
        "    val_acc /= total_instances\n",
        "    return val_loss, val_acc\n",
        "\n",
        "_, test_accuracy = eval(model, criterion, cifar_testloader)\n",
        "print(\"CIFAR Conv Model Test Accuracy: {:.2f}%\".format(test_accuracy))"
      ],
      "metadata": {
        "colab": {
          "base_uri": "https://localhost:8080/"
        },
        "id": "VeIbtgrO8ibH",
        "outputId": "1af7fb5d-5ceb-49e2-b73c-6344c9476a48"
      },
      "execution_count": null,
      "outputs": [
        {
          "output_type": "stream",
          "name": "stdout",
          "text": [
            "CIFAR Conv Model Test Accuracy: 0.70%\n"
          ]
        }
      ]
    },
    {
      "cell_type": "code",
      "source": [],
      "metadata": {
        "id": "tTN3-80cFv2v"
      },
      "execution_count": null,
      "outputs": []
    }
  ]
}