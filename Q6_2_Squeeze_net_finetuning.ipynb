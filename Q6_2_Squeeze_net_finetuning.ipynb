{
  "nbformat": 4,
  "nbformat_minor": 0,
  "metadata": {
    "colab": {
      "provenance": []
    },
    "kernelspec": {
      "name": "python3",
      "display_name": "Python 3"
    },
    "language_info": {
      "name": "python"
    },
    "accelerator": "GPU",
    "gpuClass": "standard"
  },
  "cells": [
    {
      "cell_type": "code",
      "source": [
        "import os\n",
        "\n",
        "\n",
        "def create_data_list(root_dir, data_name, save_paths):\n",
        "  data_path = os.path.join(root_dir, data_name)\n",
        "  labels = os.listdir(data_path)\n",
        "  imgs_paths = []\n",
        "  class_labels = []\n",
        "  for label in labels:\n",
        "    img_names = os.listdir(os.path.join(data_path, label))\n",
        "    class_labels.extend([label] * len(img_names))\n",
        "    for img_name in img_names:\n",
        "      img_full_path = os.path.join(data_path, label, img_name)\n",
        "      imgs_paths.append(img_full_path)\n",
        "\n",
        "  if os.path.exists(save_paths[0]) and os.path.exists(save_paths[1]):\n",
        "    with open(save_paths[0], \"w\") as fd:\n",
        "      fd.write(\"\\n\".join(imgs_paths))\n",
        "    \n",
        "    with open(save_paths[1], \"w\") as fd:\n",
        "      fd.write(\"\\n\".join(class_labels))\n",
        "\n",
        "create_data_list(\"./oxford-flowers17\", \"train\", (\"train_files.txt\", \"train_labels.txt\"))\n",
        "create_data_list(\"./oxford-flowers17\", \"val\", (\"val_files.txt\", \"val_labels.txt\"))\n",
        "create_data_list(\"./oxford-flowers17\", \"test\", (\"test_files.txt\", \"test_labels.txt\"))"
      ],
      "metadata": {
        "id": "qrOUisuArVW3"
      },
      "execution_count": 17,
      "outputs": []
    },
    {
      "cell_type": "code",
      "source": [
        "!nvidia-smi"
      ],
      "metadata": {
        "colab": {
          "base_uri": "https://localhost:8080/"
        },
        "id": "Pn0Ixga-tQWj",
        "outputId": "a3f37eb0-b0f3-407f-aac2-2a21aa6ef49c"
      },
      "execution_count": 2,
      "outputs": [
        {
          "output_type": "stream",
          "name": "stdout",
          "text": [
            "Fri Apr 28 21:27:23 2023       \n",
            "+-----------------------------------------------------------------------------+\n",
            "| NVIDIA-SMI 525.85.12    Driver Version: 525.85.12    CUDA Version: 12.0     |\n",
            "|-------------------------------+----------------------+----------------------+\n",
            "| GPU  Name        Persistence-M| Bus-Id        Disp.A | Volatile Uncorr. ECC |\n",
            "| Fan  Temp  Perf  Pwr:Usage/Cap|         Memory-Usage | GPU-Util  Compute M. |\n",
            "|                               |                      |               MIG M. |\n",
            "|===============================+======================+======================|\n",
            "|   0  Tesla T4            Off  | 00000000:00:04.0 Off |                    0 |\n",
            "| N/A   43C    P8     9W /  70W |      0MiB / 15360MiB |      0%      Default |\n",
            "|                               |                      |                  N/A |\n",
            "+-------------------------------+----------------------+----------------------+\n",
            "                                                                               \n",
            "+-----------------------------------------------------------------------------+\n",
            "| Processes:                                                                  |\n",
            "|  GPU   GI   CI        PID   Type   Process name                  GPU Memory |\n",
            "|        ID   ID                                                   Usage      |\n",
            "|=============================================================================|\n",
            "|  No running processes found                                                 |\n",
            "+-----------------------------------------------------------------------------+\n"
          ]
        }
      ]
    },
    {
      "cell_type": "code",
      "source": [
        "!pip install torchsummaryX"
      ],
      "metadata": {
        "colab": {
          "base_uri": "https://localhost:8080/"
        },
        "id": "C-56-GjPvxE2",
        "outputId": "205b3e7c-5b62-4572-dba7-3c159e2e04da"
      },
      "execution_count": 3,
      "outputs": [
        {
          "output_type": "stream",
          "name": "stdout",
          "text": [
            "Looking in indexes: https://pypi.org/simple, https://us-python.pkg.dev/colab-wheels/public/simple/\n",
            "Collecting torchsummaryX\n",
            "  Downloading torchsummaryX-1.3.0-py3-none-any.whl (3.6 kB)\n",
            "Requirement already satisfied: numpy in /usr/local/lib/python3.10/dist-packages (from torchsummaryX) (1.22.4)\n",
            "Requirement already satisfied: pandas in /usr/local/lib/python3.10/dist-packages (from torchsummaryX) (1.5.3)\n",
            "Requirement already satisfied: torch in /usr/local/lib/python3.10/dist-packages (from torchsummaryX) (2.0.0+cu118)\n",
            "Requirement already satisfied: pytz>=2020.1 in /usr/local/lib/python3.10/dist-packages (from pandas->torchsummaryX) (2022.7.1)\n",
            "Requirement already satisfied: python-dateutil>=2.8.1 in /usr/local/lib/python3.10/dist-packages (from pandas->torchsummaryX) (2.8.2)\n",
            "Requirement already satisfied: networkx in /usr/local/lib/python3.10/dist-packages (from torch->torchsummaryX) (3.1)\n",
            "Requirement already satisfied: filelock in /usr/local/lib/python3.10/dist-packages (from torch->torchsummaryX) (3.12.0)\n",
            "Requirement already satisfied: triton==2.0.0 in /usr/local/lib/python3.10/dist-packages (from torch->torchsummaryX) (2.0.0)\n",
            "Requirement already satisfied: typing-extensions in /usr/local/lib/python3.10/dist-packages (from torch->torchsummaryX) (4.5.0)\n",
            "Requirement already satisfied: sympy in /usr/local/lib/python3.10/dist-packages (from torch->torchsummaryX) (1.11.1)\n",
            "Requirement already satisfied: jinja2 in /usr/local/lib/python3.10/dist-packages (from torch->torchsummaryX) (3.1.2)\n",
            "Requirement already satisfied: lit in /usr/local/lib/python3.10/dist-packages (from triton==2.0.0->torch->torchsummaryX) (16.0.2)\n",
            "Requirement already satisfied: cmake in /usr/local/lib/python3.10/dist-packages (from triton==2.0.0->torch->torchsummaryX) (3.25.2)\n",
            "Requirement already satisfied: six>=1.5 in /usr/local/lib/python3.10/dist-packages (from python-dateutil>=2.8.1->pandas->torchsummaryX) (1.16.0)\n",
            "Requirement already satisfied: MarkupSafe>=2.0 in /usr/local/lib/python3.10/dist-packages (from jinja2->torch->torchsummaryX) (2.1.2)\n",
            "Requirement already satisfied: mpmath>=0.19 in /usr/local/lib/python3.10/dist-packages (from sympy->torch->torchsummaryX) (1.3.0)\n",
            "Installing collected packages: torchsummaryX\n",
            "Successfully installed torchsummaryX-1.3.0\n"
          ]
        }
      ]
    },
    {
      "cell_type": "code",
      "source": [
        "import torch\n",
        "import os\n",
        "import gc\n",
        "from tqdm import tqdm\n",
        "import numpy as np\n",
        "import scipy\n",
        "from torchsummaryX import summary\n",
        "import torchvision\n",
        "import matplotlib.pyplot as plt\n",
        "from PIL import Image\n",
        "from torchvision.transforms import transforms"
      ],
      "metadata": {
        "id": "F16XaKJQw6Pb"
      },
      "execution_count": 4,
      "outputs": []
    },
    {
      "cell_type": "code",
      "source": [
        "device = \"cuda\" if torch.cuda.is_available() else \"cpu\"\n",
        "print(\"Device: \", device)"
      ],
      "metadata": {
        "colab": {
          "base_uri": "https://localhost:8080/"
        },
        "id": "gkb9fWiHw_HG",
        "outputId": "b38f6ae6-122d-4734-ecc2-2be6545cd57e"
      },
      "execution_count": 5,
      "outputs": [
        {
          "output_type": "stream",
          "name": "stdout",
          "text": [
            "Device:  cuda\n"
          ]
        }
      ]
    },
    {
      "cell_type": "code",
      "source": [
        "class FlowerDataset(torch.utils.data.Dataset):\n",
        "    def __init__(self, mode=\"train\"):\n",
        "      self.xs = np.loadtxt(f\"{mode}_files.txt\", delimiter=\"\\n\", dtype=\"str\")\n",
        "      self.ys = np.loadtxt(f\"{mode}_labels.txt\", delimiter=\"\\n\")\n",
        "      self.img_transform = transforms.Compose([\n",
        "        transforms.Resize((227, 227)),\n",
        "        transforms.ToTensor(),\n",
        "      ])\n",
        "\n",
        "    def __len__(self):\n",
        "        return len(self.xs)\n",
        "    \n",
        "    def __getitem__(self, idx):\n",
        "      with Image.open(self.xs[idx]) as img:\n",
        "        img = self.img_transform(img)\n",
        "        if img.shape[0] == 1:\n",
        "          img = img.repeat(3, 1, 1)\n",
        "        label = self.ys[idx]\n",
        "        return img, label"
      ],
      "metadata": {
        "id": "dMtqLFwlxAvK"
      },
      "execution_count": 24,
      "outputs": []
    },
    {
      "cell_type": "code",
      "source": [
        "max_iters = 50\n",
        "batch_size = 128\n",
        "learning_rate = 1e-3"
      ],
      "metadata": {
        "id": "nXyWRAGUxYOS"
      },
      "execution_count": 25,
      "outputs": []
    },
    {
      "cell_type": "code",
      "source": [
        "train_dataset = FlowerDataset(mode=\"train\")\n",
        "train_loader = torch.utils.data.DataLoader(\n",
        "    train_dataset, \n",
        "    batch_size=batch_size, \n",
        "    shuffle=True,\n",
        "    drop_last=False,\n",
        ")\n",
        "\n",
        "val_dataset = FlowerDataset(mode=\"val\")\n",
        "val_loader = torch.utils.data.DataLoader(\n",
        "    val_dataset, \n",
        "    batch_size=batch_size, \n",
        "    shuffle=False,\n",
        "    drop_last=False,\n",
        ")\n",
        "\n",
        "test_dataset = FlowerDataset(mode=\"test\")\n",
        "test_loader = torch.utils.data.DataLoader(\n",
        "    test_dataset, \n",
        "    batch_size=batch_size, \n",
        "    shuffle=False,\n",
        "    drop_last=False,\n",
        ")"
      ],
      "metadata": {
        "id": "GKelZmnLxaS-"
      },
      "execution_count": 26,
      "outputs": []
    },
    {
      "cell_type": "code",
      "source": [
        "class LeNet(torch.nn.Module):\n",
        "    def __init__(self, in_channels=3, out_size=17):\n",
        "        super(LeNet, self).__init__()\n",
        "        layers = [\n",
        "          torch.nn.Conv2d(in_channels=in_channels, out_channels=6, kernel_size=5, stride=1, padding=0),\n",
        "          torch.nn.ReLU(),\n",
        "          torch.nn.MaxPool2d(kernel_size=2, stride=2),\n",
        "          torch.nn.Conv2d(in_channels=6, out_channels=16, kernel_size=5, stride=1, padding=0),\n",
        "          torch.nn.ReLU(),\n",
        "          torch.nn.MaxPool2d(kernel_size=2, stride=2),\n",
        "          torch.nn.Flatten(),\n",
        "          torch.nn.Linear(16*53*53, 120),\n",
        "          torch.nn.ReLU(),\n",
        "          torch.nn.Linear(120, 84),\n",
        "          torch.nn.ReLU(),\n",
        "          torch.nn.Linear(84, out_size)\n",
        "        ]\n",
        "        self.network = torch.nn.Sequential(*layers)\n",
        "\n",
        "    def forward(self, x):\n",
        "        return self.network(x)"
      ],
      "metadata": {
        "id": "GC0ZuJ84xlFh"
      },
      "execution_count": 69,
      "outputs": []
    },
    {
      "cell_type": "code",
      "source": [
        "convnet = LeNet().to(device)\n",
        "imgs, labels = next(iter(train_loader))\n",
        "summary(convnet, imgs.to(device))"
      ],
      "metadata": {
        "colab": {
          "base_uri": "https://localhost:8080/",
          "height": 906
        },
        "id": "Rst7hjig3uNH",
        "outputId": "926ccbf7-4264-4b15-e264-7cd00e083006"
      },
      "execution_count": 70,
      "outputs": [
        {
          "output_type": "stream",
          "name": "stdout",
          "text": [
            "================================================================================\n",
            "                        Kernel Shape         Output Shape   Params  Mult-Adds\n",
            "Layer                                                                        \n",
            "0_network.Conv2d_0      [3, 6, 5, 5]   [128, 6, 223, 223]    456.0  22.37805M\n",
            "1_network.ReLU_1                   -   [128, 6, 223, 223]        -          -\n",
            "2_network.MaxPool2d_2              -   [128, 6, 111, 111]        -          -\n",
            "3_network.Conv2d_3     [6, 16, 5, 5]  [128, 16, 107, 107]   2.416k   27.4776M\n",
            "4_network.ReLU_4                   -  [128, 16, 107, 107]        -          -\n",
            "5_network.MaxPool2d_5              -    [128, 16, 53, 53]        -          -\n",
            "6_network.Flatten_6                -         [128, 44944]        -          -\n",
            "7_network.Linear_7      [44944, 120]           [128, 120]  5.3934M   5.39328M\n",
            "8_network.ReLU_8                   -           [128, 120]        -          -\n",
            "9_network.Linear_9         [120, 84]            [128, 84]  10.164k     10.08k\n",
            "10_network.ReLU_10                 -            [128, 84]        -          -\n",
            "11_network.Linear_11        [84, 17]            [128, 17]   1.445k     1.428k\n",
            "--------------------------------------------------------------------------------\n",
            "                          Totals\n",
            "Total params           5.407881M\n",
            "Trainable params       5.407881M\n",
            "Non-trainable params         0.0\n",
            "Mult-Adds             55.260438M\n",
            "================================================================================\n"
          ]
        },
        {
          "output_type": "stream",
          "name": "stderr",
          "text": [
            "/usr/local/lib/python3.10/dist-packages/torchsummaryX/torchsummaryX.py:101: FutureWarning: The default value of numeric_only in DataFrame.sum is deprecated. In a future version, it will default to False. In addition, specifying 'numeric_only=None' is deprecated. Select only valid columns or specify the value of numeric_only to silence this warning.\n",
            "  df_sum = df.sum()\n"
          ]
        },
        {
          "output_type": "execute_result",
          "data": {
            "text/plain": [
              "                        Kernel Shape         Output Shape     Params  \\\n",
              "Layer                                                                  \n",
              "0_network.Conv2d_0      [3, 6, 5, 5]   [128, 6, 223, 223]      456.0   \n",
              "1_network.ReLU_1                   -   [128, 6, 223, 223]        NaN   \n",
              "2_network.MaxPool2d_2              -   [128, 6, 111, 111]        NaN   \n",
              "3_network.Conv2d_3     [6, 16, 5, 5]  [128, 16, 107, 107]     2416.0   \n",
              "4_network.ReLU_4                   -  [128, 16, 107, 107]        NaN   \n",
              "5_network.MaxPool2d_5              -    [128, 16, 53, 53]        NaN   \n",
              "6_network.Flatten_6                -         [128, 44944]        NaN   \n",
              "7_network.Linear_7      [44944, 120]           [128, 120]  5393400.0   \n",
              "8_network.ReLU_8                   -           [128, 120]        NaN   \n",
              "9_network.Linear_9         [120, 84]            [128, 84]    10164.0   \n",
              "10_network.ReLU_10                 -            [128, 84]        NaN   \n",
              "11_network.Linear_11        [84, 17]            [128, 17]     1445.0   \n",
              "\n",
              "                        Mult-Adds  \n",
              "Layer                              \n",
              "0_network.Conv2d_0     22378050.0  \n",
              "1_network.ReLU_1              NaN  \n",
              "2_network.MaxPool2d_2         NaN  \n",
              "3_network.Conv2d_3     27477600.0  \n",
              "4_network.ReLU_4              NaN  \n",
              "5_network.MaxPool2d_5         NaN  \n",
              "6_network.Flatten_6           NaN  \n",
              "7_network.Linear_7      5393280.0  \n",
              "8_network.ReLU_8              NaN  \n",
              "9_network.Linear_9        10080.0  \n",
              "10_network.ReLU_10            NaN  \n",
              "11_network.Linear_11       1428.0  "
            ],
            "text/html": [
              "\n",
              "  <div id=\"df-b4d21aaf-1ee9-4e04-9e0b-61bed63fd823\">\n",
              "    <div class=\"colab-df-container\">\n",
              "      <div>\n",
              "<style scoped>\n",
              "    .dataframe tbody tr th:only-of-type {\n",
              "        vertical-align: middle;\n",
              "    }\n",
              "\n",
              "    .dataframe tbody tr th {\n",
              "        vertical-align: top;\n",
              "    }\n",
              "\n",
              "    .dataframe thead th {\n",
              "        text-align: right;\n",
              "    }\n",
              "</style>\n",
              "<table border=\"1\" class=\"dataframe\">\n",
              "  <thead>\n",
              "    <tr style=\"text-align: right;\">\n",
              "      <th></th>\n",
              "      <th>Kernel Shape</th>\n",
              "      <th>Output Shape</th>\n",
              "      <th>Params</th>\n",
              "      <th>Mult-Adds</th>\n",
              "    </tr>\n",
              "    <tr>\n",
              "      <th>Layer</th>\n",
              "      <th></th>\n",
              "      <th></th>\n",
              "      <th></th>\n",
              "      <th></th>\n",
              "    </tr>\n",
              "  </thead>\n",
              "  <tbody>\n",
              "    <tr>\n",
              "      <th>0_network.Conv2d_0</th>\n",
              "      <td>[3, 6, 5, 5]</td>\n",
              "      <td>[128, 6, 223, 223]</td>\n",
              "      <td>456.0</td>\n",
              "      <td>22378050.0</td>\n",
              "    </tr>\n",
              "    <tr>\n",
              "      <th>1_network.ReLU_1</th>\n",
              "      <td>-</td>\n",
              "      <td>[128, 6, 223, 223]</td>\n",
              "      <td>NaN</td>\n",
              "      <td>NaN</td>\n",
              "    </tr>\n",
              "    <tr>\n",
              "      <th>2_network.MaxPool2d_2</th>\n",
              "      <td>-</td>\n",
              "      <td>[128, 6, 111, 111]</td>\n",
              "      <td>NaN</td>\n",
              "      <td>NaN</td>\n",
              "    </tr>\n",
              "    <tr>\n",
              "      <th>3_network.Conv2d_3</th>\n",
              "      <td>[6, 16, 5, 5]</td>\n",
              "      <td>[128, 16, 107, 107]</td>\n",
              "      <td>2416.0</td>\n",
              "      <td>27477600.0</td>\n",
              "    </tr>\n",
              "    <tr>\n",
              "      <th>4_network.ReLU_4</th>\n",
              "      <td>-</td>\n",
              "      <td>[128, 16, 107, 107]</td>\n",
              "      <td>NaN</td>\n",
              "      <td>NaN</td>\n",
              "    </tr>\n",
              "    <tr>\n",
              "      <th>5_network.MaxPool2d_5</th>\n",
              "      <td>-</td>\n",
              "      <td>[128, 16, 53, 53]</td>\n",
              "      <td>NaN</td>\n",
              "      <td>NaN</td>\n",
              "    </tr>\n",
              "    <tr>\n",
              "      <th>6_network.Flatten_6</th>\n",
              "      <td>-</td>\n",
              "      <td>[128, 44944]</td>\n",
              "      <td>NaN</td>\n",
              "      <td>NaN</td>\n",
              "    </tr>\n",
              "    <tr>\n",
              "      <th>7_network.Linear_7</th>\n",
              "      <td>[44944, 120]</td>\n",
              "      <td>[128, 120]</td>\n",
              "      <td>5393400.0</td>\n",
              "      <td>5393280.0</td>\n",
              "    </tr>\n",
              "    <tr>\n",
              "      <th>8_network.ReLU_8</th>\n",
              "      <td>-</td>\n",
              "      <td>[128, 120]</td>\n",
              "      <td>NaN</td>\n",
              "      <td>NaN</td>\n",
              "    </tr>\n",
              "    <tr>\n",
              "      <th>9_network.Linear_9</th>\n",
              "      <td>[120, 84]</td>\n",
              "      <td>[128, 84]</td>\n",
              "      <td>10164.0</td>\n",
              "      <td>10080.0</td>\n",
              "    </tr>\n",
              "    <tr>\n",
              "      <th>10_network.ReLU_10</th>\n",
              "      <td>-</td>\n",
              "      <td>[128, 84]</td>\n",
              "      <td>NaN</td>\n",
              "      <td>NaN</td>\n",
              "    </tr>\n",
              "    <tr>\n",
              "      <th>11_network.Linear_11</th>\n",
              "      <td>[84, 17]</td>\n",
              "      <td>[128, 17]</td>\n",
              "      <td>1445.0</td>\n",
              "      <td>1428.0</td>\n",
              "    </tr>\n",
              "  </tbody>\n",
              "</table>\n",
              "</div>\n",
              "      <button class=\"colab-df-convert\" onclick=\"convertToInteractive('df-b4d21aaf-1ee9-4e04-9e0b-61bed63fd823')\"\n",
              "              title=\"Convert this dataframe to an interactive table.\"\n",
              "              style=\"display:none;\">\n",
              "        \n",
              "  <svg xmlns=\"http://www.w3.org/2000/svg\" height=\"24px\"viewBox=\"0 0 24 24\"\n",
              "       width=\"24px\">\n",
              "    <path d=\"M0 0h24v24H0V0z\" fill=\"none\"/>\n",
              "    <path d=\"M18.56 5.44l.94 2.06.94-2.06 2.06-.94-2.06-.94-.94-2.06-.94 2.06-2.06.94zm-11 1L8.5 8.5l.94-2.06 2.06-.94-2.06-.94L8.5 2.5l-.94 2.06-2.06.94zm10 10l.94 2.06.94-2.06 2.06-.94-2.06-.94-.94-2.06-.94 2.06-2.06.94z\"/><path d=\"M17.41 7.96l-1.37-1.37c-.4-.4-.92-.59-1.43-.59-.52 0-1.04.2-1.43.59L10.3 9.45l-7.72 7.72c-.78.78-.78 2.05 0 2.83L4 21.41c.39.39.9.59 1.41.59.51 0 1.02-.2 1.41-.59l7.78-7.78 2.81-2.81c.8-.78.8-2.07 0-2.86zM5.41 20L4 18.59l7.72-7.72 1.47 1.35L5.41 20z\"/>\n",
              "  </svg>\n",
              "      </button>\n",
              "      \n",
              "  <style>\n",
              "    .colab-df-container {\n",
              "      display:flex;\n",
              "      flex-wrap:wrap;\n",
              "      gap: 12px;\n",
              "    }\n",
              "\n",
              "    .colab-df-convert {\n",
              "      background-color: #E8F0FE;\n",
              "      border: none;\n",
              "      border-radius: 50%;\n",
              "      cursor: pointer;\n",
              "      display: none;\n",
              "      fill: #1967D2;\n",
              "      height: 32px;\n",
              "      padding: 0 0 0 0;\n",
              "      width: 32px;\n",
              "    }\n",
              "\n",
              "    .colab-df-convert:hover {\n",
              "      background-color: #E2EBFA;\n",
              "      box-shadow: 0px 1px 2px rgba(60, 64, 67, 0.3), 0px 1px 3px 1px rgba(60, 64, 67, 0.15);\n",
              "      fill: #174EA6;\n",
              "    }\n",
              "\n",
              "    [theme=dark] .colab-df-convert {\n",
              "      background-color: #3B4455;\n",
              "      fill: #D2E3FC;\n",
              "    }\n",
              "\n",
              "    [theme=dark] .colab-df-convert:hover {\n",
              "      background-color: #434B5C;\n",
              "      box-shadow: 0px 1px 3px 1px rgba(0, 0, 0, 0.15);\n",
              "      filter: drop-shadow(0px 1px 2px rgba(0, 0, 0, 0.3));\n",
              "      fill: #FFFFFF;\n",
              "    }\n",
              "  </style>\n",
              "\n",
              "      <script>\n",
              "        const buttonEl =\n",
              "          document.querySelector('#df-b4d21aaf-1ee9-4e04-9e0b-61bed63fd823 button.colab-df-convert');\n",
              "        buttonEl.style.display =\n",
              "          google.colab.kernel.accessAllowed ? 'block' : 'none';\n",
              "\n",
              "        async function convertToInteractive(key) {\n",
              "          const element = document.querySelector('#df-b4d21aaf-1ee9-4e04-9e0b-61bed63fd823');\n",
              "          const dataTable =\n",
              "            await google.colab.kernel.invokeFunction('convertToInteractive',\n",
              "                                                     [key], {});\n",
              "          if (!dataTable) return;\n",
              "\n",
              "          const docLinkHtml = 'Like what you see? Visit the ' +\n",
              "            '<a target=\"_blank\" href=https://colab.research.google.com/notebooks/data_table.ipynb>data table notebook</a>'\n",
              "            + ' to learn more about interactive tables.';\n",
              "          element.innerHTML = '';\n",
              "          dataTable['output_type'] = 'display_data';\n",
              "          await google.colab.output.renderOutput(dataTable, element);\n",
              "          const docLink = document.createElement('div');\n",
              "          docLink.innerHTML = docLinkHtml;\n",
              "          element.appendChild(docLink);\n",
              "        }\n",
              "      </script>\n",
              "    </div>\n",
              "  </div>\n",
              "  "
            ]
          },
          "metadata": {},
          "execution_count": 70
        }
      ]
    },
    {
      "cell_type": "code",
      "source": [
        "def train(model, optimizer, criterion, dataloader):\n",
        "    model.train()\n",
        "    train_loss = 0.0\n",
        "    train_acc = 0.0\n",
        "    total_instances = 0\n",
        "    for iter, (xb, yb) in enumerate(dataloader):\n",
        "      xb = xb.to(device)\n",
        "      yb = yb.type(torch.LongTensor)\n",
        "      yb = yb.to(device)\n",
        "      \n",
        "      logits = model(xb)\n",
        "      loss = criterion(logits, yb)\n",
        "      \n",
        "      train_loss += loss.item()\n",
        "      train_acc += (torch.argmax(logits, dim=1) == yb).sum().item()\n",
        "      \n",
        "      optimizer.zero_grad()\n",
        "      \n",
        "      loss.backward()\n",
        "      optimizer.step()\n",
        "\n",
        "      total_instances += len(xb)\n",
        "\n",
        "    train_loss /= len(dataloader)\n",
        "    train_acc /= total_instances\n",
        "    return train_loss, train_acc\n",
        "\n",
        "\n",
        "def eval(model, dataloader):\n",
        "    model.eval()\n",
        "    val_acc = 0.0\n",
        "    total_instances = 0\n",
        "    with torch.inference_mode():\n",
        "      for iter, (xb, yb) in enumerate(dataloader):\n",
        "        xb = xb.to(device)\n",
        "        yb = yb.type(torch.LongTensor)\n",
        "        yb = yb.to(device)\n",
        "        \n",
        "        logits = model(xb)\n",
        "        val_acc += (torch.argmax(logits, dim=1) == yb).sum().item()\n",
        "        total_instances += len(xb)\n",
        "\n",
        "    val_acc /= total_instances\n",
        "    return val_acc"
      ],
      "metadata": {
        "id": "_Lzkmod636Mq"
      },
      "execution_count": 71,
      "outputs": []
    },
    {
      "cell_type": "code",
      "source": [
        "criterion = torch.nn.CrossEntropyLoss()\n",
        "optimizer = torch.optim.AdamW(convnet.parameters(), lr=learning_rate, weight_decay=0.01,)"
      ],
      "metadata": {
        "id": "zxz6KY-r4j3w"
      },
      "execution_count": 72,
      "outputs": []
    },
    {
      "cell_type": "code",
      "source": [
        "gc.collect()"
      ],
      "metadata": {
        "colab": {
          "base_uri": "https://localhost:8080/"
        },
        "id": "2r79Amzm_rP-",
        "outputId": "4a304958-9325-4b22-ea38-5b4f63250ad0"
      },
      "execution_count": 73,
      "outputs": [
        {
          "output_type": "execute_result",
          "data": {
            "text/plain": [
              "404"
            ]
          },
          "metadata": {},
          "execution_count": 73
        }
      ]
    },
    {
      "cell_type": "code",
      "source": [
        "torch.cuda.empty_cache()\n",
        "best_acc = 0.0\n",
        "\n",
        "train_losses = []\n",
        "train_accs = []\n",
        "val_accs = []\n",
        "\n",
        "checkpoint_path = \"./flower17_convnet_model_checkpoint.pth\"\n",
        "\n",
        "for epoch in tqdm(range(max_iters)):\n",
        "    train_loss, train_accuracy = train(convnet, optimizer, criterion, train_loader)\n",
        "    val_accuracy = eval(convnet, val_loader)\n",
        "\n",
        "    train_losses.append(train_loss)\n",
        "    train_accs.append(train_accuracy)\n",
        "    val_accs.append(val_accuracy)\n",
        "\n",
        "    print(\"Epoch {}/{} | Train Loss: {:.4f} | Train Accuracy: {:.2f} | Val Accuracy: {:.2f}\".format(epoch+1, max_iters, train_loss, train_accuracy, val_accuracy))\n",
        "    if val_accuracy > best_acc:\n",
        "      best_acc = val_accuracy\n",
        "      torch.save({\n",
        "          \"epoch\": epoch,\n",
        "          \"model_state_dict\": convnet.state_dict(),\n",
        "          \"optimizer_state_dict\": optimizer.state_dict(),\n",
        "          \"loss\": train_loss,\n",
        "          \"val_accuracy\": val_accuracy}, checkpoint_path)\n"
      ],
      "metadata": {
        "colab": {
          "base_uri": "https://localhost:8080/"
        },
        "id": "V2snRwR74lIi",
        "outputId": "f6c777c3-dbc8-472b-e743-5646532fb694"
      },
      "execution_count": 74,
      "outputs": [
        {
          "output_type": "stream",
          "name": "stderr",
          "text": [
            "\r  0%|          | 0/50 [00:00<?, ?it/s]"
          ]
        },
        {
          "output_type": "stream",
          "name": "stdout",
          "text": [
            "Epoch 1/50 | Train Loss: 2.7224 | Train Accuracy: 0.10 | Val Accuracy: 0.17\n"
          ]
        },
        {
          "output_type": "stream",
          "name": "stderr",
          "text": [
            "  4%|▍         | 2/50 [00:16<06:42,  8.38s/it]"
          ]
        },
        {
          "output_type": "stream",
          "name": "stdout",
          "text": [
            "Epoch 2/50 | Train Loss: 2.3017 | Train Accuracy: 0.21 | Val Accuracy: 0.24\n"
          ]
        },
        {
          "output_type": "stream",
          "name": "stderr",
          "text": [
            "\r  6%|▌         | 3/50 [00:25<06:43,  8.59s/it]"
          ]
        },
        {
          "output_type": "stream",
          "name": "stdout",
          "text": [
            "Epoch 3/50 | Train Loss: 2.0307 | Train Accuracy: 0.30 | Val Accuracy: 0.24\n"
          ]
        },
        {
          "output_type": "stream",
          "name": "stderr",
          "text": [
            "\r  8%|▊         | 4/50 [00:33<06:22,  8.30s/it]"
          ]
        },
        {
          "output_type": "stream",
          "name": "stdout",
          "text": [
            "Epoch 4/50 | Train Loss: 1.7227 | Train Accuracy: 0.43 | Val Accuracy: 0.37\n"
          ]
        },
        {
          "output_type": "stream",
          "name": "stderr",
          "text": [
            "\r 10%|█         | 5/50 [00:41<06:19,  8.44s/it]"
          ]
        },
        {
          "output_type": "stream",
          "name": "stdout",
          "text": [
            "Epoch 5/50 | Train Loss: 1.5219 | Train Accuracy: 0.52 | Val Accuracy: 0.33\n"
          ]
        },
        {
          "output_type": "stream",
          "name": "stderr",
          "text": [
            "\r 12%|█▏        | 6/50 [00:50<06:16,  8.55s/it]"
          ]
        },
        {
          "output_type": "stream",
          "name": "stdout",
          "text": [
            "Epoch 6/50 | Train Loss: 1.4543 | Train Accuracy: 0.50 | Val Accuracy: 0.38\n"
          ]
        },
        {
          "output_type": "stream",
          "name": "stderr",
          "text": [
            "\r 14%|█▍        | 7/50 [00:58<05:57,  8.32s/it]"
          ]
        },
        {
          "output_type": "stream",
          "name": "stdout",
          "text": [
            "Epoch 7/50 | Train Loss: 1.2524 | Train Accuracy: 0.59 | Val Accuracy: 0.44\n"
          ]
        },
        {
          "output_type": "stream",
          "name": "stderr",
          "text": [
            "\r 16%|█▌        | 8/50 [01:07<05:55,  8.47s/it]"
          ]
        },
        {
          "output_type": "stream",
          "name": "stdout",
          "text": [
            "Epoch 8/50 | Train Loss: 1.0845 | Train Accuracy: 0.63 | Val Accuracy: 0.42\n"
          ]
        },
        {
          "output_type": "stream",
          "name": "stderr",
          "text": [
            "\r 18%|█▊        | 9/50 [01:16<05:49,  8.52s/it]"
          ]
        },
        {
          "output_type": "stream",
          "name": "stdout",
          "text": [
            "Epoch 9/50 | Train Loss: 0.9424 | Train Accuracy: 0.70 | Val Accuracy: 0.48\n"
          ]
        },
        {
          "output_type": "stream",
          "name": "stderr",
          "text": [
            "\r 20%|██        | 10/50 [01:23<05:31,  8.28s/it]"
          ]
        },
        {
          "output_type": "stream",
          "name": "stdout",
          "text": [
            "Epoch 10/50 | Train Loss: 0.7811 | Train Accuracy: 0.75 | Val Accuracy: 0.45\n"
          ]
        },
        {
          "output_type": "stream",
          "name": "stderr",
          "text": [
            "\r 22%|██▏       | 11/50 [01:32<05:27,  8.40s/it]"
          ]
        },
        {
          "output_type": "stream",
          "name": "stdout",
          "text": [
            "Epoch 11/50 | Train Loss: 0.6961 | Train Accuracy: 0.79 | Val Accuracy: 0.51\n"
          ]
        },
        {
          "output_type": "stream",
          "name": "stderr",
          "text": [
            "\r 24%|██▍       | 12/50 [01:41<05:20,  8.45s/it]"
          ]
        },
        {
          "output_type": "stream",
          "name": "stdout",
          "text": [
            "Epoch 12/50 | Train Loss: 0.6195 | Train Accuracy: 0.81 | Val Accuracy: 0.49\n"
          ]
        },
        {
          "output_type": "stream",
          "name": "stderr",
          "text": [
            "\r 26%|██▌       | 13/50 [01:48<05:03,  8.21s/it]"
          ]
        },
        {
          "output_type": "stream",
          "name": "stdout",
          "text": [
            "Epoch 13/50 | Train Loss: 0.4471 | Train Accuracy: 0.86 | Val Accuracy: 0.46\n"
          ]
        },
        {
          "output_type": "stream",
          "name": "stderr",
          "text": [
            "\r 28%|██▊       | 14/50 [01:57<04:59,  8.32s/it]"
          ]
        },
        {
          "output_type": "stream",
          "name": "stdout",
          "text": [
            "Epoch 14/50 | Train Loss: 0.3369 | Train Accuracy: 0.93 | Val Accuracy: 0.48\n"
          ]
        },
        {
          "output_type": "stream",
          "name": "stderr",
          "text": [
            "\r 30%|███       | 15/50 [02:05<04:53,  8.39s/it]"
          ]
        },
        {
          "output_type": "stream",
          "name": "stdout",
          "text": [
            "Epoch 15/50 | Train Loss: 0.2546 | Train Accuracy: 0.95 | Val Accuracy: 0.49\n"
          ]
        },
        {
          "output_type": "stream",
          "name": "stderr",
          "text": [
            "\r 32%|███▏      | 16/50 [02:13<04:37,  8.17s/it]"
          ]
        },
        {
          "output_type": "stream",
          "name": "stdout",
          "text": [
            "Epoch 16/50 | Train Loss: 0.2593 | Train Accuracy: 0.93 | Val Accuracy: 0.48\n"
          ]
        },
        {
          "output_type": "stream",
          "name": "stderr",
          "text": [
            "\r 34%|███▍      | 17/50 [02:22<04:33,  8.29s/it]"
          ]
        },
        {
          "output_type": "stream",
          "name": "stdout",
          "text": [
            "Epoch 17/50 | Train Loss: 0.2545 | Train Accuracy: 0.91 | Val Accuracy: 0.46\n"
          ]
        },
        {
          "output_type": "stream",
          "name": "stderr",
          "text": [
            "\r 36%|███▌      | 18/50 [02:30<04:27,  8.36s/it]"
          ]
        },
        {
          "output_type": "stream",
          "name": "stdout",
          "text": [
            "Epoch 18/50 | Train Loss: 0.2178 | Train Accuracy: 0.94 | Val Accuracy: 0.49\n"
          ]
        },
        {
          "output_type": "stream",
          "name": "stderr",
          "text": [
            "\r 38%|███▊      | 19/50 [02:38<04:13,  8.18s/it]"
          ]
        },
        {
          "output_type": "stream",
          "name": "stdout",
          "text": [
            "Epoch 19/50 | Train Loss: 0.1487 | Train Accuracy: 0.96 | Val Accuracy: 0.50\n"
          ]
        },
        {
          "output_type": "stream",
          "name": "stderr",
          "text": [
            "\r 40%|████      | 20/50 [02:46<04:09,  8.32s/it]"
          ]
        },
        {
          "output_type": "stream",
          "name": "stdout",
          "text": [
            "Epoch 20/50 | Train Loss: 0.1317 | Train Accuracy: 0.97 | Val Accuracy: 0.51\n"
          ]
        },
        {
          "output_type": "stream",
          "name": "stderr",
          "text": [
            "\r 42%|████▏     | 21/50 [02:55<04:04,  8.42s/it]"
          ]
        },
        {
          "output_type": "stream",
          "name": "stdout",
          "text": [
            "Epoch 21/50 | Train Loss: 0.1040 | Train Accuracy: 0.98 | Val Accuracy: 0.51\n"
          ]
        },
        {
          "output_type": "stream",
          "name": "stderr",
          "text": [
            "\r 44%|████▍     | 22/50 [03:03<03:51,  8.27s/it]"
          ]
        },
        {
          "output_type": "stream",
          "name": "stdout",
          "text": [
            "Epoch 22/50 | Train Loss: 0.0547 | Train Accuracy: 0.99 | Val Accuracy: 0.50\n"
          ]
        },
        {
          "output_type": "stream",
          "name": "stderr",
          "text": [
            "\r 46%|████▌     | 23/50 [03:11<03:44,  8.32s/it]"
          ]
        },
        {
          "output_type": "stream",
          "name": "stdout",
          "text": [
            "Epoch 23/50 | Train Loss: 0.0409 | Train Accuracy: 1.00 | Val Accuracy: 0.51\n"
          ]
        },
        {
          "output_type": "stream",
          "name": "stderr",
          "text": [
            "\r 48%|████▊     | 24/50 [03:20<03:38,  8.40s/it]"
          ]
        },
        {
          "output_type": "stream",
          "name": "stdout",
          "text": [
            "Epoch 24/50 | Train Loss: 0.0326 | Train Accuracy: 1.00 | Val Accuracy: 0.50\n"
          ]
        },
        {
          "output_type": "stream",
          "name": "stderr",
          "text": [
            "\r 50%|█████     | 25/50 [03:28<03:28,  8.35s/it]"
          ]
        },
        {
          "output_type": "stream",
          "name": "stdout",
          "text": [
            "Epoch 25/50 | Train Loss: 0.0334 | Train Accuracy: 0.99 | Val Accuracy: 0.50\n"
          ]
        },
        {
          "output_type": "stream",
          "name": "stderr",
          "text": [
            "\r 52%|█████▏    | 26/50 [03:37<03:19,  8.32s/it]"
          ]
        },
        {
          "output_type": "stream",
          "name": "stdout",
          "text": [
            "Epoch 26/50 | Train Loss: 0.0252 | Train Accuracy: 1.00 | Val Accuracy: 0.49\n"
          ]
        },
        {
          "output_type": "stream",
          "name": "stderr",
          "text": [
            "\r 54%|█████▍    | 27/50 [03:45<03:12,  8.37s/it]"
          ]
        },
        {
          "output_type": "stream",
          "name": "stdout",
          "text": [
            "Epoch 27/50 | Train Loss: 0.0207 | Train Accuracy: 1.00 | Val Accuracy: 0.51\n"
          ]
        },
        {
          "output_type": "stream",
          "name": "stderr",
          "text": [
            "\r 56%|█████▌    | 28/50 [03:53<03:02,  8.29s/it]"
          ]
        },
        {
          "output_type": "stream",
          "name": "stdout",
          "text": [
            "Epoch 28/50 | Train Loss: 0.0205 | Train Accuracy: 1.00 | Val Accuracy: 0.51\n"
          ]
        },
        {
          "output_type": "stream",
          "name": "stderr",
          "text": [
            "\r 58%|█████▊    | 29/50 [04:01<02:52,  8.23s/it]"
          ]
        },
        {
          "output_type": "stream",
          "name": "stdout",
          "text": [
            "Epoch 29/50 | Train Loss: 0.0156 | Train Accuracy: 1.00 | Val Accuracy: 0.48\n"
          ]
        },
        {
          "output_type": "stream",
          "name": "stderr",
          "text": [
            "\r 60%|██████    | 30/50 [04:10<02:46,  8.32s/it]"
          ]
        },
        {
          "output_type": "stream",
          "name": "stdout",
          "text": [
            "Epoch 30/50 | Train Loss: 0.0146 | Train Accuracy: 1.00 | Val Accuracy: 0.51\n",
            "Epoch 31/50 | Train Loss: 0.0095 | Train Accuracy: 1.00 | Val Accuracy: 0.52\n"
          ]
        },
        {
          "output_type": "stream",
          "name": "stderr",
          "text": [
            " 64%|██████▍   | 32/50 [04:26<02:28,  8.23s/it]"
          ]
        },
        {
          "output_type": "stream",
          "name": "stdout",
          "text": [
            "Epoch 32/50 | Train Loss: 0.0083 | Train Accuracy: 1.00 | Val Accuracy: 0.51\n"
          ]
        },
        {
          "output_type": "stream",
          "name": "stderr",
          "text": [
            "\r 66%|██████▌   | 33/50 [04:35<02:22,  8.37s/it]"
          ]
        },
        {
          "output_type": "stream",
          "name": "stdout",
          "text": [
            "Epoch 33/50 | Train Loss: 0.0077 | Train Accuracy: 1.00 | Val Accuracy: 0.54\n"
          ]
        },
        {
          "output_type": "stream",
          "name": "stderr",
          "text": [
            "\r 68%|██████▊   | 34/50 [04:43<02:15,  8.44s/it]"
          ]
        },
        {
          "output_type": "stream",
          "name": "stdout",
          "text": [
            "Epoch 34/50 | Train Loss: 0.0049 | Train Accuracy: 1.00 | Val Accuracy: 0.51\n"
          ]
        },
        {
          "output_type": "stream",
          "name": "stderr",
          "text": [
            "\r 70%|███████   | 35/50 [04:51<02:03,  8.21s/it]"
          ]
        },
        {
          "output_type": "stream",
          "name": "stdout",
          "text": [
            "Epoch 35/50 | Train Loss: 0.0036 | Train Accuracy: 1.00 | Val Accuracy: 0.51\n"
          ]
        },
        {
          "output_type": "stream",
          "name": "stderr",
          "text": [
            "\r 72%|███████▏  | 36/50 [05:00<01:56,  8.35s/it]"
          ]
        },
        {
          "output_type": "stream",
          "name": "stdout",
          "text": [
            "Epoch 36/50 | Train Loss: 0.0028 | Train Accuracy: 1.00 | Val Accuracy: 0.51\n"
          ]
        },
        {
          "output_type": "stream",
          "name": "stderr",
          "text": [
            "\r 74%|███████▍  | 37/50 [05:08<01:49,  8.39s/it]"
          ]
        },
        {
          "output_type": "stream",
          "name": "stdout",
          "text": [
            "Epoch 37/50 | Train Loss: 0.0023 | Train Accuracy: 1.00 | Val Accuracy: 0.52\n"
          ]
        },
        {
          "output_type": "stream",
          "name": "stderr",
          "text": [
            "\r 76%|███████▌  | 38/50 [05:16<01:38,  8.18s/it]"
          ]
        },
        {
          "output_type": "stream",
          "name": "stdout",
          "text": [
            "Epoch 38/50 | Train Loss: 0.0017 | Train Accuracy: 1.00 | Val Accuracy: 0.51\n"
          ]
        },
        {
          "output_type": "stream",
          "name": "stderr",
          "text": [
            "\r 78%|███████▊  | 39/50 [05:25<01:31,  8.35s/it]"
          ]
        },
        {
          "output_type": "stream",
          "name": "stdout",
          "text": [
            "Epoch 39/50 | Train Loss: 0.0016 | Train Accuracy: 1.00 | Val Accuracy: 0.51\n"
          ]
        },
        {
          "output_type": "stream",
          "name": "stderr",
          "text": [
            "\r 80%|████████  | 40/50 [05:33<01:24,  8.41s/it]"
          ]
        },
        {
          "output_type": "stream",
          "name": "stdout",
          "text": [
            "Epoch 40/50 | Train Loss: 0.0014 | Train Accuracy: 1.00 | Val Accuracy: 0.51\n"
          ]
        },
        {
          "output_type": "stream",
          "name": "stderr",
          "text": [
            "\r 82%|████████▏ | 41/50 [05:41<01:13,  8.19s/it]"
          ]
        },
        {
          "output_type": "stream",
          "name": "stdout",
          "text": [
            "Epoch 41/50 | Train Loss: 0.0013 | Train Accuracy: 1.00 | Val Accuracy: 0.51\n"
          ]
        },
        {
          "output_type": "stream",
          "name": "stderr",
          "text": [
            "\r 84%|████████▍ | 42/50 [05:49<01:06,  8.29s/it]"
          ]
        },
        {
          "output_type": "stream",
          "name": "stdout",
          "text": [
            "Epoch 42/50 | Train Loss: 0.0012 | Train Accuracy: 1.00 | Val Accuracy: 0.51\n"
          ]
        },
        {
          "output_type": "stream",
          "name": "stderr",
          "text": [
            "\r 86%|████████▌ | 43/50 [05:58<00:58,  8.37s/it]"
          ]
        },
        {
          "output_type": "stream",
          "name": "stdout",
          "text": [
            "Epoch 43/50 | Train Loss: 0.0011 | Train Accuracy: 1.00 | Val Accuracy: 0.51\n"
          ]
        },
        {
          "output_type": "stream",
          "name": "stderr",
          "text": [
            "\r 88%|████████▊ | 44/50 [06:06<00:48,  8.16s/it]"
          ]
        },
        {
          "output_type": "stream",
          "name": "stdout",
          "text": [
            "Epoch 44/50 | Train Loss: 0.0011 | Train Accuracy: 1.00 | Val Accuracy: 0.51\n"
          ]
        },
        {
          "output_type": "stream",
          "name": "stderr",
          "text": [
            "\r 90%|█████████ | 45/50 [06:14<00:41,  8.29s/it]"
          ]
        },
        {
          "output_type": "stream",
          "name": "stdout",
          "text": [
            "Epoch 45/50 | Train Loss: 0.0010 | Train Accuracy: 1.00 | Val Accuracy: 0.51\n"
          ]
        },
        {
          "output_type": "stream",
          "name": "stderr",
          "text": [
            "\r 92%|█████████▏| 46/50 [06:23<00:33,  8.40s/it]"
          ]
        },
        {
          "output_type": "stream",
          "name": "stdout",
          "text": [
            "Epoch 46/50 | Train Loss: 0.0010 | Train Accuracy: 1.00 | Val Accuracy: 0.51\n"
          ]
        },
        {
          "output_type": "stream",
          "name": "stderr",
          "text": [
            "\r 94%|█████████▍| 47/50 [06:31<00:24,  8.18s/it]"
          ]
        },
        {
          "output_type": "stream",
          "name": "stdout",
          "text": [
            "Epoch 47/50 | Train Loss: 0.0010 | Train Accuracy: 1.00 | Val Accuracy: 0.51\n"
          ]
        },
        {
          "output_type": "stream",
          "name": "stderr",
          "text": [
            "\r 96%|█████████▌| 48/50 [06:39<00:16,  8.29s/it]"
          ]
        },
        {
          "output_type": "stream",
          "name": "stdout",
          "text": [
            "Epoch 48/50 | Train Loss: 0.0009 | Train Accuracy: 1.00 | Val Accuracy: 0.51\n"
          ]
        },
        {
          "output_type": "stream",
          "name": "stderr",
          "text": [
            "\r 98%|█████████▊| 49/50 [06:48<00:08,  8.38s/it]"
          ]
        },
        {
          "output_type": "stream",
          "name": "stdout",
          "text": [
            "Epoch 49/50 | Train Loss: 0.0009 | Train Accuracy: 1.00 | Val Accuracy: 0.51\n"
          ]
        },
        {
          "output_type": "stream",
          "name": "stderr",
          "text": [
            "100%|██████████| 50/50 [06:55<00:00,  8.32s/it]"
          ]
        },
        {
          "output_type": "stream",
          "name": "stdout",
          "text": [
            "Epoch 50/50 | Train Loss: 0.0008 | Train Accuracy: 1.00 | Val Accuracy: 0.51\n"
          ]
        },
        {
          "output_type": "stream",
          "name": "stderr",
          "text": [
            "\n"
          ]
        }
      ]
    },
    {
      "cell_type": "code",
      "source": [
        "# plot loss curves\n",
        "plt.plot(range(len(train_losses)), train_losses, label=\"training\")\n",
        "plt.xlabel(\"epoch\")\n",
        "plt.ylabel(\"average loss\")\n",
        "plt.xlim(0, len(train_losses) - 1)\n",
        "plt.ylim(0, None)\n",
        "plt.legend()\n",
        "plt.grid()\n",
        "plt.show()\n",
        "\n",
        "# plot accuracy curves\n",
        "plt.plot(range(len(train_accs)), train_accs, label=\"training\")\n",
        "plt.plot(range(len(val_accs)), val_accs, label=\"validation\")\n",
        "plt.xlabel(\"epoch\")\n",
        "plt.ylabel(\"accuracy\")\n",
        "plt.xlim(0, len(train_accs) - 1)\n",
        "plt.ylim(0, None)\n",
        "plt.legend()\n",
        "plt.grid()\n",
        "plt.show()"
      ],
      "metadata": {
        "colab": {
          "base_uri": "https://localhost:8080/",
          "height": 881
        },
        "id": "p6b2Hh9n5a4g",
        "outputId": "f5cf1352-9e21-4f06-d7b7-b00a144080b6"
      },
      "execution_count": 75,
      "outputs": [
        {
          "output_type": "display_data",
          "data": {
            "text/plain": [
              "<Figure size 640x480 with 1 Axes>"
            ],
            "image/png": "[encoded data removed]"
          },
          "metadata": {}
        },
        {
          "output_type": "display_data",
          "data": {
            "text/plain": [
              "<Figure size 640x480 with 1 Axes>"
            ],
            "image/png": "[encoded data removed]"
          },
          "metadata": {}
        }
      ]
    },
    {
      "cell_type": "code",
      "source": [
        "model = LeNet().to(device)\n",
        "model_state_dict_path = torch.load(\"./flower17_convnet_model_checkpoint.pth\")\n",
        "model.load_state_dict(model_state_dict_path[\"model_state_dict\"])"
      ],
      "metadata": {
        "colab": {
          "base_uri": "https://localhost:8080/"
        },
        "id": "MLSGXR6QRz0k",
        "outputId": "3c1de9ef-f00d-42aa-8c0f-ba68cb8779a9"
      },
      "execution_count": 96,
      "outputs": [
        {
          "output_type": "execute_result",
          "data": {
            "text/plain": [
              "<All keys matched successfully>"
            ]
          },
          "metadata": {},
          "execution_count": 96
        }
      ]
    },
    {
      "cell_type": "code",
      "source": [
        "test_accuracy = eval(model, test_loader)\n",
        "print(f\"Test Accuracy: {test_accuracy}\")"
      ],
      "metadata": {
        "colab": {
          "base_uri": "https://localhost:8080/"
        },
        "id": "cp_hr01NSArC",
        "outputId": "77bce730-37d9-457f-9bfd-6a48396de10c"
      },
      "execution_count": 97,
      "outputs": [
        {
          "output_type": "stream",
          "name": "stdout",
          "text": [
            "Test Accuracy: 0.4970588235294118\n"
          ]
        }
      ]
    },
    {
      "cell_type": "code",
      "source": [
        "class SqueezeNet(torch.nn.Module):\n",
        "  def __init__(self, in_channels=3, out_size=17):\n",
        "    super(SqueezeNet, self).__init__()\n",
        "    self.backbone = torchvision.models.squeezenet1_1(weights=\"SqueezeNet1_1_Weights.IMAGENET1K_V1\").features\n",
        "    self.classifier = torch.nn.Sequential(\n",
        "        torch.nn.Dropout(0.1),\n",
        "        torch.nn.Conv2d(512, out_size, kernel_size=1),\n",
        "        torch.nn.ReLU(),\n",
        "        torch.nn.AdaptiveAvgPool2d((1, 1))\n",
        "    )\n",
        "\n",
        "  def forward(self, x):\n",
        "    embedding = self.backbone(x)\n",
        "    out = self.classifier(embedding)\n",
        "    out = torch.flatten(out, 1)\n",
        "    return out\n"
      ],
      "metadata": {
        "id": "EGQcOmznFELI"
      },
      "execution_count": 90,
      "outputs": []
    },
    {
      "cell_type": "code",
      "source": [
        "snet = SqueezeNet().to(device)\n",
        "imgs, labels = next(iter(train_loader))\n",
        "summary(snet, imgs.to(device))"
      ],
      "metadata": {
        "colab": {
          "base_uri": "https://localhost:8080/",
          "height": 1000
        },
        "id": "7V2RpJOTMtGP",
        "outputId": "b5ac0b9e-a949-4f82-f541-089351218750"
      },
      "execution_count": 91,
      "outputs": [
        {
          "output_type": "stream",
          "name": "stdout",
          "text": [
            "====================================================================================================\n",
            "                                             Kernel Shape  \\\n",
            "Layer                                                       \n",
            "0_backbone.Conv2d_0                         [3, 64, 3, 3]   \n",
            "1_backbone.ReLU_1                                       -   \n",
            "2_backbone.MaxPool2d_2                                  -   \n",
            "3_backbone.3.Conv2d_squeeze                [64, 16, 1, 1]   \n",
            "4_backbone.3.ReLU_squeeze_activation                    -   \n",
            "5_backbone.3.Conv2d_expand1x1              [16, 64, 1, 1]   \n",
            "6_backbone.3.ReLU_expand1x1_activation                  -   \n",
            "7_backbone.3.Conv2d_expand3x3              [16, 64, 3, 3]   \n",
            "8_backbone.3.ReLU_expand3x3_activation                  -   \n",
            "9_backbone.4.Conv2d_squeeze               [128, 16, 1, 1]   \n",
            "10_backbone.4.ReLU_squeeze_activation                   -   \n",
            "11_backbone.4.Conv2d_expand1x1             [16, 64, 1, 1]   \n",
            "12_backbone.4.ReLU_expand1x1_activation                 -   \n",
            "13_backbone.4.Conv2d_expand3x3             [16, 64, 3, 3]   \n",
            "14_backbone.4.ReLU_expand3x3_activation                 -   \n",
            "15_backbone.MaxPool2d_5                                 -   \n",
            "16_backbone.6.Conv2d_squeeze              [128, 32, 1, 1]   \n",
            "17_backbone.6.ReLU_squeeze_activation                   -   \n",
            "18_backbone.6.Conv2d_expand1x1            [32, 128, 1, 1]   \n",
            "19_backbone.6.ReLU_expand1x1_activation                 -   \n",
            "20_backbone.6.Conv2d_expand3x3            [32, 128, 3, 3]   \n",
            "21_backbone.6.ReLU_expand3x3_activation                 -   \n",
            "22_backbone.7.Conv2d_squeeze              [256, 32, 1, 1]   \n",
            "23_backbone.7.ReLU_squeeze_activation                   -   \n",
            "24_backbone.7.Conv2d_expand1x1            [32, 128, 1, 1]   \n",
            "25_backbone.7.ReLU_expand1x1_activation                 -   \n",
            "26_backbone.7.Conv2d_expand3x3            [32, 128, 3, 3]   \n",
            "27_backbone.7.ReLU_expand3x3_activation                 -   \n",
            "28_backbone.MaxPool2d_8                                 -   \n",
            "29_backbone.9.Conv2d_squeeze              [256, 48, 1, 1]   \n",
            "30_backbone.9.ReLU_squeeze_activation                   -   \n",
            "31_backbone.9.Conv2d_expand1x1            [48, 192, 1, 1]   \n",
            "32_backbone.9.ReLU_expand1x1_activation                 -   \n",
            "33_backbone.9.Conv2d_expand3x3            [48, 192, 3, 3]   \n",
            "34_backbone.9.ReLU_expand3x3_activation                 -   \n",
            "35_backbone.10.Conv2d_squeeze             [384, 48, 1, 1]   \n",
            "36_backbone.10.ReLU_squeeze_activation                  -   \n",
            "37_backbone.10.Conv2d_expand1x1           [48, 192, 1, 1]   \n",
            "38_backbone.10.ReLU_expand1x1_activation                -   \n",
            "39_backbone.10.Conv2d_expand3x3           [48, 192, 3, 3]   \n",
            "40_backbone.10.ReLU_expand3x3_activation                -   \n",
            "41_backbone.11.Conv2d_squeeze             [384, 64, 1, 1]   \n",
            "42_backbone.11.ReLU_squeeze_activation                  -   \n",
            "43_backbone.11.Conv2d_expand1x1           [64, 256, 1, 1]   \n",
            "44_backbone.11.ReLU_expand1x1_activation                -   \n",
            "45_backbone.11.Conv2d_expand3x3           [64, 256, 3, 3]   \n",
            "46_backbone.11.ReLU_expand3x3_activation                -   \n",
            "47_backbone.12.Conv2d_squeeze             [512, 64, 1, 1]   \n",
            "48_backbone.12.ReLU_squeeze_activation                  -   \n",
            "49_backbone.12.Conv2d_expand1x1           [64, 256, 1, 1]   \n",
            "50_backbone.12.ReLU_expand1x1_activation                -   \n",
            "51_backbone.12.Conv2d_expand3x3           [64, 256, 3, 3]   \n",
            "52_backbone.12.ReLU_expand3x3_activation                -   \n",
            "53_classifier.Dropout_0                                 -   \n",
            "54_classifier.Conv2d_1                    [512, 17, 1, 1]   \n",
            "55_classifier.ReLU_2                                    -   \n",
            "56_classifier.AdaptiveAvgPool2d_3                       -   \n",
            "\n",
            "                                                 Output Shape    Params  \\\n",
            "Layer                                                                     \n",
            "0_backbone.Conv2d_0                       [128, 64, 113, 113]    1.792k   \n",
            "1_backbone.ReLU_1                         [128, 64, 113, 113]         -   \n",
            "2_backbone.MaxPool2d_2                      [128, 64, 56, 56]         -   \n",
            "3_backbone.3.Conv2d_squeeze                 [128, 16, 56, 56]     1.04k   \n",
            "4_backbone.3.ReLU_squeeze_activation        [128, 16, 56, 56]         -   \n",
            "5_backbone.3.Conv2d_expand1x1               [128, 64, 56, 56]    1.088k   \n",
            "6_backbone.3.ReLU_expand1x1_activation      [128, 64, 56, 56]         -   \n",
            "7_backbone.3.Conv2d_expand3x3               [128, 64, 56, 56]     9.28k   \n",
            "8_backbone.3.ReLU_expand3x3_activation      [128, 64, 56, 56]         -   \n",
            "9_backbone.4.Conv2d_squeeze                 [128, 16, 56, 56]    2.064k   \n",
            "10_backbone.4.ReLU_squeeze_activation       [128, 16, 56, 56]         -   \n",
            "11_backbone.4.Conv2d_expand1x1              [128, 64, 56, 56]    1.088k   \n",
            "12_backbone.4.ReLU_expand1x1_activation     [128, 64, 56, 56]         -   \n",
            "13_backbone.4.Conv2d_expand3x3              [128, 64, 56, 56]     9.28k   \n",
            "14_backbone.4.ReLU_expand3x3_activation     [128, 64, 56, 56]         -   \n",
            "15_backbone.MaxPool2d_5                    [128, 128, 28, 28]         -   \n",
            "16_backbone.6.Conv2d_squeeze                [128, 32, 28, 28]    4.128k   \n",
            "17_backbone.6.ReLU_squeeze_activation       [128, 32, 28, 28]         -   \n",
            "18_backbone.6.Conv2d_expand1x1             [128, 128, 28, 28]    4.224k   \n",
            "19_backbone.6.ReLU_expand1x1_activation    [128, 128, 28, 28]         -   \n",
            "20_backbone.6.Conv2d_expand3x3             [128, 128, 28, 28]   36.992k   \n",
            "21_backbone.6.ReLU_expand3x3_activation    [128, 128, 28, 28]         -   \n",
            "22_backbone.7.Conv2d_squeeze                [128, 32, 28, 28]    8.224k   \n",
            "23_backbone.7.ReLU_squeeze_activation       [128, 32, 28, 28]         -   \n",
            "24_backbone.7.Conv2d_expand1x1             [128, 128, 28, 28]    4.224k   \n",
            "25_backbone.7.ReLU_expand1x1_activation    [128, 128, 28, 28]         -   \n",
            "26_backbone.7.Conv2d_expand3x3             [128, 128, 28, 28]   36.992k   \n",
            "27_backbone.7.ReLU_expand3x3_activation    [128, 128, 28, 28]         -   \n",
            "28_backbone.MaxPool2d_8                    [128, 256, 14, 14]         -   \n",
            "29_backbone.9.Conv2d_squeeze                [128, 48, 14, 14]   12.336k   \n",
            "30_backbone.9.ReLU_squeeze_activation       [128, 48, 14, 14]         -   \n",
            "31_backbone.9.Conv2d_expand1x1             [128, 192, 14, 14]    9.408k   \n",
            "32_backbone.9.ReLU_expand1x1_activation    [128, 192, 14, 14]         -   \n",
            "33_backbone.9.Conv2d_expand3x3             [128, 192, 14, 14]   83.136k   \n",
            "34_backbone.9.ReLU_expand3x3_activation    [128, 192, 14, 14]         -   \n",
            "35_backbone.10.Conv2d_squeeze               [128, 48, 14, 14]    18.48k   \n",
            "36_backbone.10.ReLU_squeeze_activation      [128, 48, 14, 14]         -   \n",
            "37_backbone.10.Conv2d_expand1x1            [128, 192, 14, 14]    9.408k   \n",
            "38_backbone.10.ReLU_expand1x1_activation   [128, 192, 14, 14]         -   \n",
            "39_backbone.10.Conv2d_expand3x3            [128, 192, 14, 14]   83.136k   \n",
            "40_backbone.10.ReLU_expand3x3_activation   [128, 192, 14, 14]         -   \n",
            "41_backbone.11.Conv2d_squeeze               [128, 64, 14, 14]    24.64k   \n",
            "42_backbone.11.ReLU_squeeze_activation      [128, 64, 14, 14]         -   \n",
            "43_backbone.11.Conv2d_expand1x1            [128, 256, 14, 14]    16.64k   \n",
            "44_backbone.11.ReLU_expand1x1_activation   [128, 256, 14, 14]         -   \n",
            "45_backbone.11.Conv2d_expand3x3            [128, 256, 14, 14]  147.712k   \n",
            "46_backbone.11.ReLU_expand3x3_activation   [128, 256, 14, 14]         -   \n",
            "47_backbone.12.Conv2d_squeeze               [128, 64, 14, 14]   32.832k   \n",
            "48_backbone.12.ReLU_squeeze_activation      [128, 64, 14, 14]         -   \n",
            "49_backbone.12.Conv2d_expand1x1            [128, 256, 14, 14]    16.64k   \n",
            "50_backbone.12.ReLU_expand1x1_activation   [128, 256, 14, 14]         -   \n",
            "51_backbone.12.Conv2d_expand3x3            [128, 256, 14, 14]  147.712k   \n",
            "52_backbone.12.ReLU_expand3x3_activation   [128, 256, 14, 14]         -   \n",
            "53_classifier.Dropout_0                    [128, 512, 14, 14]         -   \n",
            "54_classifier.Conv2d_1                      [128, 17, 14, 14]    8.721k   \n",
            "55_classifier.ReLU_2                        [128, 17, 14, 14]         -   \n",
            "56_classifier.AdaptiveAvgPool2d_3             [128, 17, 1, 1]         -   \n",
            "\n",
            "                                           Mult-Adds  \n",
            "Layer                                                 \n",
            "0_backbone.Conv2d_0                       22.064832M  \n",
            "1_backbone.ReLU_1                                  -  \n",
            "2_backbone.MaxPool2d_2                             -  \n",
            "3_backbone.3.Conv2d_squeeze                3.211264M  \n",
            "4_backbone.3.ReLU_squeeze_activation               -  \n",
            "5_backbone.3.Conv2d_expand1x1              3.211264M  \n",
            "6_backbone.3.ReLU_expand1x1_activation             -  \n",
            "7_backbone.3.Conv2d_expand3x3             28.901376M  \n",
            "8_backbone.3.ReLU_expand3x3_activation             -  \n",
            "9_backbone.4.Conv2d_squeeze                6.422528M  \n",
            "10_backbone.4.ReLU_squeeze_activation              -  \n",
            "11_backbone.4.Conv2d_expand1x1             3.211264M  \n",
            "12_backbone.4.ReLU_expand1x1_activation            -  \n",
            "13_backbone.4.Conv2d_expand3x3            28.901376M  \n",
            "14_backbone.4.ReLU_expand3x3_activation            -  \n",
            "15_backbone.MaxPool2d_5                            -  \n",
            "16_backbone.6.Conv2d_squeeze               3.211264M  \n",
            "17_backbone.6.ReLU_squeeze_activation              -  \n",
            "18_backbone.6.Conv2d_expand1x1             3.211264M  \n",
            "19_backbone.6.ReLU_expand1x1_activation            -  \n",
            "20_backbone.6.Conv2d_expand3x3            28.901376M  \n",
            "21_backbone.6.ReLU_expand3x3_activation            -  \n",
            "22_backbone.7.Conv2d_squeeze               6.422528M  \n",
            "23_backbone.7.ReLU_squeeze_activation              -  \n",
            "24_backbone.7.Conv2d_expand1x1             3.211264M  \n",
            "25_backbone.7.ReLU_expand1x1_activation            -  \n",
            "26_backbone.7.Conv2d_expand3x3            28.901376M  \n",
            "27_backbone.7.ReLU_expand3x3_activation            -  \n",
            "28_backbone.MaxPool2d_8                            -  \n",
            "29_backbone.9.Conv2d_squeeze               2.408448M  \n",
            "30_backbone.9.ReLU_squeeze_activation              -  \n",
            "31_backbone.9.Conv2d_expand1x1             1.806336M  \n",
            "32_backbone.9.ReLU_expand1x1_activation            -  \n",
            "33_backbone.9.Conv2d_expand3x3            16.257024M  \n",
            "34_backbone.9.ReLU_expand3x3_activation            -  \n",
            "35_backbone.10.Conv2d_squeeze              3.612672M  \n",
            "36_backbone.10.ReLU_squeeze_activation             -  \n",
            "37_backbone.10.Conv2d_expand1x1            1.806336M  \n",
            "38_backbone.10.ReLU_expand1x1_activation           -  \n",
            "39_backbone.10.Conv2d_expand3x3           16.257024M  \n",
            "40_backbone.10.ReLU_expand3x3_activation           -  \n",
            "41_backbone.11.Conv2d_squeeze              4.816896M  \n",
            "42_backbone.11.ReLU_squeeze_activation             -  \n",
            "43_backbone.11.Conv2d_expand1x1            3.211264M  \n",
            "44_backbone.11.ReLU_expand1x1_activation           -  \n",
            "45_backbone.11.Conv2d_expand3x3           28.901376M  \n",
            "46_backbone.11.ReLU_expand3x3_activation           -  \n",
            "47_backbone.12.Conv2d_squeeze              6.422528M  \n",
            "48_backbone.12.ReLU_squeeze_activation             -  \n",
            "49_backbone.12.Conv2d_expand1x1            3.211264M  \n",
            "50_backbone.12.ReLU_expand1x1_activation           -  \n",
            "51_backbone.12.Conv2d_expand3x3           28.901376M  \n",
            "52_backbone.12.ReLU_expand3x3_activation           -  \n",
            "53_classifier.Dropout_0                            -  \n",
            "54_classifier.Conv2d_1                     1.705984M  \n",
            "55_classifier.ReLU_2                               -  \n",
            "56_classifier.AdaptiveAvgPool2d_3                  -  \n",
            "----------------------------------------------------------------------------------------------------\n",
            "                           Totals\n",
            "Total params             731.217k\n",
            "Trainable params         731.217k\n",
            "Non-trainable params          0.0\n",
            "Mult-Adds             289.101504M\n",
            "====================================================================================================\n"
          ]
        },
        {
          "output_type": "stream",
          "name": "stderr",
          "text": [
            "/usr/local/lib/python3.10/dist-packages/torchsummaryX/torchsummaryX.py:101: FutureWarning: The default value of numeric_only in DataFrame.sum is deprecated. In a future version, it will default to False. In addition, specifying 'numeric_only=None' is deprecated. Select only valid columns or specify the value of numeric_only to silence this warning.\n",
            "  df_sum = df.sum()\n"
          ]
        },
        {
          "output_type": "execute_result",
          "data": {
            "text/plain": [
              "                                             Kernel Shape  \\\n",
              "Layer                                                       \n",
              "0_backbone.Conv2d_0                         [3, 64, 3, 3]   \n",
              "1_backbone.ReLU_1                                       -   \n",
              "2_backbone.MaxPool2d_2                                  -   \n",
              "3_backbone.3.Conv2d_squeeze                [64, 16, 1, 1]   \n",
              "4_backbone.3.ReLU_squeeze_activation                    -   \n",
              "5_backbone.3.Conv2d_expand1x1              [16, 64, 1, 1]   \n",
              "6_backbone.3.ReLU_expand1x1_activation                  -   \n",
              "7_backbone.3.Conv2d_expand3x3              [16, 64, 3, 3]   \n",
              "8_backbone.3.ReLU_expand3x3_activation                  -   \n",
              "9_backbone.4.Conv2d_squeeze               [128, 16, 1, 1]   \n",
              "10_backbone.4.ReLU_squeeze_activation                   -   \n",
              "11_backbone.4.Conv2d_expand1x1             [16, 64, 1, 1]   \n",
              "12_backbone.4.ReLU_expand1x1_activation                 -   \n",
              "13_backbone.4.Conv2d_expand3x3             [16, 64, 3, 3]   \n",
              "14_backbone.4.ReLU_expand3x3_activation                 -   \n",
              "15_backbone.MaxPool2d_5                                 -   \n",
              "16_backbone.6.Conv2d_squeeze              [128, 32, 1, 1]   \n",
              "17_backbone.6.ReLU_squeeze_activation                   -   \n",
              "18_backbone.6.Conv2d_expand1x1            [32, 128, 1, 1]   \n",
              "19_backbone.6.ReLU_expand1x1_activation                 -   \n",
              "20_backbone.6.Conv2d_expand3x3            [32, 128, 3, 3]   \n",
              "21_backbone.6.ReLU_expand3x3_activation                 -   \n",
              "22_backbone.7.Conv2d_squeeze              [256, 32, 1, 1]   \n",
              "23_backbone.7.ReLU_squeeze_activation                   -   \n",
              "24_backbone.7.Conv2d_expand1x1            [32, 128, 1, 1]   \n",
              "25_backbone.7.ReLU_expand1x1_activation                 -   \n",
              "26_backbone.7.Conv2d_expand3x3            [32, 128, 3, 3]   \n",
              "27_backbone.7.ReLU_expand3x3_activation                 -   \n",
              "28_backbone.MaxPool2d_8                                 -   \n",
              "29_backbone.9.Conv2d_squeeze              [256, 48, 1, 1]   \n",
              "30_backbone.9.ReLU_squeeze_activation                   -   \n",
              "31_backbone.9.Conv2d_expand1x1            [48, 192, 1, 1]   \n",
              "32_backbone.9.ReLU_expand1x1_activation                 -   \n",
              "33_backbone.9.Conv2d_expand3x3            [48, 192, 3, 3]   \n",
              "34_backbone.9.ReLU_expand3x3_activation                 -   \n",
              "35_backbone.10.Conv2d_squeeze             [384, 48, 1, 1]   \n",
              "36_backbone.10.ReLU_squeeze_activation                  -   \n",
              "37_backbone.10.Conv2d_expand1x1           [48, 192, 1, 1]   \n",
              "38_backbone.10.ReLU_expand1x1_activation                -   \n",
              "39_backbone.10.Conv2d_expand3x3           [48, 192, 3, 3]   \n",
              "40_backbone.10.ReLU_expand3x3_activation                -   \n",
              "41_backbone.11.Conv2d_squeeze             [384, 64, 1, 1]   \n",
              "42_backbone.11.ReLU_squeeze_activation                  -   \n",
              "43_backbone.11.Conv2d_expand1x1           [64, 256, 1, 1]   \n",
              "44_backbone.11.ReLU_expand1x1_activation                -   \n",
              "45_backbone.11.Conv2d_expand3x3           [64, 256, 3, 3]   \n",
              "46_backbone.11.ReLU_expand3x3_activation                -   \n",
              "47_backbone.12.Conv2d_squeeze             [512, 64, 1, 1]   \n",
              "48_backbone.12.ReLU_squeeze_activation                  -   \n",
              "49_backbone.12.Conv2d_expand1x1           [64, 256, 1, 1]   \n",
              "50_backbone.12.ReLU_expand1x1_activation                -   \n",
              "51_backbone.12.Conv2d_expand3x3           [64, 256, 3, 3]   \n",
              "52_backbone.12.ReLU_expand3x3_activation                -   \n",
              "53_classifier.Dropout_0                                 -   \n",
              "54_classifier.Conv2d_1                    [512, 17, 1, 1]   \n",
              "55_classifier.ReLU_2                                    -   \n",
              "56_classifier.AdaptiveAvgPool2d_3                       -   \n",
              "\n",
              "                                                 Output Shape    Params  \\\n",
              "Layer                                                                     \n",
              "0_backbone.Conv2d_0                       [128, 64, 113, 113]    1792.0   \n",
              "1_backbone.ReLU_1                         [128, 64, 113, 113]       NaN   \n",
              "2_backbone.MaxPool2d_2                      [128, 64, 56, 56]       NaN   \n",
              "3_backbone.3.Conv2d_squeeze                 [128, 16, 56, 56]    1040.0   \n",
              "4_backbone.3.ReLU_squeeze_activation        [128, 16, 56, 56]       NaN   \n",
              "5_backbone.3.Conv2d_expand1x1               [128, 64, 56, 56]    1088.0   \n",
              "6_backbone.3.ReLU_expand1x1_activation      [128, 64, 56, 56]       NaN   \n",
              "7_backbone.3.Conv2d_expand3x3               [128, 64, 56, 56]    9280.0   \n",
              "8_backbone.3.ReLU_expand3x3_activation      [128, 64, 56, 56]       NaN   \n",
              "9_backbone.4.Conv2d_squeeze                 [128, 16, 56, 56]    2064.0   \n",
              "10_backbone.4.ReLU_squeeze_activation       [128, 16, 56, 56]       NaN   \n",
              "11_backbone.4.Conv2d_expand1x1              [128, 64, 56, 56]    1088.0   \n",
              "12_backbone.4.ReLU_expand1x1_activation     [128, 64, 56, 56]       NaN   \n",
              "13_backbone.4.Conv2d_expand3x3              [128, 64, 56, 56]    9280.0   \n",
              "14_backbone.4.ReLU_expand3x3_activation     [128, 64, 56, 56]       NaN   \n",
              "15_backbone.MaxPool2d_5                    [128, 128, 28, 28]       NaN   \n",
              "16_backbone.6.Conv2d_squeeze                [128, 32, 28, 28]    4128.0   \n",
              "17_backbone.6.ReLU_squeeze_activation       [128, 32, 28, 28]       NaN   \n",
              "18_backbone.6.Conv2d_expand1x1             [128, 128, 28, 28]    4224.0   \n",
              "19_backbone.6.ReLU_expand1x1_activation    [128, 128, 28, 28]       NaN   \n",
              "20_backbone.6.Conv2d_expand3x3             [128, 128, 28, 28]   36992.0   \n",
              "21_backbone.6.ReLU_expand3x3_activation    [128, 128, 28, 28]       NaN   \n",
              "22_backbone.7.Conv2d_squeeze                [128, 32, 28, 28]    8224.0   \n",
              "23_backbone.7.ReLU_squeeze_activation       [128, 32, 28, 28]       NaN   \n",
              "24_backbone.7.Conv2d_expand1x1             [128, 128, 28, 28]    4224.0   \n",
              "25_backbone.7.ReLU_expand1x1_activation    [128, 128, 28, 28]       NaN   \n",
              "26_backbone.7.Conv2d_expand3x3             [128, 128, 28, 28]   36992.0   \n",
              "27_backbone.7.ReLU_expand3x3_activation    [128, 128, 28, 28]       NaN   \n",
              "28_backbone.MaxPool2d_8                    [128, 256, 14, 14]       NaN   \n",
              "29_backbone.9.Conv2d_squeeze                [128, 48, 14, 14]   12336.0   \n",
              "30_backbone.9.ReLU_squeeze_activation       [128, 48, 14, 14]       NaN   \n",
              "31_backbone.9.Conv2d_expand1x1             [128, 192, 14, 14]    9408.0   \n",
              "32_backbone.9.ReLU_expand1x1_activation    [128, 192, 14, 14]       NaN   \n",
              "33_backbone.9.Conv2d_expand3x3             [128, 192, 14, 14]   83136.0   \n",
              "34_backbone.9.ReLU_expand3x3_activation    [128, 192, 14, 14]       NaN   \n",
              "35_backbone.10.Conv2d_squeeze               [128, 48, 14, 14]   18480.0   \n",
              "36_backbone.10.ReLU_squeeze_activation      [128, 48, 14, 14]       NaN   \n",
              "37_backbone.10.Conv2d_expand1x1            [128, 192, 14, 14]    9408.0   \n",
              "38_backbone.10.ReLU_expand1x1_activation   [128, 192, 14, 14]       NaN   \n",
              "39_backbone.10.Conv2d_expand3x3            [128, 192, 14, 14]   83136.0   \n",
              "40_backbone.10.ReLU_expand3x3_activation   [128, 192, 14, 14]       NaN   \n",
              "41_backbone.11.Conv2d_squeeze               [128, 64, 14, 14]   24640.0   \n",
              "42_backbone.11.ReLU_squeeze_activation      [128, 64, 14, 14]       NaN   \n",
              "43_backbone.11.Conv2d_expand1x1            [128, 256, 14, 14]   16640.0   \n",
              "44_backbone.11.ReLU_expand1x1_activation   [128, 256, 14, 14]       NaN   \n",
              "45_backbone.11.Conv2d_expand3x3            [128, 256, 14, 14]  147712.0   \n",
              "46_backbone.11.ReLU_expand3x3_activation   [128, 256, 14, 14]       NaN   \n",
              "47_backbone.12.Conv2d_squeeze               [128, 64, 14, 14]   32832.0   \n",
              "48_backbone.12.ReLU_squeeze_activation      [128, 64, 14, 14]       NaN   \n",
              "49_backbone.12.Conv2d_expand1x1            [128, 256, 14, 14]   16640.0   \n",
              "50_backbone.12.ReLU_expand1x1_activation   [128, 256, 14, 14]       NaN   \n",
              "51_backbone.12.Conv2d_expand3x3            [128, 256, 14, 14]  147712.0   \n",
              "52_backbone.12.ReLU_expand3x3_activation   [128, 256, 14, 14]       NaN   \n",
              "53_classifier.Dropout_0                    [128, 512, 14, 14]       NaN   \n",
              "54_classifier.Conv2d_1                      [128, 17, 14, 14]    8721.0   \n",
              "55_classifier.ReLU_2                        [128, 17, 14, 14]       NaN   \n",
              "56_classifier.AdaptiveAvgPool2d_3             [128, 17, 1, 1]       NaN   \n",
              "\n",
              "                                           Mult-Adds  \n",
              "Layer                                                 \n",
              "0_backbone.Conv2d_0                       22064832.0  \n",
              "1_backbone.ReLU_1                                NaN  \n",
              "2_backbone.MaxPool2d_2                           NaN  \n",
              "3_backbone.3.Conv2d_squeeze                3211264.0  \n",
              "4_backbone.3.ReLU_squeeze_activation             NaN  \n",
              "5_backbone.3.Conv2d_expand1x1              3211264.0  \n",
              "6_backbone.3.ReLU_expand1x1_activation           NaN  \n",
              "7_backbone.3.Conv2d_expand3x3             28901376.0  \n",
              "8_backbone.3.ReLU_expand3x3_activation           NaN  \n",
              "9_backbone.4.Conv2d_squeeze                6422528.0  \n",
              "10_backbone.4.ReLU_squeeze_activation            NaN  \n",
              "11_backbone.4.Conv2d_expand1x1             3211264.0  \n",
              "12_backbone.4.ReLU_expand1x1_activation          NaN  \n",
              "13_backbone.4.Conv2d_expand3x3            28901376.0  \n",
              "14_backbone.4.ReLU_expand3x3_activation          NaN  \n",
              "15_backbone.MaxPool2d_5                          NaN  \n",
              "16_backbone.6.Conv2d_squeeze               3211264.0  \n",
              "17_backbone.6.ReLU_squeeze_activation            NaN  \n",
              "18_backbone.6.Conv2d_expand1x1             3211264.0  \n",
              "19_backbone.6.ReLU_expand1x1_activation          NaN  \n",
              "20_backbone.6.Conv2d_expand3x3            28901376.0  \n",
              "21_backbone.6.ReLU_expand3x3_activation          NaN  \n",
              "22_backbone.7.Conv2d_squeeze               6422528.0  \n",
              "23_backbone.7.ReLU_squeeze_activation            NaN  \n",
              "24_backbone.7.Conv2d_expand1x1             3211264.0  \n",
              "25_backbone.7.ReLU_expand1x1_activation          NaN  \n",
              "26_backbone.7.Conv2d_expand3x3            28901376.0  \n",
              "27_backbone.7.ReLU_expand3x3_activation          NaN  \n",
              "28_backbone.MaxPool2d_8                          NaN  \n",
              "29_backbone.9.Conv2d_squeeze               2408448.0  \n",
              "30_backbone.9.ReLU_squeeze_activation            NaN  \n",
              "31_backbone.9.Conv2d_expand1x1             1806336.0  \n",
              "32_backbone.9.ReLU_expand1x1_activation          NaN  \n",
              "33_backbone.9.Conv2d_expand3x3            16257024.0  \n",
              "34_backbone.9.ReLU_expand3x3_activation          NaN  \n",
              "35_backbone.10.Conv2d_squeeze              3612672.0  \n",
              "36_backbone.10.ReLU_squeeze_activation           NaN  \n",
              "37_backbone.10.Conv2d_expand1x1            1806336.0  \n",
              "38_backbone.10.ReLU_expand1x1_activation         NaN  \n",
              "39_backbone.10.Conv2d_expand3x3           16257024.0  \n",
              "40_backbone.10.ReLU_expand3x3_activation         NaN  \n",
              "41_backbone.11.Conv2d_squeeze              4816896.0  \n",
              "42_backbone.11.ReLU_squeeze_activation           NaN  \n",
              "43_backbone.11.Conv2d_expand1x1            3211264.0  \n",
              "44_backbone.11.ReLU_expand1x1_activation         NaN  \n",
              "45_backbone.11.Conv2d_expand3x3           28901376.0  \n",
              "46_backbone.11.ReLU_expand3x3_activation         NaN  \n",
              "47_backbone.12.Conv2d_squeeze              6422528.0  \n",
              "48_backbone.12.ReLU_squeeze_activation           NaN  \n",
              "49_backbone.12.Conv2d_expand1x1            3211264.0  \n",
              "50_backbone.12.ReLU_expand1x1_activation         NaN  \n",
              "51_backbone.12.Conv2d_expand3x3           28901376.0  \n",
              "52_backbone.12.ReLU_expand3x3_activation         NaN  \n",
              "53_classifier.Dropout_0                          NaN  \n",
              "54_classifier.Conv2d_1                     1705984.0  \n",
              "55_classifier.ReLU_2                             NaN  \n",
              "56_classifier.AdaptiveAvgPool2d_3                NaN  "
            ],
            "text/html": [
              "\n",
              "  <div id=\"df-03cef50b-b7a7-4cb9-aaa5-8c6277416526\">\n",
              "    <div class=\"colab-df-container\">\n",
              "      <div>\n",
              "<style scoped>\n",
              "    .dataframe tbody tr th:only-of-type {\n",
              "        vertical-align: middle;\n",
              "    }\n",
              "\n",
              "    .dataframe tbody tr th {\n",
              "        vertical-align: top;\n",
              "    }\n",
              "\n",
              "    .dataframe thead th {\n",
              "        text-align: right;\n",
              "    }\n",
              "</style>\n",
              "<table border=\"1\" class=\"dataframe\">\n",
              "  <thead>\n",
              "    <tr style=\"text-align: right;\">\n",
              "      <th></th>\n",
              "      <th>Kernel Shape</th>\n",
              "      <th>Output Shape</th>\n",
              "      <th>Params</th>\n",
              "      <th>Mult-Adds</th>\n",
              "    </tr>\n",
              "    <tr>\n",
              "      <th>Layer</th>\n",
              "      <th></th>\n",
              "      <th></th>\n",
              "      <th></th>\n",
              "      <th></th>\n",
              "    </tr>\n",
              "  </thead>\n",
              "  <tbody>\n",
              "    <tr>\n",
              "      <th>0_backbone.Conv2d_0</th>\n",
              "      <td>[3, 64, 3, 3]</td>\n",
              "      <td>[128, 64, 113, 113]</td>\n",
              "      <td>1792.0</td>\n",
              "      <td>22064832.0</td>\n",
              "    </tr>\n",
              "    <tr>\n",
              "      <th>1_backbone.ReLU_1</th>\n",
              "      <td>-</td>\n",
              "      <td>[128, 64, 113, 113]</td>\n",
              "      <td>NaN</td>\n",
              "      <td>NaN</td>\n",
              "    </tr>\n",
              "    <tr>\n",
              "      <th>2_backbone.MaxPool2d_2</th>\n",
              "      <td>-</td>\n",
              "      <td>[128, 64, 56, 56]</td>\n",
              "      <td>NaN</td>\n",
              "      <td>NaN</td>\n",
              "    </tr>\n",
              "    <tr>\n",
              "      <th>3_backbone.3.Conv2d_squeeze</th>\n",
              "      <td>[64, 16, 1, 1]</td>\n",
              "      <td>[128, 16, 56, 56]</td>\n",
              "      <td>1040.0</td>\n",
              "      <td>3211264.0</td>\n",
              "    </tr>\n",
              "    <tr>\n",
              "      <th>4_backbone.3.ReLU_squeeze_activation</th>\n",
              "      <td>-</td>\n",
              "      <td>[128, 16, 56, 56]</td>\n",
              "      <td>NaN</td>\n",
              "      <td>NaN</td>\n",
              "    </tr>\n",
              "    <tr>\n",
              "      <th>5_backbone.3.Conv2d_expand1x1</th>\n",
              "      <td>[16, 64, 1, 1]</td>\n",
              "      <td>[128, 64, 56, 56]</td>\n",
              "      <td>1088.0</td>\n",
              "      <td>3211264.0</td>\n",
              "    </tr>\n",
              "    <tr>\n",
              "      <th>6_backbone.3.ReLU_expand1x1_activation</th>\n",
              "      <td>-</td>\n",
              "      <td>[128, 64, 56, 56]</td>\n",
              "      <td>NaN</td>\n",
              "      <td>NaN</td>\n",
              "    </tr>\n",
              "    <tr>\n",
              "      <th>7_backbone.3.Conv2d_expand3x3</th>\n",
              "      <td>[16, 64, 3, 3]</td>\n",
              "      <td>[128, 64, 56, 56]</td>\n",
              "      <td>9280.0</td>\n",
              "      <td>28901376.0</td>\n",
              "    </tr>\n",
              "    <tr>\n",
              "      <th>8_backbone.3.ReLU_expand3x3_activation</th>\n",
              "      <td>-</td>\n",
              "      <td>[128, 64, 56, 56]</td>\n",
              "      <td>NaN</td>\n",
              "      <td>NaN</td>\n",
              "    </tr>\n",
              "    <tr>\n",
              "      <th>9_backbone.4.Conv2d_squeeze</th>\n",
              "      <td>[128, 16, 1, 1]</td>\n",
              "      <td>[128, 16, 56, 56]</td>\n",
              "      <td>2064.0</td>\n",
              "      <td>6422528.0</td>\n",
              "    </tr>\n",
              "    <tr>\n",
              "      <th>10_backbone.4.ReLU_squeeze_activation</th>\n",
              "      <td>-</td>\n",
              "      <td>[128, 16, 56, 56]</td>\n",
              "      <td>NaN</td>\n",
              "      <td>NaN</td>\n",
              "    </tr>\n",
              "    <tr>\n",
              "      <th>11_backbone.4.Conv2d_expand1x1</th>\n",
              "      <td>[16, 64, 1, 1]</td>\n",
              "      <td>[128, 64, 56, 56]</td>\n",
              "      <td>1088.0</td>\n",
              "      <td>3211264.0</td>\n",
              "    </tr>\n",
              "    <tr>\n",
              "      <th>12_backbone.4.ReLU_expand1x1_activation</th>\n",
              "      <td>-</td>\n",
              "      <td>[128, 64, 56, 56]</td>\n",
              "      <td>NaN</td>\n",
              "      <td>NaN</td>\n",
              "    </tr>\n",
              "    <tr>\n",
              "      <th>13_backbone.4.Conv2d_expand3x3</th>\n",
              "      <td>[16, 64, 3, 3]</td>\n",
              "      <td>[128, 64, 56, 56]</td>\n",
              "      <td>9280.0</td>\n",
              "      <td>28901376.0</td>\n",
              "    </tr>\n",
              "    <tr>\n",
              "      <th>14_backbone.4.ReLU_expand3x3_activation</th>\n",
              "      <td>-</td>\n",
              "      <td>[128, 64, 56, 56]</td>\n",
              "      <td>NaN</td>\n",
              "      <td>NaN</td>\n",
              "    </tr>\n",
              "    <tr>\n",
              "      <th>15_backbone.MaxPool2d_5</th>\n",
              "      <td>-</td>\n",
              "      <td>[128, 128, 28, 28]</td>\n",
              "      <td>NaN</td>\n",
              "      <td>NaN</td>\n",
              "    </tr>\n",
              "    <tr>\n",
              "      <th>16_backbone.6.Conv2d_squeeze</th>\n",
              "      <td>[128, 32, 1, 1]</td>\n",
              "      <td>[128, 32, 28, 28]</td>\n",
              "      <td>4128.0</td>\n",
              "      <td>3211264.0</td>\n",
              "    </tr>\n",
              "    <tr>\n",
              "      <th>17_backbone.6.ReLU_squeeze_activation</th>\n",
              "      <td>-</td>\n",
              "      <td>[128, 32, 28, 28]</td>\n",
              "      <td>NaN</td>\n",
              "      <td>NaN</td>\n",
              "    </tr>\n",
              "    <tr>\n",
              "      <th>18_backbone.6.Conv2d_expand1x1</th>\n",
              "      <td>[32, 128, 1, 1]</td>\n",
              "      <td>[128, 128, 28, 28]</td>\n",
              "      <td>4224.0</td>\n",
              "      <td>3211264.0</td>\n",
              "    </tr>\n",
              "    <tr>\n",
              "      <th>19_backbone.6.ReLU_expand1x1_activation</th>\n",
              "      <td>-</td>\n",
              "      <td>[128, 128, 28, 28]</td>\n",
              "      <td>NaN</td>\n",
              "      <td>NaN</td>\n",
              "    </tr>\n",
              "    <tr>\n",
              "      <th>20_backbone.6.Conv2d_expand3x3</th>\n",
              "      <td>[32, 128, 3, 3]</td>\n",
              "      <td>[128, 128, 28, 28]</td>\n",
              "      <td>36992.0</td>\n",
              "      <td>28901376.0</td>\n",
              "    </tr>\n",
              "    <tr>\n",
              "      <th>21_backbone.6.ReLU_expand3x3_activation</th>\n",
              "      <td>-</td>\n",
              "      <td>[128, 128, 28, 28]</td>\n",
              "      <td>NaN</td>\n",
              "      <td>NaN</td>\n",
              "    </tr>\n",
              "    <tr>\n",
              "      <th>22_backbone.7.Conv2d_squeeze</th>\n",
              "      <td>[256, 32, 1, 1]</td>\n",
              "      <td>[128, 32, 28, 28]</td>\n",
              "      <td>8224.0</td>\n",
              "      <td>6422528.0</td>\n",
              "    </tr>\n",
              "    <tr>\n",
              "      <th>23_backbone.7.ReLU_squeeze_activation</th>\n",
              "      <td>-</td>\n",
              "      <td>[128, 32, 28, 28]</td>\n",
              "      <td>NaN</td>\n",
              "      <td>NaN</td>\n",
              "    </tr>\n",
              "    <tr>\n",
              "      <th>24_backbone.7.Conv2d_expand1x1</th>\n",
              "      <td>[32, 128, 1, 1]</td>\n",
              "      <td>[128, 128, 28, 28]</td>\n",
              "      <td>4224.0</td>\n",
              "      <td>3211264.0</td>\n",
              "    </tr>\n",
              "    <tr>\n",
              "      <th>25_backbone.7.ReLU_expand1x1_activation</th>\n",
              "      <td>-</td>\n",
              "      <td>[128, 128, 28, 28]</td>\n",
              "      <td>NaN</td>\n",
              "      <td>NaN</td>\n",
              "    </tr>\n",
              "    <tr>\n",
              "      <th>26_backbone.7.Conv2d_expand3x3</th>\n",
              "      <td>[32, 128, 3, 3]</td>\n",
              "      <td>[128, 128, 28, 28]</td>\n",
              "      <td>36992.0</td>\n",
              "      <td>28901376.0</td>\n",
              "    </tr>\n",
              "    <tr>\n",
              "      <th>27_backbone.7.ReLU_expand3x3_activation</th>\n",
              "      <td>-</td>\n",
              "      <td>[128, 128, 28, 28]</td>\n",
              "      <td>NaN</td>\n",
              "      <td>NaN</td>\n",
              "    </tr>\n",
              "    <tr>\n",
              "      <th>28_backbone.MaxPool2d_8</th>\n",
              "      <td>-</td>\n",
              "      <td>[128, 256, 14, 14]</td>\n",
              "      <td>NaN</td>\n",
              "      <td>NaN</td>\n",
              "    </tr>\n",
              "    <tr>\n",
              "      <th>29_backbone.9.Conv2d_squeeze</th>\n",
              "      <td>[256, 48, 1, 1]</td>\n",
              "      <td>[128, 48, 14, 14]</td>\n",
              "      <td>12336.0</td>\n",
              "      <td>2408448.0</td>\n",
              "    </tr>\n",
              "    <tr>\n",
              "      <th>30_backbone.9.ReLU_squeeze_activation</th>\n",
              "      <td>-</td>\n",
              "      <td>[128, 48, 14, 14]</td>\n",
              "      <td>NaN</td>\n",
              "      <td>NaN</td>\n",
              "    </tr>\n",
              "    <tr>\n",
              "      <th>31_backbone.9.Conv2d_expand1x1</th>\n",
              "      <td>[48, 192, 1, 1]</td>\n",
              "      <td>[128, 192, 14, 14]</td>\n",
              "      <td>9408.0</td>\n",
              "      <td>1806336.0</td>\n",
              "    </tr>\n",
              "    <tr>\n",
              "      <th>32_backbone.9.ReLU_expand1x1_activation</th>\n",
              "      <td>-</td>\n",
              "      <td>[128, 192, 14, 14]</td>\n",
              "      <td>NaN</td>\n",
              "      <td>NaN</td>\n",
              "    </tr>\n",
              "    <tr>\n",
              "      <th>33_backbone.9.Conv2d_expand3x3</th>\n",
              "      <td>[48, 192, 3, 3]</td>\n",
              "      <td>[128, 192, 14, 14]</td>\n",
              "      <td>83136.0</td>\n",
              "      <td>16257024.0</td>\n",
              "    </tr>\n",
              "    <tr>\n",
              "      <th>34_backbone.9.ReLU_expand3x3_activation</th>\n",
              "      <td>-</td>\n",
              "      <td>[128, 192, 14, 14]</td>\n",
              "      <td>NaN</td>\n",
              "      <td>NaN</td>\n",
              "    </tr>\n",
              "    <tr>\n",
              "      <th>35_backbone.10.Conv2d_squeeze</th>\n",
              "      <td>[384, 48, 1, 1]</td>\n",
              "      <td>[128, 48, 14, 14]</td>\n",
              "      <td>18480.0</td>\n",
              "      <td>3612672.0</td>\n",
              "    </tr>\n",
              "    <tr>\n",
              "      <th>36_backbone.10.ReLU_squeeze_activation</th>\n",
              "      <td>-</td>\n",
              "      <td>[128, 48, 14, 14]</td>\n",
              "      <td>NaN</td>\n",
              "      <td>NaN</td>\n",
              "    </tr>\n",
              "    <tr>\n",
              "      <th>37_backbone.10.Conv2d_expand1x1</th>\n",
              "      <td>[48, 192, 1, 1]</td>\n",
              "      <td>[128, 192, 14, 14]</td>\n",
              "      <td>9408.0</td>\n",
              "      <td>1806336.0</td>\n",
              "    </tr>\n",
              "    <tr>\n",
              "      <th>38_backbone.10.ReLU_expand1x1_activation</th>\n",
              "      <td>-</td>\n",
              "      <td>[128, 192, 14, 14]</td>\n",
              "      <td>NaN</td>\n",
              "      <td>NaN</td>\n",
              "    </tr>\n",
              "    <tr>\n",
              "      <th>39_backbone.10.Conv2d_expand3x3</th>\n",
              "      <td>[48, 192, 3, 3]</td>\n",
              "      <td>[128, 192, 14, 14]</td>\n",
              "      <td>83136.0</td>\n",
              "      <td>16257024.0</td>\n",
              "    </tr>\n",
              "    <tr>\n",
              "      <th>40_backbone.10.ReLU_expand3x3_activation</th>\n",
              "      <td>-</td>\n",
              "      <td>[128, 192, 14, 14]</td>\n",
              "      <td>NaN</td>\n",
              "      <td>NaN</td>\n",
              "    </tr>\n",
              "    <tr>\n",
              "      <th>41_backbone.11.Conv2d_squeeze</th>\n",
              "      <td>[384, 64, 1, 1]</td>\n",
              "      <td>[128, 64, 14, 14]</td>\n",
              "      <td>24640.0</td>\n",
              "      <td>4816896.0</td>\n",
              "    </tr>\n",
              "    <tr>\n",
              "      <th>42_backbone.11.ReLU_squeeze_activation</th>\n",
              "      <td>-</td>\n",
              "      <td>[128, 64, 14, 14]</td>\n",
              "      <td>NaN</td>\n",
              "      <td>NaN</td>\n",
              "    </tr>\n",
              "    <tr>\n",
              "      <th>43_backbone.11.Conv2d_expand1x1</th>\n",
              "      <td>[64, 256, 1, 1]</td>\n",
              "      <td>[128, 256, 14, 14]</td>\n",
              "      <td>16640.0</td>\n",
              "      <td>3211264.0</td>\n",
              "    </tr>\n",
              "    <tr>\n",
              "      <th>44_backbone.11.ReLU_expand1x1_activation</th>\n",
              "      <td>-</td>\n",
              "      <td>[128, 256, 14, 14]</td>\n",
              "      <td>NaN</td>\n",
              "      <td>NaN</td>\n",
              "    </tr>\n",
              "    <tr>\n",
              "      <th>45_backbone.11.Conv2d_expand3x3</th>\n",
              "      <td>[64, 256, 3, 3]</td>\n",
              "      <td>[128, 256, 14, 14]</td>\n",
              "      <td>147712.0</td>\n",
              "      <td>28901376.0</td>\n",
              "    </tr>\n",
              "    <tr>\n",
              "      <th>46_backbone.11.ReLU_expand3x3_activation</th>\n",
              "      <td>-</td>\n",
              "      <td>[128, 256, 14, 14]</td>\n",
              "      <td>NaN</td>\n",
              "      <td>NaN</td>\n",
              "    </tr>\n",
              "    <tr>\n",
              "      <th>47_backbone.12.Conv2d_squeeze</th>\n",
              "      <td>[512, 64, 1, 1]</td>\n",
              "      <td>[128, 64, 14, 14]</td>\n",
              "      <td>32832.0</td>\n",
              "      <td>6422528.0</td>\n",
              "    </tr>\n",
              "    <tr>\n",
              "      <th>48_backbone.12.ReLU_squeeze_activation</th>\n",
              "      <td>-</td>\n",
              "      <td>[128, 64, 14, 14]</td>\n",
              "      <td>NaN</td>\n",
              "      <td>NaN</td>\n",
              "    </tr>\n",
              "    <tr>\n",
              "      <th>49_backbone.12.Conv2d_expand1x1</th>\n",
              "      <td>[64, 256, 1, 1]</td>\n",
              "      <td>[128, 256, 14, 14]</td>\n",
              "      <td>16640.0</td>\n",
              "      <td>3211264.0</td>\n",
              "    </tr>\n",
              "    <tr>\n",
              "      <th>50_backbone.12.ReLU_expand1x1_activation</th>\n",
              "      <td>-</td>\n",
              "      <td>[128, 256, 14, 14]</td>\n",
              "      <td>NaN</td>\n",
              "      <td>NaN</td>\n",
              "    </tr>\n",
              "    <tr>\n",
              "      <th>51_backbone.12.Conv2d_expand3x3</th>\n",
              "      <td>[64, 256, 3, 3]</td>\n",
              "      <td>[128, 256, 14, 14]</td>\n",
              "      <td>147712.0</td>\n",
              "      <td>28901376.0</td>\n",
              "    </tr>\n",
              "    <tr>\n",
              "      <th>52_backbone.12.ReLU_expand3x3_activation</th>\n",
              "      <td>-</td>\n",
              "      <td>[128, 256, 14, 14]</td>\n",
              "      <td>NaN</td>\n",
              "      <td>NaN</td>\n",
              "    </tr>\n",
              "    <tr>\n",
              "      <th>53_classifier.Dropout_0</th>\n",
              "      <td>-</td>\n",
              "      <td>[128, 512, 14, 14]</td>\n",
              "      <td>NaN</td>\n",
              "      <td>NaN</td>\n",
              "    </tr>\n",
              "    <tr>\n",
              "      <th>54_classifier.Conv2d_1</th>\n",
              "      <td>[512, 17, 1, 1]</td>\n",
              "      <td>[128, 17, 14, 14]</td>\n",
              "      <td>8721.0</td>\n",
              "      <td>1705984.0</td>\n",
              "    </tr>\n",
              "    <tr>\n",
              "      <th>55_classifier.ReLU_2</th>\n",
              "      <td>-</td>\n",
              "      <td>[128, 17, 14, 14]</td>\n",
              "      <td>NaN</td>\n",
              "      <td>NaN</td>\n",
              "    </tr>\n",
              "    <tr>\n",
              "      <th>56_classifier.AdaptiveAvgPool2d_3</th>\n",
              "      <td>-</td>\n",
              "      <td>[128, 17, 1, 1]</td>\n",
              "      <td>NaN</td>\n",
              "      <td>NaN</td>\n",
              "    </tr>\n",
              "  </tbody>\n",
              "</table>\n",
              "</div>\n",
              "      <button class=\"colab-df-convert\" onclick=\"convertToInteractive('df-03cef50b-b7a7-4cb9-aaa5-8c6277416526')\"\n",
              "              title=\"Convert this dataframe to an interactive table.\"\n",
              "              style=\"display:none;\">\n",
              "        \n",
              "  <svg xmlns=\"http://www.w3.org/2000/svg\" height=\"24px\"viewBox=\"0 0 24 24\"\n",
              "       width=\"24px\">\n",
              "    <path d=\"M0 0h24v24H0V0z\" fill=\"none\"/>\n",
              "    <path d=\"M18.56 5.44l.94 2.06.94-2.06 2.06-.94-2.06-.94-.94-2.06-.94 2.06-2.06.94zm-11 1L8.5 8.5l.94-2.06 2.06-.94-2.06-.94L8.5 2.5l-.94 2.06-2.06.94zm10 10l.94 2.06.94-2.06 2.06-.94-2.06-.94-.94-2.06-.94 2.06-2.06.94z\"/><path d=\"M17.41 7.96l-1.37-1.37c-.4-.4-.92-.59-1.43-.59-.52 0-1.04.2-1.43.59L10.3 9.45l-7.72 7.72c-.78.78-.78 2.05 0 2.83L4 21.41c.39.39.9.59 1.41.59.51 0 1.02-.2 1.41-.59l7.78-7.78 2.81-2.81c.8-.78.8-2.07 0-2.86zM5.41 20L4 18.59l7.72-7.72 1.47 1.35L5.41 20z\"/>\n",
              "  </svg>\n",
              "      </button>\n",
              "      \n",
              "  <style>\n",
              "    .colab-df-container {\n",
              "      display:flex;\n",
              "      flex-wrap:wrap;\n",
              "      gap: 12px;\n",
              "    }\n",
              "\n",
              "    .colab-df-convert {\n",
              "      background-color: #E8F0FE;\n",
              "      border: none;\n",
              "      border-radius: 50%;\n",
              "      cursor: pointer;\n",
              "      display: none;\n",
              "      fill: #1967D2;\n",
              "      height: 32px;\n",
              "      padding: 0 0 0 0;\n",
              "      width: 32px;\n",
              "    }\n",
              "\n",
              "    .colab-df-convert:hover {\n",
              "      background-color: #E2EBFA;\n",
              "      box-shadow: 0px 1px 2px rgba(60, 64, 67, 0.3), 0px 1px 3px 1px rgba(60, 64, 67, 0.15);\n",
              "      fill: #174EA6;\n",
              "    }\n",
              "\n",
              "    [theme=dark] .colab-df-convert {\n",
              "      background-color: #3B4455;\n",
              "      fill: #D2E3FC;\n",
              "    }\n",
              "\n",
              "    [theme=dark] .colab-df-convert:hover {\n",
              "      background-color: #434B5C;\n",
              "      box-shadow: 0px 1px 3px 1px rgba(0, 0, 0, 0.15);\n",
              "      filter: drop-shadow(0px 1px 2px rgba(0, 0, 0, 0.3));\n",
              "      fill: #FFFFFF;\n",
              "    }\n",
              "  </style>\n",
              "\n",
              "      <script>\n",
              "        const buttonEl =\n",
              "          document.querySelector('#df-03cef50b-b7a7-4cb9-aaa5-8c6277416526 button.colab-df-convert');\n",
              "        buttonEl.style.display =\n",
              "          google.colab.kernel.accessAllowed ? 'block' : 'none';\n",
              "\n",
              "        async function convertToInteractive(key) {\n",
              "          const element = document.querySelector('#df-03cef50b-b7a7-4cb9-aaa5-8c6277416526');\n",
              "          const dataTable =\n",
              "            await google.colab.kernel.invokeFunction('convertToInteractive',\n",
              "                                                     [key], {});\n",
              "          if (!dataTable) return;\n",
              "\n",
              "          const docLinkHtml = 'Like what you see? Visit the ' +\n",
              "            '<a target=\"_blank\" href=https://colab.research.google.com/notebooks/data_table.ipynb>data table notebook</a>'\n",
              "            + ' to learn more about interactive tables.';\n",
              "          element.innerHTML = '';\n",
              "          dataTable['output_type'] = 'display_data';\n",
              "          await google.colab.output.renderOutput(dataTable, element);\n",
              "          const docLink = document.createElement('div');\n",
              "          docLink.innerHTML = docLinkHtml;\n",
              "          element.appendChild(docLink);\n",
              "        }\n",
              "      </script>\n",
              "    </div>\n",
              "  </div>\n",
              "  "
            ]
          },
          "metadata": {},
          "execution_count": 91
        }
      ]
    },
    {
      "cell_type": "code",
      "source": [
        "for param in snet.parameters():\n",
        "  param.requires_grad = False\n",
        "\n",
        "for param in snet.classifier.parameters():\n",
        "  param.requires_grad = True"
      ],
      "metadata": {
        "id": "36ey8PITLT75"
      },
      "execution_count": 92,
      "outputs": []
    },
    {
      "cell_type": "code",
      "source": [
        "criterion = torch.nn.CrossEntropyLoss()\n",
        "optimizer = torch.optim.AdamW(snet.parameters(), lr=learning_rate, weight_decay=0.01,)"
      ],
      "metadata": {
        "id": "fmVHF4MQPx2S"
      },
      "execution_count": 93,
      "outputs": []
    },
    {
      "cell_type": "code",
      "source": [
        "torch.cuda.empty_cache()\n",
        "best_acc = 0.0\n",
        "\n",
        "train_losses = []\n",
        "train_accs = []\n",
        "val_accs = []\n",
        "\n",
        "checkpoint_path = \"./flower17_snet_model_checkpoint.pth\"\n",
        "\n",
        "for epoch in tqdm(range(max_iters)):\n",
        "    train_loss, train_accuracy = train(snet, optimizer, criterion, train_loader)\n",
        "    val_accuracy = eval(snet, val_loader)\n",
        "\n",
        "    train_losses.append(train_loss)\n",
        "    train_accs.append(train_accuracy)\n",
        "    val_accs.append(val_accuracy)\n",
        "\n",
        "    print(\"Epoch {}/{} | Train Loss: {:.4f} | Train Accuracy: {:.2f} | Val Accuracy: {:.2f}\".format(epoch+1, max_iters, train_loss, train_accuracy, val_accuracy))\n",
        "    if val_accuracy > best_acc:\n",
        "      best_acc = val_accuracy\n",
        "      torch.save({\n",
        "          \"epoch\": epoch,\n",
        "          \"model_state_dict\": snet.state_dict(),\n",
        "          \"optimizer_state_dict\": optimizer.state_dict(),\n",
        "          \"loss\": train_loss,\n",
        "          \"val_accuracy\": val_accuracy}, checkpoint_path)\n"
      ],
      "metadata": {
        "colab": {
          "base_uri": "https://localhost:8080/"
        },
        "id": "8Anl2LsCM7PB",
        "outputId": "93eebff2-9131-4875-b22e-453383741774"
      },
      "execution_count": 94,
      "outputs": [
        {
          "output_type": "stream",
          "name": "stderr",
          "text": [
            "  2%|▏         | 1/50 [00:08<06:37,  8.12s/it]"
          ]
        },
        {
          "output_type": "stream",
          "name": "stdout",
          "text": [
            "Epoch 1/50 | Train Loss: 2.9377 | Train Accuracy: 0.10 | Val Accuracy: 0.23\n"
          ]
        },
        {
          "output_type": "stream",
          "name": "stderr",
          "text": [
            "\r  4%|▍         | 2/50 [00:17<06:52,  8.59s/it]"
          ]
        },
        {
          "output_type": "stream",
          "name": "stdout",
          "text": [
            "Epoch 2/50 | Train Loss: 2.2542 | Train Accuracy: 0.35 | Val Accuracy: 0.42\n"
          ]
        },
        {
          "output_type": "stream",
          "name": "stderr",
          "text": [
            "\r  6%|▌         | 3/50 [00:25<06:51,  8.76s/it]"
          ]
        },
        {
          "output_type": "stream",
          "name": "stdout",
          "text": [
            "Epoch 3/50 | Train Loss: 1.8169 | Train Accuracy: 0.57 | Val Accuracy: 0.54\n"
          ]
        },
        {
          "output_type": "stream",
          "name": "stderr",
          "text": [
            "\r  8%|▊         | 4/50 [00:34<06:30,  8.49s/it]"
          ]
        },
        {
          "output_type": "stream",
          "name": "stdout",
          "text": [
            "Epoch 4/50 | Train Loss: 1.4692 | Train Accuracy: 0.65 | Val Accuracy: 0.62\n"
          ]
        },
        {
          "output_type": "stream",
          "name": "stderr",
          "text": [
            "\r 10%|█         | 5/50 [00:43<06:29,  8.65s/it]"
          ]
        },
        {
          "output_type": "stream",
          "name": "stdout",
          "text": [
            "Epoch 5/50 | Train Loss: 1.2183 | Train Accuracy: 0.73 | Val Accuracy: 0.64\n"
          ]
        },
        {
          "output_type": "stream",
          "name": "stderr",
          "text": [
            "\r 12%|█▏        | 6/50 [00:51<06:25,  8.76s/it]"
          ]
        },
        {
          "output_type": "stream",
          "name": "stdout",
          "text": [
            "Epoch 6/50 | Train Loss: 0.9647 | Train Accuracy: 0.77 | Val Accuracy: 0.71\n"
          ]
        },
        {
          "output_type": "stream",
          "name": "stderr",
          "text": [
            "\r 14%|█▍        | 7/50 [01:00<06:15,  8.72s/it]"
          ]
        },
        {
          "output_type": "stream",
          "name": "stdout",
          "text": [
            "Epoch 7/50 | Train Loss: 0.7985 | Train Accuracy: 0.84 | Val Accuracy: 0.73\n"
          ]
        },
        {
          "output_type": "stream",
          "name": "stderr",
          "text": [
            "\r 16%|█▌        | 8/50 [01:09<06:02,  8.63s/it]"
          ]
        },
        {
          "output_type": "stream",
          "name": "stdout",
          "text": [
            "Epoch 8/50 | Train Loss: 0.6616 | Train Accuracy: 0.87 | Val Accuracy: 0.77\n"
          ]
        },
        {
          "output_type": "stream",
          "name": "stderr",
          "text": [
            "\r 18%|█▊        | 9/50 [01:18<05:59,  8.77s/it]"
          ]
        },
        {
          "output_type": "stream",
          "name": "stdout",
          "text": [
            "Epoch 9/50 | Train Loss: 0.5655 | Train Accuracy: 0.88 | Val Accuracy: 0.78\n"
          ]
        },
        {
          "output_type": "stream",
          "name": "stderr",
          "text": [
            "\r 20%|██        | 10/50 [01:27<05:53,  8.84s/it]"
          ]
        },
        {
          "output_type": "stream",
          "name": "stdout",
          "text": [
            "Epoch 10/50 | Train Loss: 0.4880 | Train Accuracy: 0.90 | Val Accuracy: 0.79\n"
          ]
        },
        {
          "output_type": "stream",
          "name": "stderr",
          "text": [
            "\r 22%|██▏       | 11/50 [01:35<05:35,  8.60s/it]"
          ]
        },
        {
          "output_type": "stream",
          "name": "stdout",
          "text": [
            "Epoch 11/50 | Train Loss: 0.4471 | Train Accuracy: 0.92 | Val Accuracy: 0.80\n"
          ]
        },
        {
          "output_type": "stream",
          "name": "stderr",
          "text": [
            "\r 24%|██▍       | 12/50 [01:44<05:30,  8.70s/it]"
          ]
        },
        {
          "output_type": "stream",
          "name": "stdout",
          "text": [
            "Epoch 12/50 | Train Loss: 0.4171 | Train Accuracy: 0.93 | Val Accuracy: 0.81\n"
          ]
        },
        {
          "output_type": "stream",
          "name": "stderr",
          "text": [
            "\r 26%|██▌       | 13/50 [01:53<05:26,  8.82s/it]"
          ]
        },
        {
          "output_type": "stream",
          "name": "stdout",
          "text": [
            "Epoch 13/50 | Train Loss: 0.3851 | Train Accuracy: 0.94 | Val Accuracy: 0.81\n"
          ]
        },
        {
          "output_type": "stream",
          "name": "stderr",
          "text": [
            "\r 28%|██▊       | 14/50 [02:01<05:11,  8.65s/it]"
          ]
        },
        {
          "output_type": "stream",
          "name": "stdout",
          "text": [
            "Epoch 14/50 | Train Loss: 0.3444 | Train Accuracy: 0.95 | Val Accuracy: 0.82\n"
          ]
        },
        {
          "output_type": "stream",
          "name": "stderr",
          "text": [
            "\r 30%|███       | 15/50 [02:10<05:03,  8.68s/it]"
          ]
        },
        {
          "output_type": "stream",
          "name": "stdout",
          "text": [
            "Epoch 15/50 | Train Loss: 0.3055 | Train Accuracy: 0.95 | Val Accuracy: 0.82\n"
          ]
        },
        {
          "output_type": "stream",
          "name": "stderr",
          "text": [
            "\r 32%|███▏      | 16/50 [02:19<04:58,  8.79s/it]"
          ]
        },
        {
          "output_type": "stream",
          "name": "stdout",
          "text": [
            "Epoch 16/50 | Train Loss: 0.2802 | Train Accuracy: 0.95 | Val Accuracy: 0.84\n"
          ]
        },
        {
          "output_type": "stream",
          "name": "stderr",
          "text": [
            "\r 34%|███▍      | 17/50 [02:28<04:51,  8.84s/it]"
          ]
        },
        {
          "output_type": "stream",
          "name": "stdout",
          "text": [
            "Epoch 17/50 | Train Loss: 0.2677 | Train Accuracy: 0.96 | Val Accuracy: 0.82\n"
          ]
        },
        {
          "output_type": "stream",
          "name": "stderr",
          "text": [
            "\r 36%|███▌      | 18/50 [02:36<04:36,  8.63s/it]"
          ]
        },
        {
          "output_type": "stream",
          "name": "stdout",
          "text": [
            "Epoch 18/50 | Train Loss: 0.2513 | Train Accuracy: 0.96 | Val Accuracy: 0.83\n"
          ]
        },
        {
          "output_type": "stream",
          "name": "stderr",
          "text": [
            "\r 38%|███▊      | 19/50 [02:45<04:30,  8.74s/it]"
          ]
        },
        {
          "output_type": "stream",
          "name": "stdout",
          "text": [
            "Epoch 19/50 | Train Loss: 0.2383 | Train Accuracy: 0.97 | Val Accuracy: 0.84\n"
          ]
        },
        {
          "output_type": "stream",
          "name": "stderr",
          "text": [
            "\r 40%|████      | 20/50 [02:54<04:25,  8.85s/it]"
          ]
        },
        {
          "output_type": "stream",
          "name": "stdout",
          "text": [
            "Epoch 20/50 | Train Loss: 0.2175 | Train Accuracy: 0.97 | Val Accuracy: 0.83\n"
          ]
        },
        {
          "output_type": "stream",
          "name": "stderr",
          "text": [
            "\r 42%|████▏     | 21/50 [03:02<04:09,  8.61s/it]"
          ]
        },
        {
          "output_type": "stream",
          "name": "stdout",
          "text": [
            "Epoch 21/50 | Train Loss: 0.2034 | Train Accuracy: 0.97 | Val Accuracy: 0.83\n"
          ]
        },
        {
          "output_type": "stream",
          "name": "stderr",
          "text": [
            "\r 44%|████▍     | 22/50 [03:11<04:04,  8.72s/it]"
          ]
        },
        {
          "output_type": "stream",
          "name": "stdout",
          "text": [
            "Epoch 22/50 | Train Loss: 0.1857 | Train Accuracy: 0.98 | Val Accuracy: 0.84\n"
          ]
        },
        {
          "output_type": "stream",
          "name": "stderr",
          "text": [
            "\r 46%|████▌     | 23/50 [03:20<03:57,  8.81s/it]"
          ]
        },
        {
          "output_type": "stream",
          "name": "stdout",
          "text": [
            "Epoch 23/50 | Train Loss: 0.1824 | Train Accuracy: 0.98 | Val Accuracy: 0.82\n"
          ]
        },
        {
          "output_type": "stream",
          "name": "stderr",
          "text": [
            "\r 48%|████▊     | 24/50 [03:29<03:48,  8.80s/it]"
          ]
        },
        {
          "output_type": "stream",
          "name": "stdout",
          "text": [
            "Epoch 24/50 | Train Loss: 0.1744 | Train Accuracy: 0.98 | Val Accuracy: 0.83\n"
          ]
        },
        {
          "output_type": "stream",
          "name": "stderr",
          "text": [
            "\r 50%|█████     | 25/50 [03:37<03:35,  8.63s/it]"
          ]
        },
        {
          "output_type": "stream",
          "name": "stdout",
          "text": [
            "Epoch 25/50 | Train Loss: 0.1632 | Train Accuracy: 0.99 | Val Accuracy: 0.84\n"
          ]
        },
        {
          "output_type": "stream",
          "name": "stderr",
          "text": [
            "\r 52%|█████▏    | 26/50 [03:46<03:29,  8.75s/it]"
          ]
        },
        {
          "output_type": "stream",
          "name": "stdout",
          "text": [
            "Epoch 26/50 | Train Loss: 0.1579 | Train Accuracy: 0.99 | Val Accuracy: 0.84\n"
          ]
        },
        {
          "output_type": "stream",
          "name": "stderr",
          "text": [
            "\r 54%|█████▍    | 27/50 [03:55<03:22,  8.83s/it]"
          ]
        },
        {
          "output_type": "stream",
          "name": "stdout",
          "text": [
            "Epoch 27/50 | Train Loss: 0.1517 | Train Accuracy: 0.99 | Val Accuracy: 0.84\n"
          ]
        },
        {
          "output_type": "stream",
          "name": "stderr",
          "text": [
            "\r 56%|█████▌    | 28/50 [04:03<03:09,  8.63s/it]"
          ]
        },
        {
          "output_type": "stream",
          "name": "stdout",
          "text": [
            "Epoch 28/50 | Train Loss: 0.1340 | Train Accuracy: 0.99 | Val Accuracy: 0.84\n"
          ]
        },
        {
          "output_type": "stream",
          "name": "stderr",
          "text": [
            "\r 58%|█████▊    | 29/50 [04:12<03:02,  8.71s/it]"
          ]
        },
        {
          "output_type": "stream",
          "name": "stdout",
          "text": [
            "Epoch 29/50 | Train Loss: 0.1334 | Train Accuracy: 0.99 | Val Accuracy: 0.83\n"
          ]
        },
        {
          "output_type": "stream",
          "name": "stderr",
          "text": [
            "\r 60%|██████    | 30/50 [04:21<02:55,  8.78s/it]"
          ]
        },
        {
          "output_type": "stream",
          "name": "stdout",
          "text": [
            "Epoch 30/50 | Train Loss: 0.1415 | Train Accuracy: 0.99 | Val Accuracy: 0.84\n"
          ]
        },
        {
          "output_type": "stream",
          "name": "stderr",
          "text": [
            "\r 62%|██████▏   | 31/50 [04:29<02:44,  8.66s/it]"
          ]
        },
        {
          "output_type": "stream",
          "name": "stdout",
          "text": [
            "Epoch 31/50 | Train Loss: 0.1216 | Train Accuracy: 0.99 | Val Accuracy: 0.86\n"
          ]
        },
        {
          "output_type": "stream",
          "name": "stderr",
          "text": [
            "\r 64%|██████▍   | 32/50 [04:38<02:35,  8.66s/it]"
          ]
        },
        {
          "output_type": "stream",
          "name": "stdout",
          "text": [
            "Epoch 32/50 | Train Loss: 0.1140 | Train Accuracy: 1.00 | Val Accuracy: 0.84\n"
          ]
        },
        {
          "output_type": "stream",
          "name": "stderr",
          "text": [
            "\r 66%|██████▌   | 33/50 [04:47<02:28,  8.73s/it]"
          ]
        },
        {
          "output_type": "stream",
          "name": "stdout",
          "text": [
            "Epoch 33/50 | Train Loss: 0.1183 | Train Accuracy: 0.99 | Val Accuracy: 0.84\n"
          ]
        },
        {
          "output_type": "stream",
          "name": "stderr",
          "text": [
            "\r 68%|██████▊   | 34/50 [04:56<02:20,  8.79s/it]"
          ]
        },
        {
          "output_type": "stream",
          "name": "stdout",
          "text": [
            "Epoch 34/50 | Train Loss: 0.1095 | Train Accuracy: 0.99 | Val Accuracy: 0.84\n"
          ]
        },
        {
          "output_type": "stream",
          "name": "stderr",
          "text": [
            "\r 70%|███████   | 35/50 [05:04<02:09,  8.63s/it]"
          ]
        },
        {
          "output_type": "stream",
          "name": "stdout",
          "text": [
            "Epoch 35/50 | Train Loss: 0.1044 | Train Accuracy: 1.00 | Val Accuracy: 0.85\n"
          ]
        },
        {
          "output_type": "stream",
          "name": "stderr",
          "text": [
            "\r 72%|███████▏  | 36/50 [05:13<02:02,  8.73s/it]"
          ]
        },
        {
          "output_type": "stream",
          "name": "stdout",
          "text": [
            "Epoch 36/50 | Train Loss: 0.1010 | Train Accuracy: 1.00 | Val Accuracy: 0.85\n"
          ]
        },
        {
          "output_type": "stream",
          "name": "stderr",
          "text": [
            "\r 74%|███████▍  | 37/50 [05:22<01:54,  8.83s/it]"
          ]
        },
        {
          "output_type": "stream",
          "name": "stdout",
          "text": [
            "Epoch 37/50 | Train Loss: 0.0942 | Train Accuracy: 1.00 | Val Accuracy: 0.84\n"
          ]
        },
        {
          "output_type": "stream",
          "name": "stderr",
          "text": [
            "\r 76%|███████▌  | 38/50 [05:30<01:43,  8.60s/it]"
          ]
        },
        {
          "output_type": "stream",
          "name": "stdout",
          "text": [
            "Epoch 38/50 | Train Loss: 0.0956 | Train Accuracy: 1.00 | Val Accuracy: 0.84\n"
          ]
        },
        {
          "output_type": "stream",
          "name": "stderr",
          "text": [
            "\r 78%|███████▊  | 39/50 [05:39<01:35,  8.68s/it]"
          ]
        },
        {
          "output_type": "stream",
          "name": "stdout",
          "text": [
            "Epoch 39/50 | Train Loss: 0.0905 | Train Accuracy: 1.00 | Val Accuracy: 0.84\n"
          ]
        },
        {
          "output_type": "stream",
          "name": "stderr",
          "text": [
            "\r 80%|████████  | 40/50 [05:48<01:27,  8.75s/it]"
          ]
        },
        {
          "output_type": "stream",
          "name": "stdout",
          "text": [
            "Epoch 40/50 | Train Loss: 0.0837 | Train Accuracy: 1.00 | Val Accuracy: 0.84\n"
          ]
        },
        {
          "output_type": "stream",
          "name": "stderr",
          "text": [
            "\r 82%|████████▏ | 41/50 [05:57<01:18,  8.72s/it]"
          ]
        },
        {
          "output_type": "stream",
          "name": "stdout",
          "text": [
            "Epoch 41/50 | Train Loss: 0.0808 | Train Accuracy: 1.00 | Val Accuracy: 0.84\n"
          ]
        },
        {
          "output_type": "stream",
          "name": "stderr",
          "text": [
            "\r 84%|████████▍ | 42/50 [06:05<01:08,  8.60s/it]"
          ]
        },
        {
          "output_type": "stream",
          "name": "stdout",
          "text": [
            "Epoch 42/50 | Train Loss: 0.0757 | Train Accuracy: 1.00 | Val Accuracy: 0.84\n"
          ]
        },
        {
          "output_type": "stream",
          "name": "stderr",
          "text": [
            "\r 86%|████████▌ | 43/50 [06:14<01:01,  8.73s/it]"
          ]
        },
        {
          "output_type": "stream",
          "name": "stdout",
          "text": [
            "Epoch 43/50 | Train Loss: 0.0773 | Train Accuracy: 1.00 | Val Accuracy: 0.85\n"
          ]
        },
        {
          "output_type": "stream",
          "name": "stderr",
          "text": [
            "\r 88%|████████▊ | 44/50 [06:23<00:52,  8.80s/it]"
          ]
        },
        {
          "output_type": "stream",
          "name": "stdout",
          "text": [
            "Epoch 44/50 | Train Loss: 0.0749 | Train Accuracy: 1.00 | Val Accuracy: 0.86\n"
          ]
        },
        {
          "output_type": "stream",
          "name": "stderr",
          "text": [
            "\r 90%|█████████ | 45/50 [06:31<00:42,  8.59s/it]"
          ]
        },
        {
          "output_type": "stream",
          "name": "stdout",
          "text": [
            "Epoch 45/50 | Train Loss: 0.0715 | Train Accuracy: 1.00 | Val Accuracy: 0.84\n"
          ]
        },
        {
          "output_type": "stream",
          "name": "stderr",
          "text": [
            "\r 92%|█████████▏| 46/50 [06:40<00:34,  8.70s/it]"
          ]
        },
        {
          "output_type": "stream",
          "name": "stdout",
          "text": [
            "Epoch 46/50 | Train Loss: 0.0714 | Train Accuracy: 1.00 | Val Accuracy: 0.84\n"
          ]
        },
        {
          "output_type": "stream",
          "name": "stderr",
          "text": [
            "\r 94%|█████████▍| 47/50 [06:49<00:26,  8.78s/it]"
          ]
        },
        {
          "output_type": "stream",
          "name": "stdout",
          "text": [
            "Epoch 47/50 | Train Loss: 0.0654 | Train Accuracy: 1.00 | Val Accuracy: 0.85\n"
          ]
        },
        {
          "output_type": "stream",
          "name": "stderr",
          "text": [
            "\r 96%|█████████▌| 48/50 [06:57<00:17,  8.64s/it]"
          ]
        },
        {
          "output_type": "stream",
          "name": "stdout",
          "text": [
            "Epoch 48/50 | Train Loss: 0.0683 | Train Accuracy: 1.00 | Val Accuracy: 0.84\n"
          ]
        },
        {
          "output_type": "stream",
          "name": "stderr",
          "text": [
            "\r 98%|█████████▊| 49/50 [07:06<00:08,  8.65s/it]"
          ]
        },
        {
          "output_type": "stream",
          "name": "stdout",
          "text": [
            "Epoch 49/50 | Train Loss: 0.0671 | Train Accuracy: 1.00 | Val Accuracy: 0.84\n"
          ]
        },
        {
          "output_type": "stream",
          "name": "stderr",
          "text": [
            "100%|██████████| 50/50 [07:15<00:00,  8.71s/it]"
          ]
        },
        {
          "output_type": "stream",
          "name": "stdout",
          "text": [
            "Epoch 50/50 | Train Loss: 0.0596 | Train Accuracy: 1.00 | Val Accuracy: 0.84\n"
          ]
        },
        {
          "output_type": "stream",
          "name": "stderr",
          "text": [
            "\n"
          ]
        }
      ]
    },
    {
      "cell_type": "code",
      "source": [
        "# plot loss curves\n",
        "plt.plot(range(len(train_losses)), train_losses, label=\"training\")\n",
        "plt.xlabel(\"epoch\")\n",
        "plt.ylabel(\"average loss\")\n",
        "plt.xlim(0, len(train_losses) - 1)\n",
        "plt.ylim(0, None)\n",
        "plt.legend()\n",
        "plt.grid()\n",
        "plt.show()\n",
        "\n",
        "# plot accuracy curves\n",
        "plt.plot(range(len(train_accs)), train_accs, label=\"training\")\n",
        "plt.plot(range(len(val_accs)), val_accs, label=\"validation\")\n",
        "plt.xlabel(\"epoch\")\n",
        "plt.ylabel(\"accuracy\")\n",
        "plt.xlim(0, len(train_accs) - 1)\n",
        "plt.ylim(0, None)\n",
        "plt.legend()\n",
        "plt.grid()\n",
        "plt.show()"
      ],
      "metadata": {
        "colab": {
          "base_uri": "https://localhost:8080/",
          "height": 881
        },
        "id": "uFfJSInlOn9Q",
        "outputId": "80adfa2e-1205-417b-bb9d-cb2a912846f2"
      },
      "execution_count": 95,
      "outputs": [
        {
          "output_type": "display_data",
          "data": {
            "text/plain": [
              "<Figure size 640x480 with 1 Axes>"
            ],
            "image/png": "[encoded data removed]"
          },
          "metadata": {}
        },
        {
          "output_type": "display_data",
          "data": {
            "text/plain": [
              "<Figure size 640x480 with 1 Axes>"
            ],
            "image/png": "[encoded data removed]"
          },
          "metadata": {}
        }
      ]
    },
    {
      "cell_type": "code",
      "source": [
        "model = SqueezeNet().to(device)\n",
        "model_state_dict_path = torch.load(\"./flower17_snet_model_checkpoint.pth\")\n",
        "model.load_state_dict(model_state_dict_path[\"model_state_dict\"])"
      ],
      "metadata": {
        "colab": {
          "base_uri": "https://localhost:8080/"
        },
        "id": "8Ba0l72mRnJZ",
        "outputId": "21a79e2e-73e6-4e56-e22e-6496e1d4c571"
      },
      "execution_count": 98,
      "outputs": [
        {
          "output_type": "execute_result",
          "data": {
            "text/plain": [
              "<All keys matched successfully>"
            ]
          },
          "metadata": {},
          "execution_count": 98
        }
      ]
    },
    {
      "cell_type": "code",
      "source": [
        "test_accuracy = eval(model, test_loader)\n",
        "print(f\"Test Accuracy: {test_accuracy}\")"
      ],
      "metadata": {
        "colab": {
          "base_uri": "https://localhost:8080/"
        },
        "id": "-NZFfRs7SYvX",
        "outputId": "74bacdff-42c0-4153-c70e-4d513a1330ce"
      },
      "execution_count": 99,
      "outputs": [
        {
          "output_type": "stream",
          "name": "stdout",
          "text": [
            "Test Accuracy: 0.8205882352941176\n"
          ]
        }
      ]
    },
    {
      "cell_type": "code",
      "source": [],
      "metadata": {
        "id": "1E8IuG21SaT0"
      },
      "execution_count": null,
      "outputs": []
    }
  ]
}