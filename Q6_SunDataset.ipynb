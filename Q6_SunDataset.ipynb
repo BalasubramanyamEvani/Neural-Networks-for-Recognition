{
  "nbformat": 4,
  "nbformat_minor": 0,
  "metadata": {
    "colab": {
      "provenance": []
    },
    "kernelspec": {
      "name": "python3",
      "display_name": "Python 3"
    },
    "language_info": {
      "name": "python"
    },
    "accelerator": "GPU",
    "gpuClass": "standard"
  },
  "cells": [
    {
      "cell_type": "code",
      "source": [
        "!nvidia-smi"
      ],
      "metadata": {
        "colab": {
          "base_uri": "https://localhost:8080/"
        },
        "id": "7LnB7FOGKJO0",
        "outputId": "7f6f4c59-dd32-474b-c8a8-112a066cde07"
      },
      "execution_count": null,
      "outputs": [
        {
          "output_type": "stream",
          "name": "stdout",
          "text": [
            "Fri Apr 28 14:34:28 2023       \n",
            "+-----------------------------------------------------------------------------+\n",
            "| NVIDIA-SMI 525.85.12    Driver Version: 525.85.12    CUDA Version: 12.0     |\n",
            "|-------------------------------+----------------------+----------------------+\n",
            "| GPU  Name        Persistence-M| Bus-Id        Disp.A | Volatile Uncorr. ECC |\n",
            "| Fan  Temp  Perf  Pwr:Usage/Cap|         Memory-Usage | GPU-Util  Compute M. |\n",
            "|                               |                      |               MIG M. |\n",
            "|===============================+======================+======================|\n",
            "|   0  Tesla T4            Off  | 00000000:00:04.0 Off |                    0 |\n",
            "| N/A   71C    P0    31W /  70W |    621MiB / 15360MiB |      0%      Default |\n",
            "|                               |                      |                  N/A |\n",
            "+-------------------------------+----------------------+----------------------+\n",
            "                                                                               \n",
            "+-----------------------------------------------------------------------------+\n",
            "| Processes:                                                                  |\n",
            "|  GPU   GI   CI        PID   Type   Process name                  GPU Memory |\n",
            "|        ID   ID                                                   Usage      |\n",
            "|=============================================================================|\n",
            "+-----------------------------------------------------------------------------+\n"
          ]
        }
      ]
    },
    {
      "cell_type": "code",
      "source": [
        "!pip install torchsummaryX"
      ],
      "metadata": {
        "colab": {
          "base_uri": "https://localhost:8080/"
        },
        "id": "3VVwR-bkKMY6",
        "outputId": "1e5c71d4-13ec-4598-f86e-ed0c199c3e3d"
      },
      "execution_count": null,
      "outputs": [
        {
          "output_type": "stream",
          "name": "stdout",
          "text": [
            "Looking in indexes: https://pypi.org/simple, https://us-python.pkg.dev/colab-wheels/public/simple/\n",
            "Requirement already satisfied: torchsummaryX in /usr/local/lib/python3.10/dist-packages (1.3.0)\n",
            "Requirement already satisfied: numpy in /usr/local/lib/python3.10/dist-packages (from torchsummaryX) (1.22.4)\n",
            "Requirement already satisfied: torch in /usr/local/lib/python3.10/dist-packages (from torchsummaryX) (2.0.0+cu118)\n",
            "Requirement already satisfied: pandas in /usr/local/lib/python3.10/dist-packages (from torchsummaryX) (1.5.3)\n",
            "Requirement already satisfied: pytz>=2020.1 in /usr/local/lib/python3.10/dist-packages (from pandas->torchsummaryX) (2022.7.1)\n",
            "Requirement already satisfied: python-dateutil>=2.8.1 in /usr/local/lib/python3.10/dist-packages (from pandas->torchsummaryX) (2.8.2)\n",
            "Requirement already satisfied: typing-extensions in /usr/local/lib/python3.10/dist-packages (from torch->torchsummaryX) (4.5.0)\n",
            "Requirement already satisfied: networkx in /usr/local/lib/python3.10/dist-packages (from torch->torchsummaryX) (3.1)\n",
            "Requirement already satisfied: filelock in /usr/local/lib/python3.10/dist-packages (from torch->torchsummaryX) (3.12.0)\n",
            "Requirement already satisfied: sympy in /usr/local/lib/python3.10/dist-packages (from torch->torchsummaryX) (1.11.1)\n",
            "Requirement already satisfied: triton==2.0.0 in /usr/local/lib/python3.10/dist-packages (from torch->torchsummaryX) (2.0.0)\n",
            "Requirement already satisfied: jinja2 in /usr/local/lib/python3.10/dist-packages (from torch->torchsummaryX) (3.1.2)\n",
            "Requirement already satisfied: lit in /usr/local/lib/python3.10/dist-packages (from triton==2.0.0->torch->torchsummaryX) (16.0.2)\n",
            "Requirement already satisfied: cmake in /usr/local/lib/python3.10/dist-packages (from triton==2.0.0->torch->torchsummaryX) (3.25.2)\n",
            "Requirement already satisfied: six>=1.5 in /usr/local/lib/python3.10/dist-packages (from python-dateutil>=2.8.1->pandas->torchsummaryX) (1.16.0)\n",
            "Requirement already satisfied: MarkupSafe>=2.0 in /usr/local/lib/python3.10/dist-packages (from jinja2->torch->torchsummaryX) (2.1.2)\n",
            "Requirement already satisfied: mpmath>=0.19 in /usr/local/lib/python3.10/dist-packages (from sympy->torch->torchsummaryX) (1.3.0)\n"
          ]
        }
      ]
    },
    {
      "cell_type": "code",
      "source": [
        "import torch\n",
        "import os\n",
        "import gc\n",
        "from tqdm import tqdm\n",
        "import numpy as np\n",
        "import scipy\n",
        "from torchsummaryX import summary\n",
        "import torchvision\n",
        "import matplotlib.pyplot as plt\n",
        "from PIL import Image\n",
        "from torchvision.transforms import transforms"
      ],
      "metadata": {
        "id": "UFeMCONsKOZf"
      },
      "execution_count": 1,
      "outputs": []
    },
    {
      "cell_type": "code",
      "source": [
        "device = \"cuda\" if torch.cuda.is_available() else \"cpu\"\n",
        "print(\"Device: \", device)"
      ],
      "metadata": {
        "colab": {
          "base_uri": "https://localhost:8080/"
        },
        "id": "kIBcVn_PKQ8e",
        "outputId": "10e3c08f-9d07-4d3e-a591-4d12063026c7"
      },
      "execution_count": 2,
      "outputs": [
        {
          "output_type": "stream",
          "name": "stdout",
          "text": [
            "Device:  cuda\n"
          ]
        }
      ]
    },
    {
      "cell_type": "code",
      "source": [
        "class SUNDataset(torch.utils.data.Dataset):\n",
        "    def __init__(self, root_dir, mode=\"train\"):\n",
        "      self.root_dir = root_dir\n",
        "      self.xs = np.loadtxt(os.path.join(root_dir, f\"{mode}_files.txt\"), delimiter=\"\\n\", dtype=\"str\")\n",
        "      self.ys = np.loadtxt(os.path.join(root_dir, f\"{mode}_labels.txt\"), delimiter=\"\\n\")\n",
        "      self.img_transform = transforms.Compose([\n",
        "        transforms.Resize((256, 256)),\n",
        "        transforms.ToTensor(),\n",
        "      ])\n",
        "\n",
        "    def __len__(self):\n",
        "        return len(self.xs)\n",
        "    \n",
        "    def __getitem__(self, idx):\n",
        "      with Image.open(os.path.join(self.root_dir, self.xs[idx])) as img:\n",
        "        img = self.img_transform(img)\n",
        "        if img.shape[0] == 1:\n",
        "          img = img.repeat(3, 1, 1)\n",
        "        label = self.ys[idx]\n",
        "        return img, label"
      ],
      "metadata": {
        "id": "VyXMjEkTKSja"
      },
      "execution_count": 57,
      "outputs": []
    },
    {
      "cell_type": "code",
      "source": [
        "root_dir = \"./data\""
      ],
      "metadata": {
        "id": "dwsExee3MXFT"
      },
      "execution_count": 4,
      "outputs": []
    },
    {
      "cell_type": "code",
      "source": [
        "max_iters = 15\n",
        "batch_size = 128\n",
        "learning_rate = 5e-3"
      ],
      "metadata": {
        "id": "xTokSemNMb56"
      },
      "execution_count": 40,
      "outputs": []
    },
    {
      "cell_type": "code",
      "source": [
        "train_dataset = SUNDataset(root_dir, mode=\"train\")\n",
        "train_loader = torch.utils.data.DataLoader(\n",
        "    train_dataset, \n",
        "    batch_size=batch_size, \n",
        "    shuffle=True,\n",
        "    drop_last=False,\n",
        ")\n",
        "\n",
        "test_dataset = SUNDataset(root_dir, mode=\"test\")\n",
        "test_loader = torch.utils.data.DataLoader(\n",
        "    test_dataset, \n",
        "    batch_size=batch_size, \n",
        "    shuffle=False,\n",
        "    drop_last=False,\n",
        ")"
      ],
      "metadata": {
        "id": "wmJveG8UMRWU"
      },
      "execution_count": 58,
      "outputs": []
    },
    {
      "cell_type": "code",
      "source": [
        "class ConvNet(torch.nn.Module):\n",
        "  def __init__(self, in_channels=3, output_size=8):\n",
        "     super(ConvNet, self).__init__()\n",
        "     self.backbone = torch.nn.Sequential(\n",
        "        torch.nn.Conv2d(in_channels=in_channels, out_channels=64, kernel_size=3, stride=2, padding=3),\n",
        "        torch.nn.BatchNorm2d(64),\n",
        "        torch.nn.GELU(),\n",
        "        torch.nn.Conv2d(in_channels=64, out_channels=128, kernel_size=5, stride=2, padding=3),\n",
        "        torch.nn.BatchNorm2d(128),\n",
        "        torch.nn.GELU()\n",
        "      )\n",
        "     self.head = torch.nn.Sequential(\n",
        "         torch.nn.Flatten(),\n",
        "         torch.nn.Linear(in_features=128*66*66, out_features=128),\n",
        "         torch.nn.BatchNorm1d(num_features=128),\n",
        "         torch.nn.GELU(),\n",
        "         torch.nn.Dropout(p=0.2),\n",
        "         torch.nn.Linear(in_features=128, out_features=output_size)\n",
        "     )\n",
        "  \n",
        "  def forward(self, x):\n",
        "    embedding = self.backbone(x)\n",
        "    out = self.head(embedding)\n",
        "    return out\n"
      ],
      "metadata": {
        "id": "qpskLHhPMnx1"
      },
      "execution_count": 23,
      "outputs": []
    },
    {
      "cell_type": "code",
      "source": [
        "convmodel = ConvNet().to(device)\n",
        "imgs, labels = next(iter(train_loader))\n",
        "summary(convmodel, imgs.to(device))"
      ],
      "metadata": {
        "colab": {
          "base_uri": "https://localhost:8080/",
          "height": 1000
        },
        "id": "itCajcSzMpcA",
        "outputId": "1c13d1f7-7775-489c-d084-42f225e78988"
      },
      "execution_count": 41,
      "outputs": [
        {
          "output_type": "stream",
          "name": "stdout",
          "text": [
            "=======================================================================================\n",
            "                             Kernel Shape         Output Shape      Params  \\\n",
            "Layer                                                                        \n",
            "0_backbone.Conv2d_0         [3, 64, 3, 3]  [128, 64, 130, 130]      1.792k   \n",
            "1_backbone.BatchNorm2d_1             [64]  [128, 64, 130, 130]       128.0   \n",
            "2_backbone.GELU_2                       -  [128, 64, 130, 130]           -   \n",
            "3_backbone.Conv2d_3       [64, 128, 5, 5]   [128, 128, 66, 66]    204.928k   \n",
            "4_backbone.BatchNorm2d_4            [128]   [128, 128, 66, 66]       256.0   \n",
            "5_backbone.GELU_5                       -   [128, 128, 66, 66]           -   \n",
            "6_head.Flatten_0                        -        [128, 557568]           -   \n",
            "7_head.Linear_1             [557568, 128]           [128, 128]  71.368832M   \n",
            "8_head.BatchNorm1d_2                [128]           [128, 128]       256.0   \n",
            "9_head.GELU_3                           -           [128, 128]           -   \n",
            "10_head.Dropout_4                       -           [128, 128]           -   \n",
            "11_head.Linear_5                 [128, 8]             [128, 8]      1.032k   \n",
            "\n",
            "                           Mult-Adds  \n",
            "Layer                                 \n",
            "0_backbone.Conv2d_0         29.2032M  \n",
            "1_backbone.BatchNorm2d_1        64.0  \n",
            "2_backbone.GELU_2                  -  \n",
            "3_backbone.Conv2d_3        892.1088M  \n",
            "4_backbone.BatchNorm2d_4       128.0  \n",
            "5_backbone.GELU_5                  -  \n",
            "6_head.Flatten_0                   -  \n",
            "7_head.Linear_1           71.368704M  \n",
            "8_head.BatchNorm1d_2           128.0  \n",
            "9_head.GELU_3                      -  \n",
            "10_head.Dropout_4                  -  \n",
            "11_head.Linear_5              1.024k  \n",
            "---------------------------------------------------------------------------------------\n",
            "                           Totals\n",
            "Total params           71.577224M\n",
            "Trainable params       71.577224M\n",
            "Non-trainable params          0.0\n",
            "Mult-Adds             992.682048M\n",
            "=======================================================================================\n"
          ]
        },
        {
          "output_type": "stream",
          "name": "stderr",
          "text": [
            "/usr/local/lib/python3.10/dist-packages/torchsummaryX/torchsummaryX.py:101: FutureWarning: The default value of numeric_only in DataFrame.sum is deprecated. In a future version, it will default to False. In addition, specifying 'numeric_only=None' is deprecated. Select only valid columns or specify the value of numeric_only to silence this warning.\n",
            "  df_sum = df.sum()\n"
          ]
        },
        {
          "output_type": "execute_result",
          "data": {
            "text/plain": [
              "                             Kernel Shape         Output Shape      Params  \\\n",
              "Layer                                                                        \n",
              "0_backbone.Conv2d_0         [3, 64, 3, 3]  [128, 64, 130, 130]      1792.0   \n",
              "1_backbone.BatchNorm2d_1             [64]  [128, 64, 130, 130]       128.0   \n",
              "2_backbone.GELU_2                       -  [128, 64, 130, 130]         NaN   \n",
              "3_backbone.Conv2d_3       [64, 128, 5, 5]   [128, 128, 66, 66]    204928.0   \n",
              "4_backbone.BatchNorm2d_4            [128]   [128, 128, 66, 66]       256.0   \n",
              "5_backbone.GELU_5                       -   [128, 128, 66, 66]         NaN   \n",
              "6_head.Flatten_0                        -        [128, 557568]         NaN   \n",
              "7_head.Linear_1             [557568, 128]           [128, 128]  71368832.0   \n",
              "8_head.BatchNorm1d_2                [128]           [128, 128]       256.0   \n",
              "9_head.GELU_3                           -           [128, 128]         NaN   \n",
              "10_head.Dropout_4                       -           [128, 128]         NaN   \n",
              "11_head.Linear_5                 [128, 8]             [128, 8]      1032.0   \n",
              "\n",
              "                            Mult-Adds  \n",
              "Layer                                  \n",
              "0_backbone.Conv2d_0        29203200.0  \n",
              "1_backbone.BatchNorm2d_1         64.0  \n",
              "2_backbone.GELU_2                 NaN  \n",
              "3_backbone.Conv2d_3       892108800.0  \n",
              "4_backbone.BatchNorm2d_4        128.0  \n",
              "5_backbone.GELU_5                 NaN  \n",
              "6_head.Flatten_0                  NaN  \n",
              "7_head.Linear_1            71368704.0  \n",
              "8_head.BatchNorm1d_2            128.0  \n",
              "9_head.GELU_3                     NaN  \n",
              "10_head.Dropout_4                 NaN  \n",
              "11_head.Linear_5               1024.0  "
            ],
            "text/html": [
              "\n",
              "  <div id=\"df-601db4ff-0ba2-4787-b181-d9109072e3f3\">\n",
              "    <div class=\"colab-df-container\">\n",
              "      <div>\n",
              "<style scoped>\n",
              "    .dataframe tbody tr th:only-of-type {\n",
              "        vertical-align: middle;\n",
              "    }\n",
              "\n",
              "    .dataframe tbody tr th {\n",
              "        vertical-align: top;\n",
              "    }\n",
              "\n",
              "    .dataframe thead th {\n",
              "        text-align: right;\n",
              "    }\n",
              "</style>\n",
              "<table border=\"1\" class=\"dataframe\">\n",
              "  <thead>\n",
              "    <tr style=\"text-align: right;\">\n",
              "      <th></th>\n",
              "      <th>Kernel Shape</th>\n",
              "      <th>Output Shape</th>\n",
              "      <th>Params</th>\n",
              "      <th>Mult-Adds</th>\n",
              "    </tr>\n",
              "    <tr>\n",
              "      <th>Layer</th>\n",
              "      <th></th>\n",
              "      <th></th>\n",
              "      <th></th>\n",
              "      <th></th>\n",
              "    </tr>\n",
              "  </thead>\n",
              "  <tbody>\n",
              "    <tr>\n",
              "      <th>0_backbone.Conv2d_0</th>\n",
              "      <td>[3, 64, 3, 3]</td>\n",
              "      <td>[128, 64, 130, 130]</td>\n",
              "      <td>1792.0</td>\n",
              "      <td>29203200.0</td>\n",
              "    </tr>\n",
              "    <tr>\n",
              "      <th>1_backbone.BatchNorm2d_1</th>\n",
              "      <td>[64]</td>\n",
              "      <td>[128, 64, 130, 130]</td>\n",
              "      <td>128.0</td>\n",
              "      <td>64.0</td>\n",
              "    </tr>\n",
              "    <tr>\n",
              "      <th>2_backbone.GELU_2</th>\n",
              "      <td>-</td>\n",
              "      <td>[128, 64, 130, 130]</td>\n",
              "      <td>NaN</td>\n",
              "      <td>NaN</td>\n",
              "    </tr>\n",
              "    <tr>\n",
              "      <th>3_backbone.Conv2d_3</th>\n",
              "      <td>[64, 128, 5, 5]</td>\n",
              "      <td>[128, 128, 66, 66]</td>\n",
              "      <td>204928.0</td>\n",
              "      <td>892108800.0</td>\n",
              "    </tr>\n",
              "    <tr>\n",
              "      <th>4_backbone.BatchNorm2d_4</th>\n",
              "      <td>[128]</td>\n",
              "      <td>[128, 128, 66, 66]</td>\n",
              "      <td>256.0</td>\n",
              "      <td>128.0</td>\n",
              "    </tr>\n",
              "    <tr>\n",
              "      <th>5_backbone.GELU_5</th>\n",
              "      <td>-</td>\n",
              "      <td>[128, 128, 66, 66]</td>\n",
              "      <td>NaN</td>\n",
              "      <td>NaN</td>\n",
              "    </tr>\n",
              "    <tr>\n",
              "      <th>6_head.Flatten_0</th>\n",
              "      <td>-</td>\n",
              "      <td>[128, 557568]</td>\n",
              "      <td>NaN</td>\n",
              "      <td>NaN</td>\n",
              "    </tr>\n",
              "    <tr>\n",
              "      <th>7_head.Linear_1</th>\n",
              "      <td>[557568, 128]</td>\n",
              "      <td>[128, 128]</td>\n",
              "      <td>71368832.0</td>\n",
              "      <td>71368704.0</td>\n",
              "    </tr>\n",
              "    <tr>\n",
              "      <th>8_head.BatchNorm1d_2</th>\n",
              "      <td>[128]</td>\n",
              "      <td>[128, 128]</td>\n",
              "      <td>256.0</td>\n",
              "      <td>128.0</td>\n",
              "    </tr>\n",
              "    <tr>\n",
              "      <th>9_head.GELU_3</th>\n",
              "      <td>-</td>\n",
              "      <td>[128, 128]</td>\n",
              "      <td>NaN</td>\n",
              "      <td>NaN</td>\n",
              "    </tr>\n",
              "    <tr>\n",
              "      <th>10_head.Dropout_4</th>\n",
              "      <td>-</td>\n",
              "      <td>[128, 128]</td>\n",
              "      <td>NaN</td>\n",
              "      <td>NaN</td>\n",
              "    </tr>\n",
              "    <tr>\n",
              "      <th>11_head.Linear_5</th>\n",
              "      <td>[128, 8]</td>\n",
              "      <td>[128, 8]</td>\n",
              "      <td>1032.0</td>\n",
              "      <td>1024.0</td>\n",
              "    </tr>\n",
              "  </tbody>\n",
              "</table>\n",
              "</div>\n",
              "      <button class=\"colab-df-convert\" onclick=\"convertToInteractive('df-601db4ff-0ba2-4787-b181-d9109072e3f3')\"\n",
              "              title=\"Convert this dataframe to an interactive table.\"\n",
              "              style=\"display:none;\">\n",
              "        \n",
              "  <svg xmlns=\"http://www.w3.org/2000/svg\" height=\"24px\"viewBox=\"0 0 24 24\"\n",
              "       width=\"24px\">\n",
              "    <path d=\"M0 0h24v24H0V0z\" fill=\"none\"/>\n",
              "    <path d=\"M18.56 5.44l.94 2.06.94-2.06 2.06-.94-2.06-.94-.94-2.06-.94 2.06-2.06.94zm-11 1L8.5 8.5l.94-2.06 2.06-.94-2.06-.94L8.5 2.5l-.94 2.06-2.06.94zm10 10l.94 2.06.94-2.06 2.06-.94-2.06-.94-.94-2.06-.94 2.06-2.06.94z\"/><path d=\"M17.41 7.96l-1.37-1.37c-.4-.4-.92-.59-1.43-.59-.52 0-1.04.2-1.43.59L10.3 9.45l-7.72 7.72c-.78.78-.78 2.05 0 2.83L4 21.41c.39.39.9.59 1.41.59.51 0 1.02-.2 1.41-.59l7.78-7.78 2.81-2.81c.8-.78.8-2.07 0-2.86zM5.41 20L4 18.59l7.72-7.72 1.47 1.35L5.41 20z\"/>\n",
              "  </svg>\n",
              "      </button>\n",
              "      \n",
              "  <style>\n",
              "    .colab-df-container {\n",
              "      display:flex;\n",
              "      flex-wrap:wrap;\n",
              "      gap: 12px;\n",
              "    }\n",
              "\n",
              "    .colab-df-convert {\n",
              "      background-color: #E8F0FE;\n",
              "      border: none;\n",
              "      border-radius: 50%;\n",
              "      cursor: pointer;\n",
              "      display: none;\n",
              "      fill: #1967D2;\n",
              "      height: 32px;\n",
              "      padding: 0 0 0 0;\n",
              "      width: 32px;\n",
              "    }\n",
              "\n",
              "    .colab-df-convert:hover {\n",
              "      background-color: #E2EBFA;\n",
              "      box-shadow: 0px 1px 2px rgba(60, 64, 67, 0.3), 0px 1px 3px 1px rgba(60, 64, 67, 0.15);\n",
              "      fill: #174EA6;\n",
              "    }\n",
              "\n",
              "    [theme=dark] .colab-df-convert {\n",
              "      background-color: #3B4455;\n",
              "      fill: #D2E3FC;\n",
              "    }\n",
              "\n",
              "    [theme=dark] .colab-df-convert:hover {\n",
              "      background-color: #434B5C;\n",
              "      box-shadow: 0px 1px 3px 1px rgba(0, 0, 0, 0.15);\n",
              "      filter: drop-shadow(0px 1px 2px rgba(0, 0, 0, 0.3));\n",
              "      fill: #FFFFFF;\n",
              "    }\n",
              "  </style>\n",
              "\n",
              "      <script>\n",
              "        const buttonEl =\n",
              "          document.querySelector('#df-601db4ff-0ba2-4787-b181-d9109072e3f3 button.colab-df-convert');\n",
              "        buttonEl.style.display =\n",
              "          google.colab.kernel.accessAllowed ? 'block' : 'none';\n",
              "\n",
              "        async function convertToInteractive(key) {\n",
              "          const element = document.querySelector('#df-601db4ff-0ba2-4787-b181-d9109072e3f3');\n",
              "          const dataTable =\n",
              "            await google.colab.kernel.invokeFunction('convertToInteractive',\n",
              "                                                     [key], {});\n",
              "          if (!dataTable) return;\n",
              "\n",
              "          const docLinkHtml = 'Like what you see? Visit the ' +\n",
              "            '<a target=\"_blank\" href=https://colab.research.google.com/notebooks/data_table.ipynb>data table notebook</a>'\n",
              "            + ' to learn more about interactive tables.';\n",
              "          element.innerHTML = '';\n",
              "          dataTable['output_type'] = 'display_data';\n",
              "          await google.colab.output.renderOutput(dataTable, element);\n",
              "          const docLink = document.createElement('div');\n",
              "          docLink.innerHTML = docLinkHtml;\n",
              "          element.appendChild(docLink);\n",
              "        }\n",
              "      </script>\n",
              "    </div>\n",
              "  </div>\n",
              "  "
            ]
          },
          "metadata": {},
          "execution_count": 41
        }
      ]
    },
    {
      "cell_type": "code",
      "source": [
        "def train(model, optimizer, criterion, dataloader):\n",
        "    model.train()\n",
        "    train_loss = 0.0\n",
        "    train_acc = 0.0\n",
        "    total_instances = 0\n",
        "    for iter, (xb, yb) in enumerate(dataloader):\n",
        "      xb = xb.to(device)\n",
        "      yb = yb.type(torch.LongTensor)\n",
        "      yb = yb.to(device)\n",
        "      \n",
        "      logits = model(xb)\n",
        "      loss = criterion(logits, yb)\n",
        "      \n",
        "      train_loss += loss.item()\n",
        "      train_acc += (torch.argmax(logits, dim=1) == yb).sum().item()\n",
        "      \n",
        "      optimizer.zero_grad()\n",
        "      \n",
        "      loss.backward()\n",
        "      optimizer.step()\n",
        "\n",
        "      total_instances += len(xb)\n",
        "\n",
        "    train_loss /= len(dataloader)\n",
        "    train_acc /= total_instances\n",
        "    return train_loss, train_acc"
      ],
      "metadata": {
        "id": "7HG-TYcOM5fs"
      },
      "execution_count": 42,
      "outputs": []
    },
    {
      "cell_type": "code",
      "source": [
        "criterion = torch.nn.CrossEntropyLoss()\n",
        "optimizer = torch.optim.AdamW(convmodel.parameters(), lr=learning_rate, weight_decay=0.01,)"
      ],
      "metadata": {
        "id": "6tHFO8TwMz7G"
      },
      "execution_count": 43,
      "outputs": []
    },
    {
      "cell_type": "code",
      "source": [
        "torch.cuda.empty_cache()\n",
        "best_acc = 0.0\n",
        "\n",
        "train_losses = []\n",
        "train_accs = []\n",
        "\n",
        "checkpoint_path = \"./sun_model_checkpoint.pth\"\n",
        "\n",
        "for epoch in tqdm(range(max_iters)):\n",
        "    train_loss, train_accuracy = train(convmodel, optimizer, criterion, train_loader)\n",
        "    \n",
        "    train_losses.append(train_loss)\n",
        "    train_accs.append(train_accuracy)\n",
        "\n",
        "    print(\"Epoch {}/{} | Train Loss: {:.4f} | Train Accuracy: {:.2f}\".format(epoch+1, max_iters, train_loss, train_accuracy))\n",
        "    if train_accuracy > best_acc:\n",
        "      best_acc = train_accuracy\n",
        "      torch.save({\n",
        "          \"epoch\": epoch,\n",
        "          \"model_state_dict\": convmodel.state_dict(),\n",
        "          \"optimizer_state_dict\": optimizer.state_dict(),\n",
        "          \"loss\": train_loss,\n",
        "          \"train_acc\": train_accuracy}, checkpoint_path)\n"
      ],
      "metadata": {
        "id": "fePT9Id7M0Zl",
        "colab": {
          "base_uri": "https://localhost:8080/"
        },
        "outputId": "17672088-a90b-4f5b-9342-f5b5e07068e5"
      },
      "execution_count": 44,
      "outputs": [
        {
          "output_type": "stream",
          "name": "stderr",
          "text": [
            "\r  0%|          | 0/15 [00:00<?, ?it/s]"
          ]
        },
        {
          "output_type": "stream",
          "name": "stdout",
          "text": [
            "Epoch 1/15 | Train Loss: 1.4203 | Train Accuracy: 0.49\n"
          ]
        },
        {
          "output_type": "stream",
          "name": "stderr",
          "text": [
            "\r  7%|▋         | 1/15 [00:11<02:40, 11.46s/it]"
          ]
        },
        {
          "output_type": "stream",
          "name": "stdout",
          "text": [
            "Epoch 2/15 | Train Loss: 0.9891 | Train Accuracy: 0.66\n"
          ]
        },
        {
          "output_type": "stream",
          "name": "stderr",
          "text": [
            "\r 13%|█▎        | 2/15 [00:22<02:28, 11.39s/it]"
          ]
        },
        {
          "output_type": "stream",
          "name": "stdout",
          "text": [
            "Epoch 3/15 | Train Loss: 0.8120 | Train Accuracy: 0.73\n"
          ]
        },
        {
          "output_type": "stream",
          "name": "stderr",
          "text": [
            "\r 20%|██        | 3/15 [00:34<02:16, 11.36s/it]"
          ]
        },
        {
          "output_type": "stream",
          "name": "stdout",
          "text": [
            "Epoch 4/15 | Train Loss: 0.7773 | Train Accuracy: 0.74\n"
          ]
        },
        {
          "output_type": "stream",
          "name": "stderr",
          "text": [
            " 33%|███▎      | 5/15 [00:52<01:37,  9.70s/it]"
          ]
        },
        {
          "output_type": "stream",
          "name": "stdout",
          "text": [
            "Epoch 5/15 | Train Loss: 0.7245 | Train Accuracy: 0.74\n",
            "Epoch 6/15 | Train Loss: 0.6204 | Train Accuracy: 0.79\n"
          ]
        },
        {
          "output_type": "stream",
          "name": "stderr",
          "text": [
            "\r 40%|████      | 6/15 [01:03<01:32, 10.25s/it]"
          ]
        },
        {
          "output_type": "stream",
          "name": "stdout",
          "text": [
            "Epoch 7/15 | Train Loss: 0.5922 | Train Accuracy: 0.80\n"
          ]
        },
        {
          "output_type": "stream",
          "name": "stderr",
          "text": [
            "\r 47%|████▋     | 7/15 [01:14<01:25, 10.64s/it]"
          ]
        },
        {
          "output_type": "stream",
          "name": "stdout",
          "text": [
            "Epoch 8/15 | Train Loss: 0.4885 | Train Accuracy: 0.85\n"
          ]
        },
        {
          "output_type": "stream",
          "name": "stderr",
          "text": [
            "\r 53%|█████▎    | 8/15 [01:26<01:15, 10.85s/it]"
          ]
        },
        {
          "output_type": "stream",
          "name": "stdout",
          "text": [
            "Epoch 9/15 | Train Loss: 0.4317 | Train Accuracy: 0.86\n"
          ]
        },
        {
          "output_type": "stream",
          "name": "stderr",
          "text": [
            "\r 60%|██████    | 9/15 [01:37<01:05, 11.00s/it]"
          ]
        },
        {
          "output_type": "stream",
          "name": "stdout",
          "text": [
            "Epoch 10/15 | Train Loss: 0.3431 | Train Accuracy: 0.90\n"
          ]
        },
        {
          "output_type": "stream",
          "name": "stderr",
          "text": [
            "\r 67%|██████▋   | 10/15 [01:48<00:55, 11.02s/it]"
          ]
        },
        {
          "output_type": "stream",
          "name": "stdout",
          "text": [
            "Epoch 11/15 | Train Loss: 0.2894 | Train Accuracy: 0.91\n"
          ]
        },
        {
          "output_type": "stream",
          "name": "stderr",
          "text": [
            "\r 73%|███████▎  | 11/15 [01:59<00:43, 10.96s/it]"
          ]
        },
        {
          "output_type": "stream",
          "name": "stdout",
          "text": [
            "Epoch 12/15 | Train Loss: 0.2406 | Train Accuracy: 0.93\n"
          ]
        },
        {
          "output_type": "stream",
          "name": "stderr",
          "text": [
            " 87%|████████▋ | 13/15 [02:17<00:19,  9.88s/it]"
          ]
        },
        {
          "output_type": "stream",
          "name": "stdout",
          "text": [
            "Epoch 13/15 | Train Loss: 0.2191 | Train Accuracy: 0.93\n",
            "Epoch 14/15 | Train Loss: 0.1908 | Train Accuracy: 0.95\n"
          ]
        },
        {
          "output_type": "stream",
          "name": "stderr",
          "text": [
            "\r 93%|█████████▎| 14/15 [02:28<00:10, 10.30s/it]"
          ]
        },
        {
          "output_type": "stream",
          "name": "stdout",
          "text": [
            "Epoch 15/15 | Train Loss: 0.1547 | Train Accuracy: 0.95\n"
          ]
        },
        {
          "output_type": "stream",
          "name": "stderr",
          "text": [
            "100%|██████████| 15/15 [02:40<00:00, 10.68s/it]\n"
          ]
        }
      ]
    },
    {
      "cell_type": "code",
      "source": [
        "# plot loss curves\n",
        "plt.plot(range(len(train_losses)), train_losses, label=\"training\")\n",
        "plt.xlabel(\"epoch\")\n",
        "plt.ylabel(\"average loss\")\n",
        "plt.xlim(0, len(train_losses) - 1)\n",
        "plt.ylim(0, None)\n",
        "plt.legend()\n",
        "plt.grid()\n",
        "plt.show()\n",
        "\n",
        "# plot accuracy curves\n",
        "plt.plot(range(len(train_accs)), train_accs, label=\"training\")\n",
        "plt.xlabel(\"epoch\")\n",
        "plt.ylabel(\"accuracy\")\n",
        "plt.xlim(0, len(train_accs) - 1)\n",
        "plt.ylim(0, None)\n",
        "plt.legend()\n",
        "plt.grid()\n",
        "plt.show()"
      ],
      "metadata": {
        "id": "kaNIGBO6NLjq",
        "colab": {
          "base_uri": "https://localhost:8080/",
          "height": 881
        },
        "outputId": "20561c96-575e-453d-836a-f2a19d2d2163"
      },
      "execution_count": 45,
      "outputs": [
        {
          "output_type": "display_data",
          "data": {
            "text/plain": [
              "<Figure size 640x480 with 1 Axes>"
            ],
            "image/png": "[encoded data removed]"
          },
          "metadata": {}
        },
        {
          "output_type": "display_data",
          "data": {
            "text/plain": [
              "<Figure size 640x480 with 1 Axes>"
            ],
            "image/png": "[encoded data removed]"
          },
          "metadata": {}
        }
      ]
    },
    {
      "cell_type": "code",
      "source": [
        "model = ConvNet(in_channels=3, output_size=8).to(device)\n",
        "model_state_dict_path = torch.load(checkpoint_path)\n",
        "model.load_state_dict(model_state_dict_path[\"model_state_dict\"])"
      ],
      "metadata": {
        "id": "VyxS11ThNOO6",
        "colab": {
          "base_uri": "https://localhost:8080/"
        },
        "outputId": "3f6b99a4-9bf4-4178-8b85-5a9acf960954"
      },
      "execution_count": 47,
      "outputs": [
        {
          "output_type": "execute_result",
          "data": {
            "text/plain": [
              "<All keys matched successfully>"
            ]
          },
          "metadata": {},
          "execution_count": 47
        }
      ]
    },
    {
      "cell_type": "code",
      "source": [
        "def eval(model, criterion, dataloader):\n",
        "    model.eval()\n",
        "    val_loss = 0.0\n",
        "    val_acc = 0.0\n",
        "    total_instances = 0\n",
        "    with torch.inference_mode():\n",
        "      for i, (xb, yb) in enumerate(dataloader):\n",
        "        xb = xb.to(device)\n",
        "        yb = yb.type(torch.LongTensor)\n",
        "        yb = yb.to(device)\n",
        "        \n",
        "        logits = model(xb)\n",
        "        loss = criterion(logits, yb)\n",
        "        \n",
        "        val_loss += loss.item()\n",
        "        val_acc += (torch.argmax(logits, dim=1) == yb).sum().item()\n",
        "        total_instances += len(xb)\n",
        "\n",
        "    val_loss /= len(dataloader)\n",
        "    val_acc /= total_instances\n",
        "    return val_loss, val_acc\n",
        "\n",
        "_, test_accuracy = eval(model, criterion, test_loader)\n",
        "print(\"SUN Conv Model Test Accuracy: {:.2f}%\".format(test_accuracy))"
      ],
      "metadata": {
        "id": "Ud3OL0EANSFZ",
        "colab": {
          "base_uri": "https://localhost:8080/"
        },
        "outputId": "84059ab5-1469-444d-819f-7e8bac3e8549"
      },
      "execution_count": 61,
      "outputs": [
        {
          "output_type": "stream",
          "name": "stdout",
          "text": [
            "SUN Conv Model Test Accuracy: 0.70%\n"
          ]
        }
      ]
    },
    {
      "cell_type": "code",
      "source": [],
      "metadata": {
        "id": "dvJzNK0HdbUg"
      },
      "execution_count": null,
      "outputs": []
    }
  ]
}